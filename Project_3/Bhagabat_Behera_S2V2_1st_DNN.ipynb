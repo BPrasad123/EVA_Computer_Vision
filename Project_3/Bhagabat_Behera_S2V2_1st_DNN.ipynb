{
  "nbformat": 4,
  "nbformat_minor": 0,
  "metadata": {
    "colab": {
      "name": "Bhagabat Behera S2V2 1st DNN.ipynb",
      "version": "0.3.2",
      "provenance": [],
      "collapsed_sections": []
    },
    "kernelspec": {
      "name": "python3",
      "display_name": "Python 3"
    },
    "accelerator": "GPU"
  },
  "cells": [
    {
      "cell_type": "markdown",
      "metadata": {
        "id": "aNyZv-Ec52ot",
        "colab_type": "text"
      },
      "source": [
        "# **Import Libraries and modules**"
      ]
    },
    {
      "cell_type": "markdown",
      "metadata": {
        "id": "gSkgDwwJ9yhU",
        "colab_type": "text"
      },
      "source": [
        "### Import necessary libraries"
      ]
    },
    {
      "cell_type": "code",
      "metadata": {
        "id": "3m3w1Cw49Zkt",
        "colab_type": "code",
        "colab": {}
      },
      "source": [
        "# https://keras.io/\n",
        "!pip install -q keras\n",
        "import keras"
      ],
      "execution_count": 0,
      "outputs": []
    },
    {
      "cell_type": "code",
      "metadata": {
        "id": "Eso6UHE080D4",
        "colab_type": "code",
        "colab": {}
      },
      "source": [
        "import numpy as np\n",
        "\n",
        "from keras.models import Sequential\n",
        "from keras.layers import Dense, Dropout, Activation, Flatten, Add\n",
        "from keras.layers import Convolution2D, MaxPooling2D, SeparableConv2D, AveragePooling2D\n",
        "from keras.layers.normalization import BatchNormalization\n",
        "from keras.utils import np_utils\n",
        "\n",
        "from keras.datasets import mnist\n"
      ],
      "execution_count": 0,
      "outputs": []
    },
    {
      "cell_type": "markdown",
      "metadata": {
        "id": "zByEi95J86RD",
        "colab_type": "text"
      },
      "source": [
        "### Load pre-shuffled MNIST data into train and test sets"
      ]
    },
    {
      "cell_type": "code",
      "metadata": {
        "id": "7eRM0QWN83PV",
        "colab_type": "code",
        "outputId": "5d8cd33d-5b2d-412d-e2cf-ab4e2fbf8a2d",
        "colab": {
          "base_uri": "https://localhost:8080/",
          "height": 51
        }
      },
      "source": [
        "(X_train, y_train), (X_test, y_test) = mnist.load_data()"
      ],
      "execution_count": 10,
      "outputs": [
        {
          "output_type": "stream",
          "text": [
            "Downloading data from https://s3.amazonaws.com/img-datasets/mnist.npz\n",
            "11493376/11490434 [==============================] - 0s 0us/step\n"
          ],
          "name": "stdout"
        }
      ]
    },
    {
      "cell_type": "code",
      "metadata": {
        "id": "4a4Be72j8-ZC",
        "colab_type": "code",
        "outputId": "c029c8e7-7ac6-41ce-f6fd-49ed82de0e9d",
        "colab": {
          "base_uri": "https://localhost:8080/",
          "height": 303
        }
      },
      "source": [
        "print (X_train.shape)\n",
        "from matplotlib import pyplot as plt\n",
        "%matplotlib inline\n",
        "plt.imshow(X_train[0])"
      ],
      "execution_count": 4,
      "outputs": [
        {
          "output_type": "stream",
          "text": [
            "(60000, 28, 28)\n"
          ],
          "name": "stdout"
        },
        {
          "output_type": "execute_result",
          "data": {
            "text/plain": [
              "<matplotlib.image.AxesImage at 0x7f33a0b7c898>"
            ]
          },
          "metadata": {
            "tags": []
          },
          "execution_count": 4
        },
        {
          "output_type": "display_data",
          "data": {
            "image/png": "[encoded data removed]",
            "text/plain": [
              "<Figure size 432x288 with 1 Axes>"
            ]
          },
          "metadata": {
            "tags": []
          }
        }
      ]
    },
    {
      "cell_type": "code",
      "metadata": {
        "id": "dkmprriw9AnZ",
        "colab_type": "code",
        "colab": {}
      },
      "source": [
        "X_train = X_train.reshape(X_train.shape[0], 28, 28,1)\n",
        "X_test = X_test.reshape(X_test.shape[0], 28, 28,1)"
      ],
      "execution_count": 0,
      "outputs": []
    },
    {
      "cell_type": "code",
      "metadata": {
        "id": "X2m4YS4E9CRh",
        "colab_type": "code",
        "colab": {}
      },
      "source": [
        "X_train = X_train.astype('float32')\n",
        "X_test = X_test.astype('float32')\n",
        "X_train /= 255\n",
        "X_test /= 255"
      ],
      "execution_count": 0,
      "outputs": []
    },
    {
      "cell_type": "code",
      "metadata": {
        "id": "0Mn0vAYD9DvB",
        "colab_type": "code",
        "outputId": "82e5a6fa-df94-4242-b4fd-81e1aa1ffd8f",
        "colab": {
          "base_uri": "https://localhost:8080/",
          "height": 34
        }
      },
      "source": [
        "y_train[:10]"
      ],
      "execution_count": 14,
      "outputs": [
        {
          "output_type": "execute_result",
          "data": {
            "text/plain": [
              "array([5, 0, 4, 1, 9, 2, 1, 3, 1, 4], dtype=uint8)"
            ]
          },
          "metadata": {
            "tags": []
          },
          "execution_count": 14
        }
      ]
    },
    {
      "cell_type": "code",
      "metadata": {
        "id": "ZG8JiXR39FHC",
        "colab_type": "code",
        "colab": {}
      },
      "source": [
        "# Convert 1-dimensional class arrays to 10-dimensional class matrices\n",
        "Y_train = np_utils.to_categorical(y_train, 10)\n",
        "Y_test = np_utils.to_categorical(y_test, 10)"
      ],
      "execution_count": 0,
      "outputs": []
    },
    {
      "cell_type": "code",
      "metadata": {
        "id": "fYlFRvKS9HMB",
        "colab_type": "code",
        "outputId": "4fd58f35-70c4-409d-9d18-93f3f21ec2c2",
        "colab": {
          "base_uri": "https://localhost:8080/",
          "height": 187
        }
      },
      "source": [
        "Y_train[:10]\n"
      ],
      "execution_count": 16,
      "outputs": [
        {
          "output_type": "execute_result",
          "data": {
            "text/plain": [
              "array([[0., 0., 0., 0., 0., 1., 0., 0., 0., 0.],\n",
              "       [1., 0., 0., 0., 0., 0., 0., 0., 0., 0.],\n",
              "       [0., 0., 0., 0., 1., 0., 0., 0., 0., 0.],\n",
              "       [0., 1., 0., 0., 0., 0., 0., 0., 0., 0.],\n",
              "       [0., 0., 0., 0., 0., 0., 0., 0., 0., 1.],\n",
              "       [0., 0., 1., 0., 0., 0., 0., 0., 0., 0.],\n",
              "       [0., 1., 0., 0., 0., 0., 0., 0., 0., 0.],\n",
              "       [0., 0., 0., 1., 0., 0., 0., 0., 0., 0.],\n",
              "       [0., 1., 0., 0., 0., 0., 0., 0., 0., 0.],\n",
              "       [0., 0., 0., 0., 1., 0., 0., 0., 0., 0.]], dtype=float32)"
            ]
          },
          "metadata": {
            "tags": []
          },
          "execution_count": 16
        }
      ]
    },
    {
      "cell_type": "markdown",
      "metadata": {
        "id": "bKvs0sG098-Y",
        "colab_type": "text"
      },
      "source": [
        "### Build the model"
      ]
    },
    {
      "cell_type": "code",
      "metadata": {
        "id": "osKqT73Q9JJB",
        "colab_type": "code",
        "outputId": "52ce5a62-e551-45b2-ec40-2215ab1bf3b6",
        "colab": {
          "base_uri": "https://localhost:8080/",
          "height": 122
        }
      },
      "source": [
        "from keras.layers import Activation\n",
        "model = Sequential()\n",
        "\n",
        " \n",
        "model.add(Convolution2D(23, 3, 3, input_shape=(28,28,1), use_bias=False))  # ChannelSize=26, RF=3\n",
        "model.add(BatchNormalization())\n",
        "model.add(Activation('relu'))\n",
        "model.add(Convolution2D(40, 3, 3, input_shape=(28,28,1), use_bias=False))  # ChannelSize=24, RF=5\n",
        "model.add(BatchNormalization())\n",
        "model.add(Activation('relu'))\n",
        "model.add(Convolution2D(20, 1, activation='relu'))  #ChannelSize=24, RF=5\n",
        "model.add(BatchNormalization())\n",
        "model.add(Activation('relu'))\n",
        "model.add(MaxPooling2D(pool_size=(2, 2)))   # ChannelSize=12, RF=10\n",
        "\n",
        "\n",
        "model.add(Convolution2D(40, 3, 3, activation='relu', use_bias=False))  # ChannelSize=10, RF=12\n",
        "model.add(BatchNormalization())\n",
        "model.add(Activation('relu'))\n",
        "model.add(Convolution2D(10, 1, activation='relu', use_bias=False))  #ChannelSize=10, RF=14\n",
        "model.add(BatchNormalization())\n",
        "model.add(Activation('relu'))\n",
        "model.add(MaxPooling2D(pool_size=(2, 2)))   # ChannelSize=5, RF=28\n",
        "\n",
        "\n",
        "model.add(Convolution2D(10, 5, use_bias=False))\n",
        "model.add(BatchNormalization())\n",
        "\n",
        "\n",
        "model.add(Flatten())\n",
        "model.add(Activation('softmax'))\n"
      ],
      "execution_count": 17,
      "outputs": [
        {
          "output_type": "stream",
          "text": [
            "/usr/local/lib/python3.6/dist-packages/ipykernel_launcher.py:5: UserWarning: Update your `Conv2D` call to the Keras 2 API: `Conv2D(23, (3, 3), input_shape=(28, 28, 1..., use_bias=False)`\n",
            "  \"\"\"\n",
            "/usr/local/lib/python3.6/dist-packages/ipykernel_launcher.py:11: UserWarning: Update your `Conv2D` call to the Keras 2 API: `Conv2D(40, (3, 3), input_shape=(28, 28, 1..., use_bias=False)`\n",
            "  # This is added back by InteractiveShellApp.init_path()\n",
            "/usr/local/lib/python3.6/dist-packages/ipykernel_launcher.py:23: UserWarning: Update your `Conv2D` call to the Keras 2 API: `Conv2D(40, (3, 3), activation=\"relu\", use_bias=False)`\n"
          ],
          "name": "stderr"
        }
      ]
    },
    {
      "cell_type": "code",
      "metadata": {
        "id": "TzdAYg1k9K7Z",
        "colab_type": "code",
        "outputId": "78dbcd52-7717-42eb-d3a0-ead72a93be2e",
        "colab": {
          "base_uri": "https://localhost:8080/",
          "height": 850
        }
      },
      "source": [
        "model.summary()"
      ],
      "execution_count": 28,
      "outputs": [
        {
          "output_type": "stream",
          "text": [
            "_________________________________________________________________\n",
            "Layer (type)                 Output Shape              Param #   \n",
            "=================================================================\n",
            "conv2d_34 (Conv2D)           (None, 26, 26, 23)        207       \n",
            "_________________________________________________________________\n",
            "batch_normalization_34 (Batc (None, 26, 26, 23)        92        \n",
            "_________________________________________________________________\n",
            "activation_34 (Activation)   (None, 26, 26, 23)        0         \n",
            "_________________________________________________________________\n",
            "conv2d_35 (Conv2D)           (None, 24, 24, 40)        8280      \n",
            "_________________________________________________________________\n",
            "batch_normalization_35 (Batc (None, 24, 24, 40)        160       \n",
            "_________________________________________________________________\n",
            "activation_35 (Activation)   (None, 24, 24, 40)        0         \n",
            "_________________________________________________________________\n",
            "conv2d_36 (Conv2D)           (None, 24, 24, 20)        820       \n",
            "_________________________________________________________________\n",
            "batch_normalization_36 (Batc (None, 24, 24, 20)        80        \n",
            "_________________________________________________________________\n",
            "activation_36 (Activation)   (None, 24, 24, 20)        0         \n",
            "_________________________________________________________________\n",
            "max_pooling2d_11 (MaxPooling (None, 12, 12, 20)        0         \n",
            "_________________________________________________________________\n",
            "conv2d_37 (Conv2D)           (None, 10, 10, 40)        7200      \n",
            "_________________________________________________________________\n",
            "batch_normalization_37 (Batc (None, 10, 10, 40)        160       \n",
            "_________________________________________________________________\n",
            "activation_37 (Activation)   (None, 10, 10, 40)        0         \n",
            "_________________________________________________________________\n",
            "conv2d_38 (Conv2D)           (None, 10, 10, 10)        400       \n",
            "_________________________________________________________________\n",
            "batch_normalization_38 (Batc (None, 10, 10, 10)        40        \n",
            "_________________________________________________________________\n",
            "activation_38 (Activation)   (None, 10, 10, 10)        0         \n",
            "_________________________________________________________________\n",
            "max_pooling2d_12 (MaxPooling (None, 5, 5, 10)          0         \n",
            "_________________________________________________________________\n",
            "conv2d_39 (Conv2D)           (None, 1, 1, 10)          2500      \n",
            "_________________________________________________________________\n",
            "batch_normalization_39 (Batc (None, 1, 1, 10)          40        \n",
            "_________________________________________________________________\n",
            "flatten_6 (Flatten)          (None, 10)                0         \n",
            "_________________________________________________________________\n",
            "activation_39 (Activation)   (None, 10)                0         \n",
            "=================================================================\n",
            "Total params: 19,979\n",
            "Trainable params: 19,693\n",
            "Non-trainable params: 286\n",
            "_________________________________________________________________\n"
          ],
          "name": "stdout"
        }
      ]
    },
    {
      "cell_type": "code",
      "metadata": {
        "id": "Zp6SuGrL9M3h",
        "colab_type": "code",
        "colab": {}
      },
      "source": [
        "model.compile(loss='categorical_crossentropy',\n",
        "             optimizer='adam',\n",
        "             metrics=['accuracy'])"
      ],
      "execution_count": 0,
      "outputs": []
    },
    {
      "cell_type": "markdown",
      "metadata": {
        "id": "aFgJM60lDupa",
        "colab_type": "text"
      },
      "source": [
        "### Train the model and take the best model as the validation accuracy fluctuates with every epoch"
      ]
    },
    {
      "cell_type": "code",
      "metadata": {
        "id": "65CuiN7TVRDx",
        "colab_type": "code",
        "outputId": "f86145d7-4b14-4426-99a2-cfcafa434ce1",
        "colab": {
          "base_uri": "https://localhost:8080/",
          "height": 122
        }
      },
      "source": [
        "from google.colab import drive\n",
        "drive.mount('/content/gdrive')"
      ],
      "execution_count": 5,
      "outputs": [
        {
          "output_type": "stream",
          "text": [
            "Go to this URL in a browser: https://accounts.google.com/o/oauth2/auth?client_id=947318989803-6bn6qk8qdgf4n4g3pfee6491hc0brc4i.apps.googleusercontent.com&redirect_uri=urn%3Aietf%3Awg%3Aoauth%3A2.0%3Aoob&scope=email%20https%3A%2F%2Fwww.googleapis.com%2Fauth%2Fdocs.test%20https%3A%2F%2Fwww.googleapis.com%2Fauth%2Fdrive%20https%3A%2F%2Fwww.googleapis.com%2Fauth%2Fdrive.photos.readonly%20https%3A%2F%2Fwww.googleapis.com%2Fauth%2Fpeopleapi.readonly&response_type=code\n",
            "\n",
            "Enter your authorization code:\n",
            "··········\n",
            "Mounted at /content/gdrive\n"
          ],
          "name": "stdout"
        }
      ]
    },
    {
      "cell_type": "code",
      "metadata": {
        "id": "R9FdkFmLVVoe",
        "colab_type": "code",
        "colab": {}
      },
      "source": [
        "!pip install -q h5py pyyaml\n",
        "from keras.models import model_from_json"
      ],
      "execution_count": 0,
      "outputs": []
    },
    {
      "cell_type": "code",
      "metadata": {
        "id": "h0LVvrFzVWZQ",
        "colab_type": "code",
        "outputId": "b02a3724-bbb5-4291-d1fc-8c479265384d",
        "colab": {
          "base_uri": "https://localhost:8080/",
          "height": 34
        }
      },
      "source": [
        "!ls \"/content/gdrive/My Drive/EVA\""
      ],
      "execution_count": 31,
      "outputs": [
        {
          "output_type": "stream",
          "text": [
            "S3  S3V2\n"
          ],
          "name": "stdout"
        }
      ]
    },
    {
      "cell_type": "code",
      "metadata": {
        "id": "gVMPWGIiVZfE",
        "colab_type": "code",
        "colab": {}
      },
      "source": [
        "from keras.callbacks import *\n",
        "filepath=\"/content/gdrive/My Drive/EVA/S3V2/epochs:{epoch:03d}-val_acc:{val_acc:.4f}.hdf5\"\n",
        "checkpoint = ModelCheckpoint(filepath, monitor='val_acc', verbose=1, save_best_only=True, save_weights_only=False, mode='auto')\n"
      ],
      "execution_count": 0,
      "outputs": []
    },
    {
      "cell_type": "code",
      "metadata": {
        "id": "SUa2fDEJVdPt",
        "colab_type": "code",
        "colab": {}
      },
      "source": [
        "callbacks_list = [checkpoint]"
      ],
      "execution_count": 0,
      "outputs": []
    },
    {
      "cell_type": "code",
      "metadata": {
        "id": "NgziiFCt6Lb6",
        "colab_type": "code",
        "outputId": "b12ca1ef-64af-4f9f-c01e-d62911cf7e35",
        "colab": {
          "base_uri": "https://localhost:8080/",
          "height": 1445
        }
      },
      "source": [
        "model.fit(X_train, Y_train, batch_size=32, nb_epoch=20, validation_data=(X_test, Y_test), callbacks=callbacks_list, verbose=1)"
      ],
      "execution_count": 34,
      "outputs": [
        {
          "output_type": "stream",
          "text": [
            "/usr/local/lib/python3.6/dist-packages/ipykernel_launcher.py:1: UserWarning: The `nb_epoch` argument in `fit` has been renamed `epochs`.\n",
            "  \"\"\"Entry point for launching an IPython kernel.\n"
          ],
          "name": "stderr"
        },
        {
          "output_type": "stream",
          "text": [
            "Train on 60000 samples, validate on 10000 samples\n",
            "Epoch 1/20\n",
            "60000/60000 [==============================] - 20s 335us/step - loss: 0.3821 - acc: 0.9363 - val_loss: 0.1168 - val_acc: 0.9863\n",
            "\n",
            "Epoch 00001: val_acc improved from -inf to 0.98630, saving model to /content/gdrive/My Drive/EVA/S3V2/epochs:001-val_acc:0.9863.hdf5\n",
            "Epoch 2/20\n",
            "60000/60000 [==============================] - 18s 301us/step - loss: 0.1532 - acc: 0.9708 - val_loss: 0.0642 - val_acc: 0.9898\n",
            "\n",
            "Epoch 00002: val_acc improved from 0.98630 to 0.98980, saving model to /content/gdrive/My Drive/EVA/S3V2/epochs:002-val_acc:0.9898.hdf5\n",
            "Epoch 3/20\n",
            "60000/60000 [==============================] - 17s 283us/step - loss: 0.1050 - acc: 0.9771 - val_loss: 0.0533 - val_acc: 0.9896\n",
            "\n",
            "Epoch 00003: val_acc did not improve from 0.98980\n",
            "Epoch 4/20\n",
            "60000/60000 [==============================] - 17s 291us/step - loss: 0.0838 - acc: 0.9811 - val_loss: 0.0370 - val_acc: 0.9911\n",
            "\n",
            "Epoch 00004: val_acc improved from 0.98980 to 0.99110, saving model to /content/gdrive/My Drive/EVA/S3V2/epochs:004-val_acc:0.9911.hdf5\n",
            "Epoch 5/20\n",
            "60000/60000 [==============================] - 17s 279us/step - loss: 0.0694 - acc: 0.9834 - val_loss: 0.0382 - val_acc: 0.9916\n",
            "\n",
            "Epoch 00005: val_acc improved from 0.99110 to 0.99160, saving model to /content/gdrive/My Drive/EVA/S3V2/epochs:005-val_acc:0.9916.hdf5\n",
            "Epoch 6/20\n",
            "60000/60000 [==============================] - 17s 285us/step - loss: 0.0588 - acc: 0.9859 - val_loss: 0.0330 - val_acc: 0.9921\n",
            "\n",
            "Epoch 00006: val_acc improved from 0.99160 to 0.99210, saving model to /content/gdrive/My Drive/EVA/S3V2/epochs:006-val_acc:0.9921.hdf5\n",
            "Epoch 7/20\n",
            "60000/60000 [==============================] - 18s 298us/step - loss: 0.0507 - acc: 0.9875 - val_loss: 0.0315 - val_acc: 0.9916\n",
            "\n",
            "Epoch 00007: val_acc did not improve from 0.99210\n",
            "Epoch 8/20\n",
            "60000/60000 [==============================] - 17s 283us/step - loss: 0.0459 - acc: 0.9889 - val_loss: 0.0290 - val_acc: 0.9909\n",
            "\n",
            "Epoch 00008: val_acc did not improve from 0.99210\n",
            "Epoch 9/20\n",
            "60000/60000 [==============================] - 17s 281us/step - loss: 0.0403 - acc: 0.9899 - val_loss: 0.0296 - val_acc: 0.9930\n",
            "\n",
            "Epoch 00009: val_acc improved from 0.99210 to 0.99300, saving model to /content/gdrive/My Drive/EVA/S3V2/epochs:009-val_acc:0.9930.hdf5\n",
            "Epoch 10/20\n",
            "60000/60000 [==============================] - 17s 285us/step - loss: 0.0400 - acc: 0.9897 - val_loss: 0.0355 - val_acc: 0.9900\n",
            "\n",
            "Epoch 00010: val_acc did not improve from 0.99300\n",
            "Epoch 11/20\n",
            "60000/60000 [==============================] - 17s 288us/step - loss: 0.0339 - acc: 0.9915 - val_loss: 0.0279 - val_acc: 0.9924\n",
            "\n",
            "Epoch 00011: val_acc did not improve from 0.99300\n",
            "Epoch 12/20\n",
            "60000/60000 [==============================] - 17s 288us/step - loss: 0.0331 - acc: 0.9908 - val_loss: 0.0297 - val_acc: 0.9914\n",
            "\n",
            "Epoch 00012: val_acc did not improve from 0.99300\n",
            "Epoch 13/20\n",
            "60000/60000 [==============================] - 17s 282us/step - loss: 0.0302 - acc: 0.9921 - val_loss: 0.0342 - val_acc: 0.9893\n",
            "\n",
            "Epoch 00013: val_acc did not improve from 0.99300\n",
            "Epoch 14/20\n",
            "60000/60000 [==============================] - 17s 280us/step - loss: 0.0291 - acc: 0.9922 - val_loss: 0.0244 - val_acc: 0.9921\n",
            "\n",
            "Epoch 00014: val_acc did not improve from 0.99300\n",
            "Epoch 15/20\n",
            "60000/60000 [==============================] - 17s 281us/step - loss: 0.0275 - acc: 0.9929 - val_loss: 0.0250 - val_acc: 0.9914\n",
            "\n",
            "Epoch 00015: val_acc did not improve from 0.99300\n",
            "Epoch 16/20\n",
            "60000/60000 [==============================] - 18s 295us/step - loss: 0.0238 - acc: 0.9937 - val_loss: 0.0257 - val_acc: 0.9921\n",
            "\n",
            "Epoch 00016: val_acc did not improve from 0.99300\n",
            "Epoch 17/20\n",
            "60000/60000 [==============================] - 17s 277us/step - loss: 0.0238 - acc: 0.9936 - val_loss: 0.0250 - val_acc: 0.9923\n",
            "\n",
            "Epoch 00017: val_acc did not improve from 0.99300\n",
            "Epoch 18/20\n",
            "60000/60000 [==============================] - 17s 277us/step - loss: 0.0224 - acc: 0.9942 - val_loss: 0.0251 - val_acc: 0.9917\n",
            "\n",
            "Epoch 00018: val_acc did not improve from 0.99300\n",
            "Epoch 19/20\n",
            "60000/60000 [==============================] - 18s 302us/step - loss: 0.0225 - acc: 0.9940 - val_loss: 0.0242 - val_acc: 0.9924\n",
            "\n",
            "Epoch 00019: val_acc did not improve from 0.99300\n",
            "Epoch 20/20\n",
            "60000/60000 [==============================] - 17s 279us/step - loss: 0.0199 - acc: 0.9946 - val_loss: 0.0241 - val_acc: 0.9934\n",
            "\n",
            "Epoch 00020: val_acc improved from 0.99300 to 0.99340, saving model to /content/gdrive/My Drive/EVA/S3V2/epochs:020-val_acc:0.9934.hdf5\n"
          ],
          "name": "stdout"
        },
        {
          "output_type": "execute_result",
          "data": {
            "text/plain": [
              "<keras.callbacks.History at 0x7f322469b518>"
            ]
          },
          "metadata": {
            "tags": []
          },
          "execution_count": 34
        }
      ]
    },
    {
      "cell_type": "code",
      "metadata": {
        "id": "zkkUwwb6swp0",
        "colab_type": "code",
        "colab": {
          "base_uri": "https://localhost:8080/",
          "height": 3505
        },
        "outputId": "37b32769-3e25-4de6-c7bf-96aa5ea4d193"
      },
      "source": [
        "model.fit(X_train, Y_train, batch_size=32, nb_epoch=50, validation_data=(X_test, Y_test), callbacks=callbacks_list, verbose=1)"
      ],
      "execution_count": 35,
      "outputs": [
        {
          "output_type": "stream",
          "text": [
            "Train on 60000 samples, validate on 10000 samples\n",
            "Epoch 1/50\n",
            "  608/60000 [..............................] - ETA: 17s - loss: 0.0104 - acc: 0.9967"
          ],
          "name": "stdout"
        },
        {
          "output_type": "stream",
          "text": [
            "/usr/local/lib/python3.6/dist-packages/ipykernel_launcher.py:1: UserWarning: The `nb_epoch` argument in `fit` has been renamed `epochs`.\n",
            "  \"\"\"Entry point for launching an IPython kernel.\n"
          ],
          "name": "stderr"
        },
        {
          "output_type": "stream",
          "text": [
            "60000/60000 [==============================] - 17s 278us/step - loss: 0.0199 - acc: 0.9948 - val_loss: 0.0237 - val_acc: 0.9925\n",
            "\n",
            "Epoch 00001: val_acc did not improve from 0.99340\n",
            "Epoch 2/50\n",
            "60000/60000 [==============================] - 17s 279us/step - loss: 0.0189 - acc: 0.9949 - val_loss: 0.0233 - val_acc: 0.9929\n",
            "\n",
            "Epoch 00002: val_acc did not improve from 0.99340\n",
            "Epoch 3/50\n",
            "60000/60000 [==============================] - 17s 279us/step - loss: 0.0168 - acc: 0.9956 - val_loss: 0.0274 - val_acc: 0.9915\n",
            "\n",
            "Epoch 00003: val_acc did not improve from 0.99340\n",
            "Epoch 4/50\n",
            "60000/60000 [==============================] - 18s 293us/step - loss: 0.0170 - acc: 0.9955 - val_loss: 0.0261 - val_acc: 0.9921\n",
            "\n",
            "Epoch 00004: val_acc did not improve from 0.99340\n",
            "Epoch 5/50\n",
            "60000/60000 [==============================] - 17s 278us/step - loss: 0.0170 - acc: 0.9955 - val_loss: 0.0204 - val_acc: 0.9932\n",
            "\n",
            "Epoch 00005: val_acc did not improve from 0.99340\n",
            "Epoch 6/50\n",
            "60000/60000 [==============================] - 17s 280us/step - loss: 0.0168 - acc: 0.9956 - val_loss: 0.0226 - val_acc: 0.9925\n",
            "\n",
            "Epoch 00006: val_acc did not improve from 0.99340\n",
            "Epoch 7/50\n",
            "60000/60000 [==============================] - 17s 279us/step - loss: 0.0147 - acc: 0.9963 - val_loss: 0.0248 - val_acc: 0.9920\n",
            "\n",
            "Epoch 00007: val_acc did not improve from 0.99340\n",
            "Epoch 8/50\n",
            "60000/60000 [==============================] - 17s 287us/step - loss: 0.0152 - acc: 0.9957 - val_loss: 0.0207 - val_acc: 0.9936\n",
            "\n",
            "Epoch 00008: val_acc improved from 0.99340 to 0.99360, saving model to /content/gdrive/My Drive/EVA/S3V2/epochs:008-val_acc:0.9936.hdf5\n",
            "Epoch 9/50\n",
            "60000/60000 [==============================] - 17s 286us/step - loss: 0.0141 - acc: 0.9964 - val_loss: 0.0225 - val_acc: 0.9924\n",
            "\n",
            "Epoch 00009: val_acc did not improve from 0.99360\n",
            "Epoch 10/50\n",
            "60000/60000 [==============================] - 17s 279us/step - loss: 0.0144 - acc: 0.9960 - val_loss: 0.0214 - val_acc: 0.9934\n",
            "\n",
            "Epoch 00010: val_acc did not improve from 0.99360\n",
            "Epoch 11/50\n",
            "60000/60000 [==============================] - 17s 278us/step - loss: 0.0127 - acc: 0.9966 - val_loss: 0.0213 - val_acc: 0.9933\n",
            "\n",
            "Epoch 00011: val_acc did not improve from 0.99360\n",
            "Epoch 12/50\n",
            "60000/60000 [==============================] - 17s 278us/step - loss: 0.0128 - acc: 0.9965 - val_loss: 0.0221 - val_acc: 0.9932\n",
            "\n",
            "Epoch 00012: val_acc did not improve from 0.99360\n",
            "Epoch 13/50\n",
            "60000/60000 [==============================] - 18s 296us/step - loss: 0.0125 - acc: 0.9966 - val_loss: 0.0280 - val_acc: 0.9914\n",
            "\n",
            "Epoch 00013: val_acc did not improve from 0.99360\n",
            "Epoch 14/50\n",
            "60000/60000 [==============================] - 17s 278us/step - loss: 0.0126 - acc: 0.9966 - val_loss: 0.0247 - val_acc: 0.9915\n",
            "\n",
            "Epoch 00014: val_acc did not improve from 0.99360\n",
            "Epoch 15/50\n",
            "60000/60000 [==============================] - 18s 302us/step - loss: 0.0117 - acc: 0.9969 - val_loss: 0.0241 - val_acc: 0.9930\n",
            "\n",
            "Epoch 00015: val_acc did not improve from 0.99360\n",
            "Epoch 16/50\n",
            "60000/60000 [==============================] - 18s 305us/step - loss: 0.0111 - acc: 0.9971 - val_loss: 0.0234 - val_acc: 0.9930\n",
            "\n",
            "Epoch 00016: val_acc did not improve from 0.99360\n",
            "Epoch 17/50\n",
            "60000/60000 [==============================] - 17s 285us/step - loss: 0.0107 - acc: 0.9973 - val_loss: 0.0249 - val_acc: 0.9928\n",
            "\n",
            "Epoch 00017: val_acc did not improve from 0.99360\n",
            "Epoch 18/50\n",
            "60000/60000 [==============================] - 18s 304us/step - loss: 0.0117 - acc: 0.9968 - val_loss: 0.0258 - val_acc: 0.9919\n",
            "\n",
            "Epoch 00018: val_acc did not improve from 0.99360\n",
            "Epoch 19/50\n",
            "60000/60000 [==============================] - 17s 284us/step - loss: 0.0109 - acc: 0.9969 - val_loss: 0.0214 - val_acc: 0.9925\n",
            "\n",
            "Epoch 00019: val_acc did not improve from 0.99360\n",
            "Epoch 20/50\n",
            "60000/60000 [==============================] - 17s 283us/step - loss: 0.0092 - acc: 0.9979 - val_loss: 0.0213 - val_acc: 0.9935\n",
            "\n",
            "Epoch 00020: val_acc did not improve from 0.99360\n",
            "Epoch 21/50\n",
            "60000/60000 [==============================] - 17s 284us/step - loss: 0.0099 - acc: 0.9975 - val_loss: 0.0253 - val_acc: 0.9923\n",
            "\n",
            "Epoch 00021: val_acc did not improve from 0.99360\n",
            "Epoch 22/50\n",
            "60000/60000 [==============================] - 18s 295us/step - loss: 0.0100 - acc: 0.9975 - val_loss: 0.0250 - val_acc: 0.9927\n",
            "\n",
            "Epoch 00022: val_acc did not improve from 0.99360\n",
            "Epoch 23/50\n",
            "60000/60000 [==============================] - 17s 289us/step - loss: 0.0104 - acc: 0.9972 - val_loss: 0.0241 - val_acc: 0.9926\n",
            "\n",
            "Epoch 00023: val_acc did not improve from 0.99360\n",
            "Epoch 24/50\n",
            "60000/60000 [==============================] - 17s 283us/step - loss: 0.0101 - acc: 0.9972 - val_loss: 0.0211 - val_acc: 0.9935\n",
            "\n",
            "Epoch 00024: val_acc did not improve from 0.99360\n",
            "Epoch 25/50\n",
            "60000/60000 [==============================] - 17s 283us/step - loss: 0.0094 - acc: 0.9975 - val_loss: 0.0230 - val_acc: 0.9934\n",
            "\n",
            "Epoch 00025: val_acc did not improve from 0.99360\n",
            "Epoch 26/50\n",
            "60000/60000 [==============================] - 17s 283us/step - loss: 0.0094 - acc: 0.9974 - val_loss: 0.0286 - val_acc: 0.9911\n",
            "\n",
            "Epoch 00026: val_acc did not improve from 0.99360\n",
            "Epoch 27/50\n",
            "60000/60000 [==============================] - 18s 300us/step - loss: 0.0092 - acc: 0.9975 - val_loss: 0.0244 - val_acc: 0.9922\n",
            "\n",
            "Epoch 00027: val_acc did not improve from 0.99360\n",
            "Epoch 28/50\n",
            "60000/60000 [==============================] - 17s 283us/step - loss: 0.0092 - acc: 0.9975 - val_loss: 0.0216 - val_acc: 0.9940\n",
            "\n",
            "Epoch 00028: val_acc improved from 0.99360 to 0.99400, saving model to /content/gdrive/My Drive/EVA/S3V2/epochs:028-val_acc:0.9940.hdf5\n",
            "Epoch 29/50\n",
            "60000/60000 [==============================] - 17s 285us/step - loss: 0.0081 - acc: 0.9978 - val_loss: 0.0239 - val_acc: 0.9931\n",
            "\n",
            "Epoch 00029: val_acc did not improve from 0.99400\n",
            "Epoch 30/50\n",
            "60000/60000 [==============================] - 17s 283us/step - loss: 0.0084 - acc: 0.9976 - val_loss: 0.0245 - val_acc: 0.9926\n",
            "\n",
            "Epoch 00030: val_acc did not improve from 0.99400\n",
            "Epoch 31/50\n",
            "60000/60000 [==============================] - 17s 284us/step - loss: 0.0077 - acc: 0.9981 - val_loss: 0.0260 - val_acc: 0.9920\n",
            "\n",
            "Epoch 00031: val_acc did not improve from 0.99400\n",
            "Epoch 32/50\n",
            "60000/60000 [==============================] - 18s 301us/step - loss: 0.0090 - acc: 0.9973 - val_loss: 0.0241 - val_acc: 0.9924\n",
            "\n",
            "Epoch 00032: val_acc did not improve from 0.99400\n",
            "Epoch 33/50\n",
            "60000/60000 [==============================] - 18s 307us/step - loss: 0.0084 - acc: 0.9976 - val_loss: 0.0218 - val_acc: 0.9936\n",
            "\n",
            "Epoch 00033: val_acc did not improve from 0.99400\n",
            "Epoch 34/50\n",
            "60000/60000 [==============================] - 17s 283us/step - loss: 0.0076 - acc: 0.9979 - val_loss: 0.0248 - val_acc: 0.9928\n",
            "\n",
            "Epoch 00034: val_acc did not improve from 0.99400\n",
            "Epoch 35/50\n",
            "60000/60000 [==============================] - 17s 285us/step - loss: 0.0073 - acc: 0.9981 - val_loss: 0.0259 - val_acc: 0.9926\n",
            "\n",
            "Epoch 00035: val_acc did not improve from 0.99400\n",
            "Epoch 36/50\n",
            "60000/60000 [==============================] - 18s 306us/step - loss: 0.0078 - acc: 0.9980 - val_loss: 0.0235 - val_acc: 0.9931\n",
            "\n",
            "Epoch 00036: val_acc did not improve from 0.99400\n",
            "Epoch 37/50\n",
            "60000/60000 [==============================] - 17s 285us/step - loss: 0.0069 - acc: 0.9982 - val_loss: 0.0260 - val_acc: 0.9934\n",
            "\n",
            "Epoch 00037: val_acc did not improve from 0.99400\n",
            "Epoch 38/50\n",
            "60000/60000 [==============================] - 17s 283us/step - loss: 0.0071 - acc: 0.9980 - val_loss: 0.0232 - val_acc: 0.9928\n",
            "\n",
            "Epoch 00038: val_acc did not improve from 0.99400\n",
            "Epoch 39/50\n",
            "60000/60000 [==============================] - 17s 285us/step - loss: 0.0072 - acc: 0.9979 - val_loss: 0.0237 - val_acc: 0.9934\n",
            "\n",
            "Epoch 00039: val_acc did not improve from 0.99400\n",
            "Epoch 40/50\n",
            "60000/60000 [==============================] - 17s 285us/step - loss: 0.0070 - acc: 0.9981 - val_loss: 0.0262 - val_acc: 0.9921\n",
            "\n",
            "Epoch 00040: val_acc did not improve from 0.99400\n",
            "Epoch 41/50\n",
            "60000/60000 [==============================] - 18s 302us/step - loss: 0.0061 - acc: 0.9984 - val_loss: 0.0252 - val_acc: 0.9922\n",
            "\n",
            "Epoch 00041: val_acc did not improve from 0.99400\n",
            "Epoch 42/50\n",
            "60000/60000 [==============================] - 17s 285us/step - loss: 0.0063 - acc: 0.9985 - val_loss: 0.0214 - val_acc: 0.9939\n",
            "\n",
            "Epoch 00042: val_acc did not improve from 0.99400\n",
            "Epoch 43/50\n",
            "60000/60000 [==============================] - 17s 285us/step - loss: 0.0075 - acc: 0.9978 - val_loss: 0.0223 - val_acc: 0.9927\n",
            "\n",
            "Epoch 00043: val_acc did not improve from 0.99400\n",
            "Epoch 44/50\n",
            "60000/60000 [==============================] - 17s 285us/step - loss: 0.0059 - acc: 0.9984 - val_loss: 0.0209 - val_acc: 0.9935\n",
            "\n",
            "Epoch 00044: val_acc did not improve from 0.99400\n",
            "Epoch 45/50\n",
            "60000/60000 [==============================] - 17s 292us/step - loss: 0.0064 - acc: 0.9981 - val_loss: 0.0233 - val_acc: 0.9932\n",
            "\n",
            "Epoch 00045: val_acc did not improve from 0.99400\n",
            "Epoch 46/50\n",
            "60000/60000 [==============================] - 18s 297us/step - loss: 0.0061 - acc: 0.9984 - val_loss: 0.0242 - val_acc: 0.9929\n",
            "\n",
            "Epoch 00046: val_acc did not improve from 0.99400\n",
            "Epoch 47/50\n",
            "60000/60000 [==============================] - 17s 285us/step - loss: 0.0063 - acc: 0.9984 - val_loss: 0.0234 - val_acc: 0.9931\n",
            "\n",
            "Epoch 00047: val_acc did not improve from 0.99400\n",
            "Epoch 48/50\n",
            "60000/60000 [==============================] - 17s 285us/step - loss: 0.0063 - acc: 0.9981 - val_loss: 0.0264 - val_acc: 0.9914\n",
            "\n",
            "Epoch 00048: val_acc did not improve from 0.99400\n",
            "Epoch 49/50\n",
            "60000/60000 [==============================] - 17s 285us/step - loss: 0.0059 - acc: 0.9985 - val_loss: 0.0255 - val_acc: 0.9919\n",
            "\n",
            "Epoch 00049: val_acc did not improve from 0.99400\n",
            "Epoch 50/50\n",
            "60000/60000 [==============================] - 18s 300us/step - loss: 0.0057 - acc: 0.9985 - val_loss: 0.0240 - val_acc: 0.9929\n",
            "\n",
            "Epoch 00050: val_acc did not improve from 0.99400\n"
          ],
          "name": "stdout"
        },
        {
          "output_type": "execute_result",
          "data": {
            "text/plain": [
              "<keras.callbacks.History at 0x7f3223ac45f8>"
            ]
          },
          "metadata": {
            "tags": []
          },
          "execution_count": 35
        }
      ]
    },
    {
      "cell_type": "code",
      "metadata": {
        "id": "aYp437rAA7ng",
        "colab_type": "code",
        "colab": {}
      },
      "source": [
        "adam = keras.optimizers.Adam()\n",
        "def get_lr_metric(optimizer):\n",
        "    def lr(y_true, y_pred):\n",
        "        return optimizer.lr\n",
        "    return lr\n",
        "\n",
        "lr_metric = get_lr_metric(adam)"
      ],
      "execution_count": 0,
      "outputs": []
    },
    {
      "cell_type": "code",
      "metadata": {
        "id": "3kfbjrCOGz-u",
        "colab_type": "code",
        "colab": {}
      },
      "source": [
        "from keras.models import load_model\n",
        "\n",
        "modelPath = r'/content/gdrive/My Drive/EVA/S3V2/epochs:028-val_acc:0.9940.hdf5'\n",
        "model = load_model(modelPath, custom_objects={'lr':lr_metric})"
      ],
      "execution_count": 0,
      "outputs": []
    },
    {
      "cell_type": "markdown",
      "metadata": {
        "id": "0HmIoAW8DzJ3",
        "colab_type": "text"
      },
      "source": [
        "### Evaluate the model"
      ]
    },
    {
      "cell_type": "code",
      "metadata": {
        "id": "AtsH-lLk-eLb",
        "colab_type": "code",
        "colab": {}
      },
      "source": [
        "score = model.evaluate(X_test, Y_test, verbose=0)"
      ],
      "execution_count": 0,
      "outputs": []
    },
    {
      "cell_type": "code",
      "metadata": {
        "id": "mkX8JMv79q9r",
        "colab_type": "code",
        "outputId": "09b45e0b-a309-4233-c6ca-854503a288c6",
        "colab": {
          "base_uri": "https://localhost:8080/",
          "height": 34
        }
      },
      "source": [
        "print(score)"
      ],
      "execution_count": 0,
      "outputs": [
        {
          "output_type": "stream",
          "text": [
            "[0.019787834308715536, 0.9946]\n"
          ],
          "name": "stdout"
        }
      ]
    },
    {
      "cell_type": "code",
      "metadata": {
        "id": "OCWoJkwE9suh",
        "colab_type": "code",
        "colab": {}
      },
      "source": [
        "y_pred = model.predict(X_test)"
      ],
      "execution_count": 0,
      "outputs": []
    },
    {
      "cell_type": "code",
      "metadata": {
        "id": "Ym7iCFBm9uBs",
        "colab_type": "code",
        "outputId": "49f939cb-01a4-4a4f-a4ae-e101bf4f4571",
        "colab": {
          "base_uri": "https://localhost:8080/",
          "height": 493
        }
      },
      "source": [
        "print(y_pred[:9])\n",
        "print(y_test[:9])"
      ],
      "execution_count": 25,
      "outputs": [
        {
          "output_type": "stream",
          "text": [
            "[[1.81725667e-07 1.58549381e-06 5.64555364e-07 8.16708621e-08\n",
            "  1.36709662e-06 4.81831961e-08 7.88918624e-06 9.99988198e-01\n",
            "  1.34838951e-09 1.10078489e-07]\n",
            " [4.06789150e-05 2.55228679e-05 9.99918580e-01 1.58213240e-07\n",
            "  4.66819188e-08 1.17109333e-09 2.48312449e-06 6.09049437e-07\n",
            "  9.78476322e-09 1.20505856e-05]\n",
            " [3.60907802e-06 9.99981403e-01 1.18491414e-06 4.34050889e-07\n",
            "  2.30980072e-06 4.22877292e-06 2.23643315e-06 4.08121650e-06\n",
            "  1.01179225e-07 3.31977020e-07]\n",
            " [9.99872923e-01 5.99545592e-06 1.85917415e-07 1.08889899e-05\n",
            "  1.06397074e-05 1.26344848e-05 8.80411426e-06 3.00818683e-05\n",
            "  4.72187567e-05 5.46360980e-07]\n",
            " [8.05552077e-07 3.98691668e-07 4.41553247e-08 2.39804422e-07\n",
            "  9.99998450e-01 2.32078996e-08 2.59033222e-08 3.27793437e-09\n",
            "  7.47517319e-08 1.52910822e-08]\n",
            " [2.64481901e-06 9.99956131e-01 1.24357130e-05 3.34053567e-07\n",
            "  5.73517946e-06 1.54867928e-06 5.21846550e-06 1.40789762e-05\n",
            "  2.23680019e-07 1.72215266e-06]\n",
            " [8.81455395e-11 5.03499268e-06 1.95510961e-06 1.95707561e-10\n",
            "  9.99985814e-01 4.43169341e-08 1.22948194e-07 1.03863762e-07\n",
            "  6.30451223e-06 5.65714402e-07]\n",
            " [2.59293884e-08 2.37487896e-09 3.78034798e-07 7.31526839e-09\n",
            "  1.73005174e-05 6.28223806e-10 1.84864424e-09 5.22970467e-08\n",
            "  1.94504555e-05 9.99962807e-01]\n",
            " [3.18472230e-05 5.35267209e-05 1.40579450e-05 2.61192272e-05\n",
            "  3.86350475e-05 4.30881530e-01 5.22241414e-01 4.15301096e-04\n",
            "  4.62974049e-02 1.28142915e-07]]\n",
            "[7 2 1 0 4 1 4 9 5]\n"
          ],
          "name": "stdout"
        }
      ]
    },
    {
      "cell_type": "code",
      "metadata": {
        "id": "CT--y98_dr2T",
        "colab_type": "code",
        "colab": {}
      },
      "source": [
        "layer_dict = dict([(layer.name, layer) for layer in model.layers])"
      ],
      "execution_count": 0,
      "outputs": []
    },
    {
      "cell_type": "code",
      "metadata": {
        "id": "2GY4Upv4dsUR",
        "colab_type": "code",
        "outputId": "01caf254-36d3-4404-d3d2-5bea9d469a2c",
        "colab": {
          "base_uri": "https://localhost:8080/",
          "height": 837
        }
      },
      "source": [
        "import numpy as np\n",
        "from matplotlib import pyplot as plt\n",
        "from keras import backend as K\n",
        "%matplotlib inline\n",
        "# util function to convert a tensor into a valid image\n",
        "def deprocess_image(x):\n",
        "    # normalize tensor: center on 0., ensure std is 0.1\n",
        "    x -= x.mean()\n",
        "    x /= (x.std() + 1e-5)\n",
        "    x *= 0.1\n",
        "\n",
        "    # clip to [0, 1]\n",
        "    x += 0.5\n",
        "    x = np.clip(x, 0, 1)\n",
        "\n",
        "    # convert to RGB array\n",
        "    x *= 255\n",
        "    #x = x.transpose((1, 2, 0))\n",
        "    x = np.clip(x, 0, 255).astype('uint8')\n",
        "    return x\n",
        "\n",
        "def vis_img_in_filter(img = np.array(X_train[2]).reshape((1, 28, 28, 1)).astype(np.float64), layer_name = 'conv2d_34'):\n",
        "    layer_output = layer_dict[layer_name].output\n",
        "    img_ascs = list()\n",
        "    for filter_index in range(layer_output.shape[3]):\n",
        "        # build a loss function that maximizes the activation\n",
        "        # of the nth filter of the layer considered\n",
        "        loss = K.mean(layer_output[:, :, :, filter_index])\n",
        "\n",
        "        # compute the gradient of the input picture wrt this loss\n",
        "        grads = K.gradients(loss, model.input)[0]\n",
        "\n",
        "        # normalization trick: we normalize the gradient\n",
        "        grads /= (K.sqrt(K.mean(K.square(grads))) + 1e-5)\n",
        "\n",
        "        # this function returns the loss and grads given the input picture\n",
        "        iterate = K.function([model.input], [loss, grads])\n",
        "\n",
        "        # step size for gradient ascent\n",
        "        step = 5.\n",
        "\n",
        "        img_asc = np.array(img)\n",
        "        # run gradient ascent for 20 steps\n",
        "        for i in range(20):\n",
        "            loss_value, grads_value = iterate([img_asc])\n",
        "            img_asc += grads_value * step\n",
        "\n",
        "        img_asc = img_asc[0]\n",
        "        img_ascs.append(deprocess_image(img_asc).reshape((28, 28)))\n",
        "        \n",
        "    if layer_output.shape[3] >= 35:\n",
        "        plot_x, plot_y = 6, 6\n",
        "    elif layer_output.shape[3] >= 23:\n",
        "        plot_x, plot_y = 4, 6\n",
        "    elif layer_output.shape[3] >= 11:\n",
        "        plot_x, plot_y = 2, 6\n",
        "    else:\n",
        "        plot_x, plot_y = 1, 2\n",
        "    fig, ax = plt.subplots(plot_x, plot_y, figsize = (12, 12))\n",
        "    ax[0, 0].imshow(img.reshape((28, 28)), cmap = 'gray')\n",
        "    ax[0, 0].set_title('Input image')\n",
        "    fig.suptitle('Input image and %s filters' % (layer_name,))\n",
        "    fig.tight_layout(pad = 0.3, rect = [0, 0, 0.9, 0.9])\n",
        "    for (x, y) in [(i, j) for i in range(plot_x) for j in range(plot_y)]:\n",
        "        if x == 0 and y == 0:\n",
        "            continue\n",
        "        ax[x, y].imshow(img_ascs[x * plot_y + y - 1], cmap = 'gray')\n",
        "        ax[x, y].set_title('filter %d' % (x * plot_y + y - 1))\n",
        "\n",
        "vis_img_in_filter()"
      ],
      "execution_count": 28,
      "outputs": [
        {
          "output_type": "display_data",
          "data": {
            "image/png": "[encoded data removed]",
            "text/plain": [
              "<Figure size 864x864 with 24 Axes>"
            ]
          },
          "metadata": {
            "tags": []
          }
        }
      ]
    },
    {
      "cell_type": "code",
      "metadata": {
        "id": "9tvptcn8dxvp",
        "colab_type": "code",
        "colab": {}
      },
      "source": [
        ""
      ],
      "execution_count": 0,
      "outputs": []
    }
  ]
}