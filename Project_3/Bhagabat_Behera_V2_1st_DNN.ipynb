{
  "nbformat": 4,
  "nbformat_minor": 0,
  "metadata": {
    "colab": {
      "name": "Bhagabat Behera V2 1st DNN.ipynb",
      "version": "0.3.2",
      "provenance": [],
      "collapsed_sections": []
    },
    "kernelspec": {
      "name": "python3",
      "display_name": "Python 3"
    },
    "accelerator": "GPU"
  },
  "cells": [
    {
      "cell_type": "markdown",
      "metadata": {
        "id": "aNyZv-Ec52ot",
        "colab_type": "text"
      },
      "source": [
        "# **Import Libraries and modules**"
      ]
    },
    {
      "cell_type": "markdown",
      "metadata": {
        "id": "gSkgDwwJ9yhU",
        "colab_type": "text"
      },
      "source": [
        "### Import necessary libraries"
      ]
    },
    {
      "cell_type": "code",
      "metadata": {
        "id": "3m3w1Cw49Zkt",
        "colab_type": "code",
        "outputId": "e4841e34-bd2e-4d0b-dfd5-dc8d8db1e93c",
        "colab": {
          "base_uri": "https://localhost:8080/",
          "height": 34
        }
      },
      "source": [
        "# https://keras.io/\n",
        "!pip install -q keras\n",
        "import keras"
      ],
      "execution_count": 1,
      "outputs": [
        {
          "output_type": "stream",
          "text": [
            "Using TensorFlow backend.\n"
          ],
          "name": "stderr"
        }
      ]
    },
    {
      "cell_type": "code",
      "metadata": {
        "id": "Eso6UHE080D4",
        "colab_type": "code",
        "colab": {}
      },
      "source": [
        "import numpy as np\n",
        "\n",
        "from keras.models import Sequential\n",
        "from keras.layers import Dense, Dropout, Activation, Flatten, Add\n",
        "from keras.layers import Convolution2D, MaxPooling2D, SeparableConv2D, AveragePooling2D\n",
        "from keras.layers.normalization import BatchNormalization\n",
        "from keras.utils import np_utils\n",
        "\n",
        "from keras.datasets import mnist\n"
      ],
      "execution_count": 0,
      "outputs": []
    },
    {
      "cell_type": "markdown",
      "metadata": {
        "id": "zByEi95J86RD",
        "colab_type": "text"
      },
      "source": [
        "### Load pre-shuffled MNIST data into train and test sets"
      ]
    },
    {
      "cell_type": "code",
      "metadata": {
        "id": "7eRM0QWN83PV",
        "colab_type": "code",
        "colab": {}
      },
      "source": [
        "(X_train, y_train), (X_test, y_test) = mnist.load_data()"
      ],
      "execution_count": 0,
      "outputs": []
    },
    {
      "cell_type": "code",
      "metadata": {
        "id": "4a4Be72j8-ZC",
        "colab_type": "code",
        "outputId": "4f841dab-3e5b-4e10-f646-831769f010c6",
        "colab": {
          "base_uri": "https://localhost:8080/",
          "height": 303
        }
      },
      "source": [
        "print (X_train.shape)\n",
        "from matplotlib import pyplot as plt\n",
        "%matplotlib inline\n",
        "plt.imshow(X_train[0])"
      ],
      "execution_count": 4,
      "outputs": [
        {
          "output_type": "stream",
          "text": [
            "(60000, 28, 28)\n"
          ],
          "name": "stdout"
        },
        {
          "output_type": "execute_result",
          "data": {
            "text/plain": [
              "<matplotlib.image.AxesImage at 0x7ff91cf9b828>"
            ]
          },
          "metadata": {
            "tags": []
          },
          "execution_count": 4
        },
        {
          "output_type": "display_data",
          "data": {
            "image/png": "[encoded data removed]",
            "text/plain": [
              "<Figure size 432x288 with 1 Axes>"
            ]
          },
          "metadata": {
            "tags": []
          }
        }
      ]
    },
    {
      "cell_type": "code",
      "metadata": {
        "id": "dkmprriw9AnZ",
        "colab_type": "code",
        "colab": {}
      },
      "source": [
        "X_train = X_train.reshape(X_train.shape[0], 28, 28,1)\n",
        "X_test = X_test.reshape(X_test.shape[0], 28, 28,1)"
      ],
      "execution_count": 0,
      "outputs": []
    },
    {
      "cell_type": "code",
      "metadata": {
        "id": "X2m4YS4E9CRh",
        "colab_type": "code",
        "colab": {}
      },
      "source": [
        "X_train = X_train.astype('float32')\n",
        "X_test = X_test.astype('float32')\n",
        "X_train /= 255\n",
        "X_test /= 255"
      ],
      "execution_count": 0,
      "outputs": []
    },
    {
      "cell_type": "code",
      "metadata": {
        "id": "0Mn0vAYD9DvB",
        "colab_type": "code",
        "outputId": "320b9810-538c-45f6-c797-73d8ac67fb49",
        "colab": {
          "base_uri": "https://localhost:8080/",
          "height": 34
        }
      },
      "source": [
        "y_train[:10]"
      ],
      "execution_count": 7,
      "outputs": [
        {
          "output_type": "execute_result",
          "data": {
            "text/plain": [
              "array([5, 0, 4, 1, 9, 2, 1, 3, 1, 4], dtype=uint8)"
            ]
          },
          "metadata": {
            "tags": []
          },
          "execution_count": 7
        }
      ]
    },
    {
      "cell_type": "code",
      "metadata": {
        "id": "ZG8JiXR39FHC",
        "colab_type": "code",
        "colab": {}
      },
      "source": [
        "# Convert 1-dimensional class arrays to 10-dimensional class matrices\n",
        "Y_train = np_utils.to_categorical(y_train, 10)\n",
        "Y_test = np_utils.to_categorical(y_test, 10)"
      ],
      "execution_count": 0,
      "outputs": []
    },
    {
      "cell_type": "code",
      "metadata": {
        "id": "fYlFRvKS9HMB",
        "colab_type": "code",
        "outputId": "9c718554-3b6f-4f58-d553-af52f909d69c",
        "colab": {
          "base_uri": "https://localhost:8080/",
          "height": 187
        }
      },
      "source": [
        "Y_train[:10]\n"
      ],
      "execution_count": 9,
      "outputs": [
        {
          "output_type": "execute_result",
          "data": {
            "text/plain": [
              "array([[0., 0., 0., 0., 0., 1., 0., 0., 0., 0.],\n",
              "       [1., 0., 0., 0., 0., 0., 0., 0., 0., 0.],\n",
              "       [0., 0., 0., 0., 1., 0., 0., 0., 0., 0.],\n",
              "       [0., 1., 0., 0., 0., 0., 0., 0., 0., 0.],\n",
              "       [0., 0., 0., 0., 0., 0., 0., 0., 0., 1.],\n",
              "       [0., 0., 1., 0., 0., 0., 0., 0., 0., 0.],\n",
              "       [0., 1., 0., 0., 0., 0., 0., 0., 0., 0.],\n",
              "       [0., 0., 0., 1., 0., 0., 0., 0., 0., 0.],\n",
              "       [0., 1., 0., 0., 0., 0., 0., 0., 0., 0.],\n",
              "       [0., 0., 0., 0., 1., 0., 0., 0., 0., 0.]], dtype=float32)"
            ]
          },
          "metadata": {
            "tags": []
          },
          "execution_count": 9
        }
      ]
    },
    {
      "cell_type": "markdown",
      "metadata": {
        "id": "bKvs0sG098-Y",
        "colab_type": "text"
      },
      "source": [
        "### Build the model"
      ]
    },
    {
      "cell_type": "code",
      "metadata": {
        "id": "osKqT73Q9JJB",
        "colab_type": "code",
        "outputId": "c3845e03-3db3-4409-cd13-1fbde063a66b",
        "colab": {
          "base_uri": "https://localhost:8080/",
          "height": 275
        }
      },
      "source": [
        "from keras.layers import Activation\n",
        "model = Sequential()\n",
        "\n",
        " \n",
        "model.add(Convolution2D(64, 3, 3, input_shape=(28,28,1)))  # OutputSize=26, RF=3\n",
        "model.add(BatchNormalization())\n",
        "model.add(Activation('relu'))\n",
        "model.add(Convolution2D(128, 3, 3))  # OutputSize=24, RF=5\n",
        "model.add(BatchNormalization())\n",
        "model.add(Activation('relu'))\n",
        "model.add(Convolution2D(128, 3, 3)) # OutputSize=22, RF=7\n",
        "model.add(BatchNormalization())\n",
        "model.add(Activation('relu'))\n",
        "model.add(Convolution2D(64, 1, 1))  #OutputSize=22, RF=7\n",
        "model.add(BatchNormalization())\n",
        "model.add(Activation('relu'))\n",
        "model.add(MaxPooling2D(pool_size=(2, 2)))   # OutputSize=11, RF=14\n",
        "\n",
        "\n",
        "model.add(Convolution2D(64, 3, 3))  # OutputSize=9, RF=16\n",
        "model.add(BatchNormalization())\n",
        "model.add(Activation('relu'))\n",
        "model.add(Convolution2D(64, 3, 3))  # OutputSize=7, RF=18\n",
        "model.add(BatchNormalization())\n",
        "model.add(Activation('relu'))\n",
        "model.add(Convolution2D(10, 1, 1))  # OutputSize=7, RF=18\n",
        "model.add(BatchNormalization())\n",
        "model.add(Activation('relu'))\n",
        "model.add(AveragePooling2D(pool_size=(2, 2)))   # OutputSize=3, RF=36\n",
        "\n",
        "model.add(Convolution2D(10, 3))\n",
        "model.add(BatchNormalization())\n",
        "\n",
        "model.add(Flatten())\n",
        "model.add(Activation('softmax'))"
      ],
      "execution_count": 10,
      "outputs": [
        {
          "output_type": "stream",
          "text": [
            "WARNING:tensorflow:From /usr/local/lib/python3.6/dist-packages/tensorflow/python/framework/op_def_library.py:263: colocate_with (from tensorflow.python.framework.ops) is deprecated and will be removed in a future version.\n",
            "Instructions for updating:\n",
            "Colocations handled automatically by placer.\n"
          ],
          "name": "stdout"
        },
        {
          "output_type": "stream",
          "text": [
            "/usr/local/lib/python3.6/dist-packages/ipykernel_launcher.py:5: UserWarning: Update your `Conv2D` call to the Keras 2 API: `Conv2D(64, (3, 3), input_shape=(28, 28, 1...)`\n",
            "  \"\"\"\n",
            "/usr/local/lib/python3.6/dist-packages/ipykernel_launcher.py:8: UserWarning: Update your `Conv2D` call to the Keras 2 API: `Conv2D(128, (3, 3))`\n",
            "  \n",
            "/usr/local/lib/python3.6/dist-packages/ipykernel_launcher.py:11: UserWarning: Update your `Conv2D` call to the Keras 2 API: `Conv2D(128, (3, 3))`\n",
            "  # This is added back by InteractiveShellApp.init_path()\n",
            "/usr/local/lib/python3.6/dist-packages/ipykernel_launcher.py:14: UserWarning: Update your `Conv2D` call to the Keras 2 API: `Conv2D(64, (1, 1))`\n",
            "  \n",
            "/usr/local/lib/python3.6/dist-packages/ipykernel_launcher.py:20: UserWarning: Update your `Conv2D` call to the Keras 2 API: `Conv2D(64, (3, 3))`\n",
            "/usr/local/lib/python3.6/dist-packages/ipykernel_launcher.py:23: UserWarning: Update your `Conv2D` call to the Keras 2 API: `Conv2D(64, (3, 3))`\n",
            "/usr/local/lib/python3.6/dist-packages/ipykernel_launcher.py:26: UserWarning: Update your `Conv2D` call to the Keras 2 API: `Conv2D(10, (1, 1))`\n"
          ],
          "name": "stderr"
        }
      ]
    },
    {
      "cell_type": "code",
      "metadata": {
        "id": "TzdAYg1k9K7Z",
        "colab_type": "code",
        "outputId": "28485f4b-70d9-4370-8674-df03330483a3",
        "colab": {
          "base_uri": "https://localhost:8080/",
          "height": 1054
        }
      },
      "source": [
        "model.summary()"
      ],
      "execution_count": 11,
      "outputs": [
        {
          "output_type": "stream",
          "text": [
            "_________________________________________________________________\n",
            "Layer (type)                 Output Shape              Param #   \n",
            "=================================================================\n",
            "conv2d_1 (Conv2D)            (None, 26, 26, 64)        640       \n",
            "_________________________________________________________________\n",
            "batch_normalization_1 (Batch (None, 26, 26, 64)        256       \n",
            "_________________________________________________________________\n",
            "activation_1 (Activation)    (None, 26, 26, 64)        0         \n",
            "_________________________________________________________________\n",
            "conv2d_2 (Conv2D)            (None, 24, 24, 128)       73856     \n",
            "_________________________________________________________________\n",
            "batch_normalization_2 (Batch (None, 24, 24, 128)       512       \n",
            "_________________________________________________________________\n",
            "activation_2 (Activation)    (None, 24, 24, 128)       0         \n",
            "_________________________________________________________________\n",
            "conv2d_3 (Conv2D)            (None, 22, 22, 128)       147584    \n",
            "_________________________________________________________________\n",
            "batch_normalization_3 (Batch (None, 22, 22, 128)       512       \n",
            "_________________________________________________________________\n",
            "activation_3 (Activation)    (None, 22, 22, 128)       0         \n",
            "_________________________________________________________________\n",
            "conv2d_4 (Conv2D)            (None, 22, 22, 64)        8256      \n",
            "_________________________________________________________________\n",
            "batch_normalization_4 (Batch (None, 22, 22, 64)        256       \n",
            "_________________________________________________________________\n",
            "activation_4 (Activation)    (None, 22, 22, 64)        0         \n",
            "_________________________________________________________________\n",
            "max_pooling2d_1 (MaxPooling2 (None, 11, 11, 64)        0         \n",
            "_________________________________________________________________\n",
            "conv2d_5 (Conv2D)            (None, 9, 9, 64)          36928     \n",
            "_________________________________________________________________\n",
            "batch_normalization_5 (Batch (None, 9, 9, 64)          256       \n",
            "_________________________________________________________________\n",
            "activation_5 (Activation)    (None, 9, 9, 64)          0         \n",
            "_________________________________________________________________\n",
            "conv2d_6 (Conv2D)            (None, 7, 7, 64)          36928     \n",
            "_________________________________________________________________\n",
            "batch_normalization_6 (Batch (None, 7, 7, 64)          256       \n",
            "_________________________________________________________________\n",
            "activation_6 (Activation)    (None, 7, 7, 64)          0         \n",
            "_________________________________________________________________\n",
            "conv2d_7 (Conv2D)            (None, 7, 7, 10)          650       \n",
            "_________________________________________________________________\n",
            "batch_normalization_7 (Batch (None, 7, 7, 10)          40        \n",
            "_________________________________________________________________\n",
            "activation_7 (Activation)    (None, 7, 7, 10)          0         \n",
            "_________________________________________________________________\n",
            "average_pooling2d_1 (Average (None, 3, 3, 10)          0         \n",
            "_________________________________________________________________\n",
            "conv2d_8 (Conv2D)            (None, 1, 1, 10)          910       \n",
            "_________________________________________________________________\n",
            "batch_normalization_8 (Batch (None, 1, 1, 10)          40        \n",
            "_________________________________________________________________\n",
            "flatten_1 (Flatten)          (None, 10)                0         \n",
            "_________________________________________________________________\n",
            "activation_8 (Activation)    (None, 10)                0         \n",
            "=================================================================\n",
            "Total params: 307,880\n",
            "Trainable params: 306,816\n",
            "Non-trainable params: 1,064\n",
            "_________________________________________________________________\n"
          ],
          "name": "stdout"
        }
      ]
    },
    {
      "cell_type": "code",
      "metadata": {
        "id": "Zp6SuGrL9M3h",
        "colab_type": "code",
        "colab": {}
      },
      "source": [
        "model.compile(loss='categorical_crossentropy',\n",
        "             optimizer='adam',\n",
        "             metrics=['accuracy'])"
      ],
      "execution_count": 0,
      "outputs": []
    },
    {
      "cell_type": "markdown",
      "metadata": {
        "id": "aFgJM60lDupa",
        "colab_type": "text"
      },
      "source": [
        "### Train the model"
      ]
    },
    {
      "cell_type": "code",
      "metadata": {
        "id": "4xWoKhPY9Of5",
        "colab_type": "code",
        "outputId": "1d813576-28d4-40e6-904d-b64092c1e0ae",
        "colab": {
          "base_uri": "https://localhost:8080/",
          "height": 1856
        }
      },
      "source": [
        "model.fit(X_train, Y_train, batch_size=32, nb_epoch=50, validation_data=(X_test, Y_test), verbose=1)"
      ],
      "execution_count": 13,
      "outputs": [
        {
          "output_type": "stream",
          "text": [
            "WARNING:tensorflow:From /usr/local/lib/python3.6/dist-packages/tensorflow/python/ops/math_ops.py:3066: to_int32 (from tensorflow.python.ops.math_ops) is deprecated and will be removed in a future version.\n",
            "Instructions for updating:\n",
            "Use tf.cast instead.\n"
          ],
          "name": "stdout"
        },
        {
          "output_type": "stream",
          "text": [
            "/usr/local/lib/python3.6/dist-packages/ipykernel_launcher.py:1: UserWarning: The `nb_epoch` argument in `fit` has been renamed `epochs`.\n",
            "  \"\"\"Entry point for launching an IPython kernel.\n"
          ],
          "name": "stderr"
        },
        {
          "output_type": "stream",
          "text": [
            "Train on 60000 samples, validate on 10000 samples\n",
            "Epoch 1/50\n",
            "60000/60000 [==============================] - 30s 502us/step - loss: 0.3104 - acc: 0.9575 - val_loss: 0.1053 - val_acc: 0.9878\n",
            "Epoch 2/50\n",
            "60000/60000 [==============================] - 27s 455us/step - loss: 0.1185 - acc: 0.9791 - val_loss: 0.0471 - val_acc: 0.9920\n",
            "Epoch 3/50\n",
            "60000/60000 [==============================] - 28s 467us/step - loss: 0.0785 - acc: 0.9846 - val_loss: 0.0355 - val_acc: 0.9921\n",
            "Epoch 4/50\n",
            "60000/60000 [==============================] - 27s 455us/step - loss: 0.0564 - acc: 0.9877 - val_loss: 0.0346 - val_acc: 0.9915\n",
            "Epoch 5/50\n",
            "60000/60000 [==============================] - 27s 453us/step - loss: 0.0459 - acc: 0.9894 - val_loss: 0.0240 - val_acc: 0.9935\n",
            "Epoch 6/50\n",
            "60000/60000 [==============================] - 28s 467us/step - loss: 0.0377 - acc: 0.9910 - val_loss: 0.0333 - val_acc: 0.9904\n",
            "Epoch 7/50\n",
            "60000/60000 [==============================] - 27s 452us/step - loss: 0.0314 - acc: 0.9920 - val_loss: 0.0255 - val_acc: 0.9924\n",
            "Epoch 8/50\n",
            "60000/60000 [==============================] - 27s 453us/step - loss: 0.0279 - acc: 0.9929 - val_loss: 0.0238 - val_acc: 0.9928\n",
            "Epoch 9/50\n",
            "60000/60000 [==============================] - 28s 472us/step - loss: 0.0252 - acc: 0.9938 - val_loss: 0.0213 - val_acc: 0.9939\n",
            "Epoch 10/50\n",
            "60000/60000 [==============================] - 27s 452us/step - loss: 0.0222 - acc: 0.9945 - val_loss: 0.0269 - val_acc: 0.9920\n",
            "Epoch 11/50\n",
            "60000/60000 [==============================] - 28s 469us/step - loss: 0.0191 - acc: 0.9954 - val_loss: 0.0200 - val_acc: 0.9942\n",
            "Epoch 12/50\n",
            "60000/60000 [==============================] - 28s 464us/step - loss: 0.0188 - acc: 0.9952 - val_loss: 0.0227 - val_acc: 0.9931\n",
            "Epoch 13/50\n",
            "60000/60000 [==============================] - 27s 451us/step - loss: 0.0150 - acc: 0.9962 - val_loss: 0.0186 - val_acc: 0.9947\n",
            "Epoch 14/50\n",
            "60000/60000 [==============================] - 27s 451us/step - loss: 0.0159 - acc: 0.9959 - val_loss: 0.0233 - val_acc: 0.9929\n",
            "Epoch 15/50\n",
            "60000/60000 [==============================] - 28s 463us/step - loss: 0.0131 - acc: 0.9967 - val_loss: 0.0194 - val_acc: 0.9953\n",
            "Epoch 16/50\n",
            "60000/60000 [==============================] - 27s 451us/step - loss: 0.0130 - acc: 0.9969 - val_loss: 0.0223 - val_acc: 0.9937\n",
            "Epoch 17/50\n",
            "60000/60000 [==============================] - 27s 451us/step - loss: 0.0106 - acc: 0.9973 - val_loss: 0.0232 - val_acc: 0.9926\n",
            "Epoch 18/50\n",
            "60000/60000 [==============================] - 28s 464us/step - loss: 0.0099 - acc: 0.9975 - val_loss: 0.0231 - val_acc: 0.9933\n",
            "Epoch 19/50\n",
            "60000/60000 [==============================] - 27s 452us/step - loss: 0.0099 - acc: 0.9975 - val_loss: 0.0209 - val_acc: 0.9936\n",
            "Epoch 20/50\n",
            "60000/60000 [==============================] - 27s 456us/step - loss: 0.0084 - acc: 0.9980 - val_loss: 0.0201 - val_acc: 0.9947\n",
            "Epoch 21/50\n",
            "60000/60000 [==============================] - 28s 466us/step - loss: 0.0081 - acc: 0.9981 - val_loss: 0.0257 - val_acc: 0.9928\n",
            "Epoch 22/50\n",
            "60000/60000 [==============================] - 28s 467us/step - loss: 0.0078 - acc: 0.9979 - val_loss: 0.0264 - val_acc: 0.9937\n",
            "Epoch 23/50\n",
            "60000/60000 [==============================] - 27s 450us/step - loss: 0.0075 - acc: 0.9980 - val_loss: 0.0214 - val_acc: 0.9938\n",
            "Epoch 24/50\n",
            "60000/60000 [==============================] - 28s 462us/step - loss: 0.0063 - acc: 0.9983 - val_loss: 0.0196 - val_acc: 0.9946\n",
            "Epoch 25/50\n",
            "60000/60000 [==============================] - 28s 462us/step - loss: 0.0074 - acc: 0.9981 - val_loss: 0.0205 - val_acc: 0.9944\n",
            "Epoch 26/50\n",
            "60000/60000 [==============================] - 28s 463us/step - loss: 0.0064 - acc: 0.9982 - val_loss: 0.0210 - val_acc: 0.9945\n",
            "Epoch 27/50\n",
            "60000/60000 [==============================] - 28s 463us/step - loss: 0.0053 - acc: 0.9987 - val_loss: 0.0224 - val_acc: 0.9941\n",
            "Epoch 28/50\n",
            "60000/60000 [==============================] - 27s 452us/step - loss: 0.0055 - acc: 0.9986 - val_loss: 0.0212 - val_acc: 0.9941\n",
            "Epoch 29/50\n",
            "60000/60000 [==============================] - 27s 456us/step - loss: 0.0058 - acc: 0.9986 - val_loss: 0.0201 - val_acc: 0.9946\n",
            "Epoch 30/50\n",
            "60000/60000 [==============================] - 27s 457us/step - loss: 0.0052 - acc: 0.9987 - val_loss: 0.0187 - val_acc: 0.9947\n",
            "Epoch 31/50\n",
            "60000/60000 [==============================] - 27s 454us/step - loss: 0.0056 - acc: 0.9985 - val_loss: 0.0211 - val_acc: 0.9946\n",
            "Epoch 32/50\n",
            "60000/60000 [==============================] - 28s 472us/step - loss: 0.0045 - acc: 0.9988 - val_loss: 0.0177 - val_acc: 0.9946\n",
            "Epoch 33/50\n",
            "60000/60000 [==============================] - 28s 469us/step - loss: 0.0042 - acc: 0.9990 - val_loss: 0.0266 - val_acc: 0.9932\n",
            "Epoch 34/50\n",
            "60000/60000 [==============================] - 28s 460us/step - loss: 0.0044 - acc: 0.9990 - val_loss: 0.0210 - val_acc: 0.9950\n",
            "Epoch 35/50\n",
            "60000/60000 [==============================] - 28s 467us/step - loss: 0.0045 - acc: 0.9988 - val_loss: 0.0194 - val_acc: 0.9944\n",
            "Epoch 36/50\n",
            "60000/60000 [==============================] - 27s 451us/step - loss: 0.0039 - acc: 0.9990 - val_loss: 0.0185 - val_acc: 0.9949\n",
            "Epoch 37/50\n",
            "60000/60000 [==============================] - 27s 450us/step - loss: 0.0037 - acc: 0.9991 - val_loss: 0.0189 - val_acc: 0.9953\n",
            "Epoch 38/50\n",
            "60000/60000 [==============================] - 28s 464us/step - loss: 0.0038 - acc: 0.9990 - val_loss: 0.0211 - val_acc: 0.9950\n",
            "Epoch 39/50\n",
            "60000/60000 [==============================] - 27s 449us/step - loss: 0.0041 - acc: 0.9989 - val_loss: 0.0195 - val_acc: 0.9945\n",
            "Epoch 40/50\n",
            "60000/60000 [==============================] - 27s 450us/step - loss: 0.0036 - acc: 0.9990 - val_loss: 0.0226 - val_acc: 0.9940\n",
            "Epoch 41/50\n",
            "60000/60000 [==============================] - 28s 464us/step - loss: 0.0031 - acc: 0.9993 - val_loss: 0.0187 - val_acc: 0.9952\n",
            "Epoch 42/50\n",
            "60000/60000 [==============================] - 27s 451us/step - loss: 0.0026 - acc: 0.9994 - val_loss: 0.0274 - val_acc: 0.9933\n",
            "Epoch 43/50\n",
            "60000/60000 [==============================] - 28s 459us/step - loss: 0.0034 - acc: 0.9992 - val_loss: 0.0226 - val_acc: 0.9944\n",
            "Epoch 44/50\n",
            "60000/60000 [==============================] - 28s 464us/step - loss: 0.0029 - acc: 0.9993 - val_loss: 0.0263 - val_acc: 0.9937\n",
            "Epoch 45/50\n",
            "60000/60000 [==============================] - 28s 467us/step - loss: 0.0027 - acc: 0.9994 - val_loss: 0.0231 - val_acc: 0.9947\n",
            "Epoch 46/50\n",
            "60000/60000 [==============================] - 27s 453us/step - loss: 0.0029 - acc: 0.9993 - val_loss: 0.0260 - val_acc: 0.9937\n",
            "Epoch 47/50\n",
            "60000/60000 [==============================] - 28s 463us/step - loss: 0.0029 - acc: 0.9992 - val_loss: 0.0234 - val_acc: 0.9931\n",
            "Epoch 48/50\n",
            "60000/60000 [==============================] - 27s 450us/step - loss: 0.0027 - acc: 0.9993 - val_loss: 0.0199 - val_acc: 0.9947\n",
            "Epoch 49/50\n",
            "60000/60000 [==============================] - 27s 450us/step - loss: 0.0022 - acc: 0.9995 - val_loss: 0.0236 - val_acc: 0.9942\n",
            "Epoch 50/50\n",
            "60000/60000 [==============================] - 28s 463us/step - loss: 0.0034 - acc: 0.9990 - val_loss: 0.0240 - val_acc: 0.9941\n"
          ],
          "name": "stdout"
        },
        {
          "output_type": "execute_result",
          "data": {
            "text/plain": [
              "<keras.callbacks.History at 0x7ff8fc6065c0>"
            ]
          },
          "metadata": {
            "tags": []
          },
          "execution_count": 13
        }
      ]
    },
    {
      "cell_type": "markdown",
      "metadata": {
        "id": "6q1BjpeeWGA6",
        "colab_type": "text"
      },
      "source": [
        "Since I am not saving the best model, running a few more times to get past validation accuracy of 99.4"
      ]
    },
    {
      "cell_type": "code",
      "metadata": {
        "id": "NgziiFCt6Lb6",
        "colab_type": "code",
        "outputId": "89c6bdf3-b4f8-419c-9ffb-3b4f5d1a5b18",
        "colab": {
          "base_uri": "https://localhost:8080/",
          "height": 241
        }
      },
      "source": [
        "model.fit(X_train, Y_train, batch_size=32, nb_epoch=4, validation_data=(X_test, Y_test), verbose=1)"
      ],
      "execution_count": 14,
      "outputs": [
        {
          "output_type": "stream",
          "text": [
            "Train on 60000 samples, validate on 10000 samples\n",
            "Epoch 1/4\n",
            "  320/60000 [..............................] - ETA: 33s - loss: 0.0014 - acc: 1.0000    "
          ],
          "name": "stdout"
        },
        {
          "output_type": "stream",
          "text": [
            "/usr/local/lib/python3.6/dist-packages/ipykernel_launcher.py:1: UserWarning: The `nb_epoch` argument in `fit` has been renamed `epochs`.\n",
            "  \"\"\"Entry point for launching an IPython kernel.\n"
          ],
          "name": "stderr"
        },
        {
          "output_type": "stream",
          "text": [
            "60000/60000 [==============================] - 28s 464us/step - loss: 0.0026 - acc: 0.9993 - val_loss: 0.0219 - val_acc: 0.9939\n",
            "Epoch 2/4\n",
            "60000/60000 [==============================] - 27s 451us/step - loss: 0.0023 - acc: 0.9994 - val_loss: 0.0235 - val_acc: 0.9941\n",
            "Epoch 3/4\n",
            "60000/60000 [==============================] - 27s 450us/step - loss: 0.0023 - acc: 0.9994 - val_loss: 0.0204 - val_acc: 0.9950\n",
            "Epoch 4/4\n",
            "60000/60000 [==============================] - 28s 463us/step - loss: 0.0023 - acc: 0.9993 - val_loss: 0.0219 - val_acc: 0.9945\n"
          ],
          "name": "stdout"
        },
        {
          "output_type": "execute_result",
          "data": {
            "text/plain": [
              "<keras.callbacks.History at 0x7ff8ec8b66a0>"
            ]
          },
          "metadata": {
            "tags": []
          },
          "execution_count": 14
        }
      ]
    },
    {
      "cell_type": "code",
      "metadata": {
        "id": "GoCR0dAe6vYN",
        "colab_type": "code",
        "outputId": "5346f0ce-d073-4450-a656-6a7fcf2b45d7",
        "colab": {
          "base_uri": "https://localhost:8080/",
          "height": 139
        }
      },
      "source": [
        "model.fit(X_train, Y_train, batch_size=32, nb_epoch=1, validation_data=(X_test, Y_test), verbose=1)"
      ],
      "execution_count": 23,
      "outputs": [
        {
          "output_type": "stream",
          "text": [
            "Train on 60000 samples, validate on 10000 samples\n",
            "Epoch 1/1\n",
            "  352/60000 [..............................] - ETA: 32s - loss: 0.0018 - acc: 1.0000"
          ],
          "name": "stdout"
        },
        {
          "output_type": "stream",
          "text": [
            "/usr/local/lib/python3.6/dist-packages/ipykernel_launcher.py:1: UserWarning: The `nb_epoch` argument in `fit` has been renamed `epochs`.\n",
            "  \"\"\"Entry point for launching an IPython kernel.\n"
          ],
          "name": "stderr"
        },
        {
          "output_type": "stream",
          "text": [
            "60000/60000 [==============================] - 28s 459us/step - loss: 0.0027 - acc: 0.9991 - val_loss: 0.0217 - val_acc: 0.9951\n"
          ],
          "name": "stdout"
        },
        {
          "output_type": "execute_result",
          "data": {
            "text/plain": [
              "<keras.callbacks.History at 0x7ff8fc606390>"
            ]
          },
          "metadata": {
            "tags": []
          },
          "execution_count": 23
        }
      ]
    },
    {
      "cell_type": "markdown",
      "metadata": {
        "id": "0HmIoAW8DzJ3",
        "colab_type": "text"
      },
      "source": [
        "### Evaluate the model"
      ]
    },
    {
      "cell_type": "code",
      "metadata": {
        "id": "AtsH-lLk-eLb",
        "colab_type": "code",
        "colab": {}
      },
      "source": [
        "score = model.evaluate(X_test, Y_test, verbose=0)"
      ],
      "execution_count": 0,
      "outputs": []
    },
    {
      "cell_type": "code",
      "metadata": {
        "id": "mkX8JMv79q9r",
        "colab_type": "code",
        "outputId": "05f38fcb-a573-4b06-c814-bd96a621d506",
        "colab": {
          "base_uri": "https://localhost:8080/",
          "height": 34
        }
      },
      "source": [
        "print(score)"
      ],
      "execution_count": 25,
      "outputs": [
        {
          "output_type": "stream",
          "text": [
            "[0.021698270867756945, 0.9951]\n"
          ],
          "name": "stdout"
        }
      ]
    },
    {
      "cell_type": "code",
      "metadata": {
        "id": "OCWoJkwE9suh",
        "colab_type": "code",
        "colab": {}
      },
      "source": [
        "y_pred = model.predict(X_test)"
      ],
      "execution_count": 0,
      "outputs": []
    },
    {
      "cell_type": "code",
      "metadata": {
        "id": "Ym7iCFBm9uBs",
        "colab_type": "code",
        "outputId": "31e3675b-f965-4063-ed0a-bc3c3cb381c0",
        "colab": {
          "base_uri": "https://localhost:8080/",
          "height": 493
        }
      },
      "source": [
        "print(y_pred[:9])\n",
        "print(y_test[:9])"
      ],
      "execution_count": 27,
      "outputs": [
        {
          "output_type": "stream",
          "text": [
            "[[7.48866569e-09 6.62301147e-08 1.19284727e-09 7.46751283e-09\n",
            "  4.07873948e-08 5.46863532e-09 2.35732678e-08 9.99999881e-01\n",
            "  5.81276582e-09 5.10058662e-09]\n",
            " [6.48791199e-09 4.20559454e-09 9.99999881e-01 1.74284387e-09\n",
            "  1.24374591e-08 4.94983554e-10 5.15795762e-08 1.13030287e-08\n",
            "  1.83045260e-10 2.98949878e-08]\n",
            " [1.70067381e-07 9.99997377e-01 7.62329222e-09 3.42787587e-07\n",
            "  2.01673096e-08 3.14102721e-07 6.85553857e-07 2.01145582e-07\n",
            "  2.86529254e-08 8.90569368e-07]\n",
            " [9.99999404e-01 3.68606976e-08 1.21069395e-08 3.38739113e-07\n",
            "  1.39666323e-09 5.73069203e-10 1.26145054e-07 3.55133487e-08\n",
            "  7.43034576e-08 3.32283911e-09]\n",
            " [3.70846520e-10 4.79218887e-09 9.63110147e-11 9.07420628e-09\n",
            "  1.00000000e+00 1.65459213e-09 9.77329995e-10 1.56491389e-10\n",
            "  1.01539293e-08 4.46295917e-10]\n",
            " [7.20612832e-08 9.99994636e-01 8.33848546e-09 1.28036021e-07\n",
            "  2.61936215e-08 8.89722713e-08 9.48984052e-07 7.64461163e-07\n",
            "  2.33153585e-08 3.30648868e-06]\n",
            " [6.04135364e-09 2.12268745e-07 1.19562915e-10 2.52195605e-07\n",
            "  9.99999046e-01 2.86369215e-07 1.18893595e-07 1.28508290e-07\n",
            "  3.57710519e-08 1.51491051e-08]\n",
            " [3.70821489e-08 5.25269772e-10 7.20191656e-06 5.13282306e-09\n",
            "  8.58416769e-08 2.67844698e-08 9.00266954e-08 6.39906227e-12\n",
            "  3.62772816e-08 9.99992609e-01]\n",
            " [5.28895043e-06 1.31575712e-06 1.00052182e-06 7.49225583e-05\n",
            "  3.60193354e-07 9.99445379e-01 4.30361979e-06 6.23835206e-10\n",
            "  4.67376609e-04 7.47792051e-09]]\n",
            "[7 2 1 0 4 1 4 9 5]\n"
          ],
          "name": "stdout"
        }
      ]
    },
    {
      "cell_type": "code",
      "metadata": {
        "id": "CT--y98_dr2T",
        "colab_type": "code",
        "colab": {}
      },
      "source": [
        "layer_dict = dict([(layer.name, layer) for layer in model.layers])"
      ],
      "execution_count": 0,
      "outputs": []
    },
    {
      "cell_type": "code",
      "metadata": {
        "id": "2GY4Upv4dsUR",
        "colab_type": "code",
        "outputId": "4b8e3ac7-5185-496a-bfcd-695bfc8b2732",
        "colab": {
          "base_uri": "https://localhost:8080/",
          "height": 868
        }
      },
      "source": [
        "import numpy as np\n",
        "from matplotlib import pyplot as plt\n",
        "from keras import backend as K\n",
        "%matplotlib inline\n",
        "# util function to convert a tensor into a valid image\n",
        "def deprocess_image(x):\n",
        "    # normalize tensor: center on 0., ensure std is 0.1\n",
        "    x -= x.mean()\n",
        "    x /= (x.std() + 1e-5)\n",
        "    x *= 0.1\n",
        "\n",
        "    # clip to [0, 1]\n",
        "    x += 0.5\n",
        "    x = np.clip(x, 0, 1)\n",
        "\n",
        "    # convert to RGB array\n",
        "    x *= 255\n",
        "    #x = x.transpose((1, 2, 0))\n",
        "    x = np.clip(x, 0, 255).astype('uint8')\n",
        "    return x\n",
        "\n",
        "def vis_img_in_filter(img = np.array(X_train[2]).reshape((1, 28, 28, 1)).astype(np.float64), layer_name = 'conv2d_17'):\n",
        "    layer_output = layer_dict[layer_name].output\n",
        "    img_ascs = list()\n",
        "    for filter_index in range(layer_output.shape[3]):\n",
        "        # build a loss function that maximizes the activation\n",
        "        # of the nth filter of the layer considered\n",
        "        loss = K.mean(layer_output[:, :, :, filter_index])\n",
        "\n",
        "        # compute the gradient of the input picture wrt this loss\n",
        "        grads = K.gradients(loss, model.input)[0]\n",
        "\n",
        "        # normalization trick: we normalize the gradient\n",
        "        grads /= (K.sqrt(K.mean(K.square(grads))) + 1e-5)\n",
        "\n",
        "        # this function returns the loss and grads given the input picture\n",
        "        iterate = K.function([model.input], [loss, grads])\n",
        "\n",
        "        # step size for gradient ascent\n",
        "        step = 5.\n",
        "\n",
        "        img_asc = np.array(img)\n",
        "        # run gradient ascent for 20 steps\n",
        "        for i in range(20):\n",
        "            loss_value, grads_value = iterate([img_asc])\n",
        "            img_asc += grads_value * step\n",
        "\n",
        "        img_asc = img_asc[0]\n",
        "        img_ascs.append(deprocess_image(img_asc).reshape((28, 28)))\n",
        "        \n",
        "    if layer_output.shape[3] >= 35:\n",
        "        plot_x, plot_y = 6, 6\n",
        "    elif layer_output.shape[3] >= 23:\n",
        "        plot_x, plot_y = 4, 6\n",
        "    elif layer_output.shape[3] >= 11:\n",
        "        plot_x, plot_y = 2, 6\n",
        "    else:\n",
        "        plot_x, plot_y = 1, 2\n",
        "    fig, ax = plt.subplots(plot_x, plot_y, figsize = (12, 12))\n",
        "    ax[0, 0].imshow(img.reshape((28, 28)), cmap = 'gray')\n",
        "    ax[0, 0].set_title('Input image')\n",
        "    fig.suptitle('Input image and %s filters' % (layer_name,))\n",
        "    fig.tight_layout(pad = 0.3, rect = [0, 0, 0.9, 0.9])\n",
        "    for (x, y) in [(i, j) for i in range(plot_x) for j in range(plot_y)]:\n",
        "        if x == 0 and y == 0:\n",
        "            continue\n",
        "        ax[x, y].imshow(img_ascs[x * plot_y + y - 1], cmap = 'gray')\n",
        "        ax[x, y].set_title('filter %d' % (x * plot_y + y - 1))\n",
        "\n",
        "vis_img_in_filter()"
      ],
      "execution_count": 0,
      "outputs": [
        {
          "output_type": "display_data",
          "data": {
            "image/png": "[encoded data removed]",
            "text/plain": [
              "<Figure size 864x864 with 36 Axes>"
            ]
          },
          "metadata": {
            "tags": []
          }
        }
      ]
    },
    {
      "cell_type": "code",
      "metadata": {
        "id": "9tvptcn8dxvp",
        "colab_type": "code",
        "colab": {}
      },
      "source": [
        ""
      ],
      "execution_count": 0,
      "outputs": []
    }
  ]
}