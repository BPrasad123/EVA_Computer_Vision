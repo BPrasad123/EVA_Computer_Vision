{
  "nbformat": 4,
  "nbformat_minor": 0,
  "metadata": {
    "colab": {
      "name": "Bhagabat Behera_Session4_Fourth.ipynb",
      "version": "0.3.2",
      "provenance": [],
      "collapsed_sections": []
    },
    "kernelspec": {
      "name": "python3",
      "display_name": "Python 3"
    },
    "accelerator": "GPU"
  },
  "cells": [
    {
      "cell_type": "markdown",
      "metadata": {
        "id": "wB-V_jVK5CYK",
        "colab_type": "text"
      },
      "source": [
        "### Header with description"
      ]
    },
    {
      "cell_type": "markdown",
      "metadata": {
        "id": "f51o0FPK5JV_",
        "colab_type": "text"
      },
      "source": [
        "**Improvements from third model:**\n",
        "* To make the network more powerful, updated the same to make it wider and deeper but with total number parameters well within 15000\n",
        "* Added dropout to address overfitting issue. This will helping reducing training accuracy and improving test accuracy\n",
        "* Updated LRScheduler values. This time starting LR is ~0.01 and reducing it by half after every 10 epochs\n",
        "\n",
        "**Achievments**\n",
        "* Test accuracy is now 99.52% while train accuracy is 99.59%"
      ]
    },
    {
      "cell_type": "markdown",
      "metadata": {
        "id": "aNyZv-Ec52ot",
        "colab_type": "text"
      },
      "source": [
        "### Import Libraries and modules"
      ]
    },
    {
      "cell_type": "code",
      "metadata": {
        "id": "3m3w1Cw49Zkt",
        "colab_type": "code",
        "outputId": "1fbeff9f-2788-4e94-f750-f06ff373a1d9",
        "colab": {
          "base_uri": "https://localhost:8080/",
          "height": 34
        }
      },
      "source": [
        "# https://keras.io/\n",
        "!pip install -q keras\n",
        "import keras"
      ],
      "execution_count": 1,
      "outputs": [
        {
          "output_type": "stream",
          "text": [
            "Using TensorFlow backend.\n"
          ],
          "name": "stderr"
        }
      ]
    },
    {
      "cell_type": "code",
      "metadata": {
        "id": "Eso6UHE080D4",
        "colab_type": "code",
        "colab": {}
      },
      "source": [
        "import numpy as np\n",
        "\n",
        "from keras.models import Sequential\n",
        "from keras.layers import Dense, Dropout, Activation, Flatten, Add\n",
        "from keras.layers import Convolution2D, MaxPooling2D\n",
        "from keras.utils import np_utils\n",
        "\n",
        "from keras.datasets import mnist"
      ],
      "execution_count": 0,
      "outputs": []
    },
    {
      "cell_type": "markdown",
      "metadata": {
        "id": "zByEi95J86RD",
        "colab_type": "text"
      },
      "source": [
        "### Load pre-shuffled MNIST data into train and test sets"
      ]
    },
    {
      "cell_type": "code",
      "metadata": {
        "id": "7eRM0QWN83PV",
        "colab_type": "code",
        "colab": {}
      },
      "source": [
        "(X_train, y_train), (X_test, y_test) = mnist.load_data()"
      ],
      "execution_count": 0,
      "outputs": []
    },
    {
      "cell_type": "code",
      "metadata": {
        "id": "4a4Be72j8-ZC",
        "colab_type": "code",
        "outputId": "84428571-c6b0-4584-cfcb-f9c42e00cb22",
        "colab": {
          "base_uri": "https://localhost:8080/",
          "height": 303
        }
      },
      "source": [
        "print (X_train.shape)\n",
        "from matplotlib import pyplot as plt\n",
        "%matplotlib inline\n",
        "plt.imshow(X_train[0])"
      ],
      "execution_count": 4,
      "outputs": [
        {
          "output_type": "stream",
          "text": [
            "(60000, 28, 28)\n"
          ],
          "name": "stdout"
        },
        {
          "output_type": "execute_result",
          "data": {
            "text/plain": [
              "<matplotlib.image.AxesImage at 0x7f034d329d30>"
            ]
          },
          "metadata": {
            "tags": []
          },
          "execution_count": 4
        },
        {
          "output_type": "display_data",
          "data": {
            "image/png": "[encoded data removed]",
            "text/plain": [
              "<Figure size 432x288 with 1 Axes>"
            ]
          },
          "metadata": {
            "tags": []
          }
        }
      ]
    },
    {
      "cell_type": "code",
      "metadata": {
        "id": "dkmprriw9AnZ",
        "colab_type": "code",
        "colab": {}
      },
      "source": [
        "X_train = X_train.reshape(X_train.shape[0], 28, 28,1)\n",
        "X_test = X_test.reshape(X_test.shape[0], 28, 28,1)"
      ],
      "execution_count": 0,
      "outputs": []
    },
    {
      "cell_type": "code",
      "metadata": {
        "id": "X2m4YS4E9CRh",
        "colab_type": "code",
        "colab": {}
      },
      "source": [
        "X_train = X_train.astype('float32')\n",
        "X_test = X_test.astype('float32')\n",
        "X_train /= 255\n",
        "X_test /= 255"
      ],
      "execution_count": 0,
      "outputs": []
    },
    {
      "cell_type": "code",
      "metadata": {
        "id": "0Mn0vAYD9DvB",
        "colab_type": "code",
        "outputId": "2d185fe8-b959-422a-d028-35448c70981c",
        "colab": {
          "base_uri": "https://localhost:8080/",
          "height": 34
        }
      },
      "source": [
        "y_train[:10]"
      ],
      "execution_count": 7,
      "outputs": [
        {
          "output_type": "execute_result",
          "data": {
            "text/plain": [
              "array([5, 0, 4, 1, 9, 2, 1, 3, 1, 4], dtype=uint8)"
            ]
          },
          "metadata": {
            "tags": []
          },
          "execution_count": 7
        }
      ]
    },
    {
      "cell_type": "code",
      "metadata": {
        "id": "ZG8JiXR39FHC",
        "colab_type": "code",
        "colab": {}
      },
      "source": [
        "# Convert 1-dimensional class arrays to 10-dimensional class matrices\n",
        "Y_train = np_utils.to_categorical(y_train, 10)\n",
        "Y_test = np_utils.to_categorical(y_test, 10)"
      ],
      "execution_count": 0,
      "outputs": []
    },
    {
      "cell_type": "code",
      "metadata": {
        "id": "fYlFRvKS9HMB",
        "colab_type": "code",
        "outputId": "df43cd30-9b46-4b5c-dc4e-0284b7fc48f8",
        "colab": {
          "base_uri": "https://localhost:8080/",
          "height": 187
        }
      },
      "source": [
        "Y_train[:10]\n"
      ],
      "execution_count": 9,
      "outputs": [
        {
          "output_type": "execute_result",
          "data": {
            "text/plain": [
              "array([[0., 0., 0., 0., 0., 1., 0., 0., 0., 0.],\n",
              "       [1., 0., 0., 0., 0., 0., 0., 0., 0., 0.],\n",
              "       [0., 0., 0., 0., 1., 0., 0., 0., 0., 0.],\n",
              "       [0., 1., 0., 0., 0., 0., 0., 0., 0., 0.],\n",
              "       [0., 0., 0., 0., 0., 0., 0., 0., 0., 1.],\n",
              "       [0., 0., 1., 0., 0., 0., 0., 0., 0., 0.],\n",
              "       [0., 1., 0., 0., 0., 0., 0., 0., 0., 0.],\n",
              "       [0., 0., 0., 1., 0., 0., 0., 0., 0., 0.],\n",
              "       [0., 1., 0., 0., 0., 0., 0., 0., 0., 0.],\n",
              "       [0., 0., 0., 0., 1., 0., 0., 0., 0., 0.]], dtype=float32)"
            ]
          },
          "metadata": {
            "tags": []
          },
          "execution_count": 9
        }
      ]
    },
    {
      "cell_type": "markdown",
      "metadata": {
        "id": "OUtHMXoE4a47",
        "colab_type": "text"
      },
      "source": [
        "### Build Model"
      ]
    },
    {
      "cell_type": "code",
      "metadata": {
        "id": "sBa3Tugaj3KN",
        "colab_type": "code",
        "outputId": "47db0746-935f-48ae-c8be-df8486cab1d1",
        "colab": {
          "base_uri": "https://localhost:8080/",
          "height": 207
        }
      },
      "source": [
        "from keras.layers import Activation\n",
        "from keras.layers.normalization import BatchNormalization\n",
        "\n",
        "model = Sequential()\n",
        "\n",
        "model.add(Convolution2D(8, 3, 3, activation='relu', input_shape=(28,28,1), use_bias=False)) # 26, RF=3x3\n",
        "model.add(BatchNormalization())\n",
        "model.add(Dropout(0.1))\n",
        "\n",
        "model.add(Convolution2D(16, 3, 3, activation='relu', use_bias=False)) #24, RF=5x5\n",
        "model.add(BatchNormalization())\n",
        "model.add(Dropout(0.1))\n",
        "\n",
        "model.add(Convolution2D(32, 3, 3, activation='relu', use_bias=False)) #22, RF=7x7\n",
        "model.add(BatchNormalization())\n",
        "model.add(Dropout(0.1))\n",
        "\n",
        "\n",
        "model.add(Convolution2D(8, 1, activation='relu', use_bias=False)) #22, RF=7x7\n",
        "model.add(BatchNormalization())\n",
        "model.add(MaxPooling2D(pool_size=(2, 2))) #11, RF=14x14\n",
        "\n",
        "model.add(Convolution2D(8, 3, 3, activation='relu', use_bias=False)) #9, RF=16x16\n",
        "model.add(BatchNormalization())\n",
        "model.add(Dropout(0.1))\n",
        "\n",
        "model.add(Convolution2D(16, 3, 3, activation='relu', use_bias=False)) #7, RF=18x18\n",
        "model.add(BatchNormalization())\n",
        "model.add(Dropout(0.1))\n",
        "\n",
        "model.add(Convolution2D(16, 3, 3, activation='relu', use_bias=False)) #5, RF=20x20\n",
        "model.add(BatchNormalization())\n",
        "model.add(Dropout(0.1))\n",
        "\n",
        "model.add(Convolution2D(16, 3, 3, activation='relu', use_bias=False)) #3, RF=22x22\n",
        "model.add(BatchNormalization())\n",
        "model.add(Dropout(0.1))\n",
        "\n",
        "model.add(Convolution2D(10, 1, activation='relu', use_bias=False)) #3, RF=22x22\n",
        "model.add(BatchNormalization())\n",
        "\n",
        "model.add(Convolution2D(10, 3, use_bias=False))\n",
        "\n",
        "model.add(Flatten())\n",
        "model.add(Activation('softmax'))"
      ],
      "execution_count": 31,
      "outputs": [
        {
          "output_type": "stream",
          "text": [
            "/usr/local/lib/python3.6/dist-packages/ipykernel_launcher.py:6: UserWarning: Update your `Conv2D` call to the Keras 2 API: `Conv2D(8, (3, 3), activation=\"relu\", input_shape=(28, 28, 1..., use_bias=False)`\n",
            "  \n",
            "/usr/local/lib/python3.6/dist-packages/ipykernel_launcher.py:10: UserWarning: Update your `Conv2D` call to the Keras 2 API: `Conv2D(16, (3, 3), activation=\"relu\", use_bias=False)`\n",
            "  # Remove the CWD from sys.path while we load stuff.\n",
            "/usr/local/lib/python3.6/dist-packages/ipykernel_launcher.py:14: UserWarning: Update your `Conv2D` call to the Keras 2 API: `Conv2D(32, (3, 3), activation=\"relu\", use_bias=False)`\n",
            "  \n",
            "/usr/local/lib/python3.6/dist-packages/ipykernel_launcher.py:23: UserWarning: Update your `Conv2D` call to the Keras 2 API: `Conv2D(8, (3, 3), activation=\"relu\", use_bias=False)`\n",
            "/usr/local/lib/python3.6/dist-packages/ipykernel_launcher.py:27: UserWarning: Update your `Conv2D` call to the Keras 2 API: `Conv2D(16, (3, 3), activation=\"relu\", use_bias=False)`\n",
            "/usr/local/lib/python3.6/dist-packages/ipykernel_launcher.py:31: UserWarning: Update your `Conv2D` call to the Keras 2 API: `Conv2D(16, (3, 3), activation=\"relu\", use_bias=False)`\n",
            "/usr/local/lib/python3.6/dist-packages/ipykernel_launcher.py:35: UserWarning: Update your `Conv2D` call to the Keras 2 API: `Conv2D(16, (3, 3), activation=\"relu\", use_bias=False)`\n"
          ],
          "name": "stderr"
        }
      ]
    },
    {
      "cell_type": "code",
      "metadata": {
        "id": "TzdAYg1k9K7Z",
        "colab_type": "code",
        "outputId": "7ce5ef23-7131-41f2-e46f-ccfca2e09577",
        "colab": {
          "base_uri": "https://localhost:8080/",
          "height": 1122
        }
      },
      "source": [
        "model.summary()"
      ],
      "execution_count": 11,
      "outputs": [
        {
          "output_type": "stream",
          "text": [
            "_________________________________________________________________\n",
            "Layer (type)                 Output Shape              Param #   \n",
            "=================================================================\n",
            "conv2d_1 (Conv2D)            (None, 26, 26, 8)         72        \n",
            "_________________________________________________________________\n",
            "batch_normalization_1 (Batch (None, 26, 26, 8)         32        \n",
            "_________________________________________________________________\n",
            "dropout_1 (Dropout)          (None, 26, 26, 8)         0         \n",
            "_________________________________________________________________\n",
            "conv2d_2 (Conv2D)            (None, 24, 24, 16)        1152      \n",
            "_________________________________________________________________\n",
            "batch_normalization_2 (Batch (None, 24, 24, 16)        64        \n",
            "_________________________________________________________________\n",
            "dropout_2 (Dropout)          (None, 24, 24, 16)        0         \n",
            "_________________________________________________________________\n",
            "conv2d_3 (Conv2D)            (None, 22, 22, 32)        4608      \n",
            "_________________________________________________________________\n",
            "batch_normalization_3 (Batch (None, 22, 22, 32)        128       \n",
            "_________________________________________________________________\n",
            "dropout_3 (Dropout)          (None, 22, 22, 32)        0         \n",
            "_________________________________________________________________\n",
            "conv2d_4 (Conv2D)            (None, 22, 22, 8)         256       \n",
            "_________________________________________________________________\n",
            "batch_normalization_4 (Batch (None, 22, 22, 8)         32        \n",
            "_________________________________________________________________\n",
            "max_pooling2d_1 (MaxPooling2 (None, 11, 11, 8)         0         \n",
            "_________________________________________________________________\n",
            "conv2d_5 (Conv2D)            (None, 9, 9, 8)           576       \n",
            "_________________________________________________________________\n",
            "batch_normalization_5 (Batch (None, 9, 9, 8)           32        \n",
            "_________________________________________________________________\n",
            "dropout_4 (Dropout)          (None, 9, 9, 8)           0         \n",
            "_________________________________________________________________\n",
            "conv2d_6 (Conv2D)            (None, 7, 7, 16)          1152      \n",
            "_________________________________________________________________\n",
            "batch_normalization_6 (Batch (None, 7, 7, 16)          64        \n",
            "_________________________________________________________________\n",
            "dropout_5 (Dropout)          (None, 7, 7, 16)          0         \n",
            "_________________________________________________________________\n",
            "conv2d_7 (Conv2D)            (None, 5, 5, 16)          2304      \n",
            "_________________________________________________________________\n",
            "batch_normalization_7 (Batch (None, 5, 5, 16)          64        \n",
            "_________________________________________________________________\n",
            "dropout_6 (Dropout)          (None, 5, 5, 16)          0         \n",
            "_________________________________________________________________\n",
            "conv2d_8 (Conv2D)            (None, 3, 3, 16)          2304      \n",
            "_________________________________________________________________\n",
            "batch_normalization_8 (Batch (None, 3, 3, 16)          64        \n",
            "_________________________________________________________________\n",
            "dropout_7 (Dropout)          (None, 3, 3, 16)          0         \n",
            "_________________________________________________________________\n",
            "conv2d_9 (Conv2D)            (None, 3, 3, 10)          160       \n",
            "_________________________________________________________________\n",
            "batch_normalization_9 (Batch (None, 3, 3, 10)          40        \n",
            "_________________________________________________________________\n",
            "conv2d_10 (Conv2D)           (None, 1, 1, 10)          900       \n",
            "_________________________________________________________________\n",
            "flatten_1 (Flatten)          (None, 10)                0         \n",
            "_________________________________________________________________\n",
            "activation_1 (Activation)    (None, 10)                0         \n",
            "=================================================================\n",
            "Total params: 14,004\n",
            "Trainable params: 13,744\n",
            "Non-trainable params: 260\n",
            "_________________________________________________________________\n"
          ],
          "name": "stdout"
        }
      ]
    },
    {
      "cell_type": "markdown",
      "metadata": {
        "id": "aq37_Kn-66k5",
        "colab_type": "text"
      },
      "source": [
        "### Checkpoint Configuration to save the best model"
      ]
    },
    {
      "cell_type": "code",
      "metadata": {
        "id": "lrV5Phnp6_XC",
        "colab_type": "code",
        "colab": {
          "base_uri": "https://localhost:8080/",
          "height": 34
        },
        "outputId": "391167f9-4d93-45b9-e70f-5a14d17ee430"
      },
      "source": [
        "from google.colab import drive\n",
        "drive.mount('/content/gdrive')"
      ],
      "execution_count": 12,
      "outputs": [
        {
          "output_type": "stream",
          "text": [
            "Drive already mounted at /content/gdrive; to attempt to forcibly remount, call drive.mount(\"/content/gdrive\", force_remount=True).\n"
          ],
          "name": "stdout"
        }
      ]
    },
    {
      "cell_type": "code",
      "metadata": {
        "id": "zWvwFEna7GOA",
        "colab_type": "code",
        "colab": {}
      },
      "source": [
        "!pip install -q h5py pyyaml\n",
        "from keras.models import model_from_json"
      ],
      "execution_count": 0,
      "outputs": []
    },
    {
      "cell_type": "code",
      "metadata": {
        "id": "fsAjINQW7I-d",
        "colab_type": "code",
        "colab": {
          "base_uri": "https://localhost:8080/",
          "height": 34
        },
        "outputId": "ae225b61-d1c5-4d8d-9943-f227e6b0e5f3"
      },
      "source": [
        "!ls \"/content/gdrive/My Drive/EVA\""
      ],
      "execution_count": 14,
      "outputs": [
        {
          "output_type": "stream",
          "text": [
            "S3V2  S4\n"
          ],
          "name": "stdout"
        }
      ]
    },
    {
      "cell_type": "code",
      "metadata": {
        "id": "iWUo2XUv7Lrd",
        "colab_type": "code",
        "colab": {}
      },
      "source": [
        "from keras.callbacks import *\n",
        "filepath=\"/content/gdrive/My Drive/EVA/S4/FOURTH/epochs:{epoch:03d}-val_acc:{val_acc:.4f}.hdf5\"\n",
        "checkpoint = ModelCheckpoint(filepath, monitor='val_acc', verbose=1, save_best_only=True, save_weights_only=False, mode='auto')"
      ],
      "execution_count": 0,
      "outputs": []
    },
    {
      "cell_type": "code",
      "metadata": {
        "id": "B3WjCrm87Pt7",
        "colab_type": "code",
        "colab": {}
      },
      "source": [
        "callbacks_list = [checkpoint]"
      ],
      "execution_count": 0,
      "outputs": []
    },
    {
      "cell_type": "markdown",
      "metadata": {
        "id": "5vt3rPdt7SqA",
        "colab_type": "text"
      },
      "source": [
        "### Compile and Train the model"
      ]
    },
    {
      "cell_type": "code",
      "metadata": {
        "id": "f_4_6OPA7iu8",
        "colab_type": "code",
        "colab": {}
      },
      "source": [
        "from keras.optimizers import Adam\n",
        "from keras.callbacks import LearningRateScheduler\n",
        "\n",
        "def scheduler(epoch, lr):\n",
        "  if epoch % 10 == 0:\n",
        "    lr = lr * 0.5\n",
        "  return lr\n",
        "\n",
        "model.compile(loss='categorical_crossentropy',\n",
        "             optimizer=Adam(lr=0.02),\n",
        "             metrics=['accuracy'])\n",
        "\n",
        "callbacks_list = [LearningRateScheduler(scheduler, verbose=1), checkpoint]"
      ],
      "execution_count": 0,
      "outputs": []
    },
    {
      "cell_type": "code",
      "metadata": {
        "id": "NngEv2HfAYIL",
        "colab_type": "code",
        "colab": {
          "base_uri": "https://localhost:8080/",
          "height": 4165
        },
        "outputId": "6cbf141b-caef-4d0a-d7fd-fa470801b3ed"
      },
      "source": [
        "model.fit(X_train, Y_train, batch_size=256, validation_data=(X_test, Y_test), nb_epoch=40, callbacks=callbacks_list, verbose=1)"
      ],
      "execution_count": 38,
      "outputs": [
        {
          "output_type": "stream",
          "text": [
            "/usr/local/lib/python3.6/dist-packages/ipykernel_launcher.py:1: UserWarning: The `nb_epoch` argument in `fit` has been renamed `epochs`.\n",
            "  \"\"\"Entry point for launching an IPython kernel.\n"
          ],
          "name": "stderr"
        },
        {
          "output_type": "stream",
          "text": [
            "Train on 60000 samples, validate on 10000 samples\n",
            "Epoch 1/40\n",
            "\n",
            "Epoch 00001: LearningRateScheduler setting learning rate to 0.009999999776482582.\n",
            "60000/60000 [==============================] - 9s 147us/step - loss: 0.0893 - acc: 0.9728 - val_loss: 0.1711 - val_acc: 0.9570\n",
            "\n",
            "Epoch 00001: val_acc improved from -inf to 0.95700, saving model to /content/gdrive/My Drive/EVA/S4/FOURTH/epochs:001-val_acc:0.9570.hdf5\n",
            "Epoch 2/40\n",
            "\n",
            "Epoch 00002: LearningRateScheduler setting learning rate to 0.009999999776482582.\n",
            "60000/60000 [==============================] - 5s 81us/step - loss: 0.0647 - acc: 0.9797 - val_loss: 0.0444 - val_acc: 0.9861\n",
            "\n",
            "Epoch 00002: val_acc improved from 0.95700 to 0.98610, saving model to /content/gdrive/My Drive/EVA/S4/FOURTH/epochs:002-val_acc:0.9861.hdf5\n",
            "Epoch 3/40\n",
            "\n",
            "Epoch 00003: LearningRateScheduler setting learning rate to 0.009999999776482582.\n",
            "60000/60000 [==============================] - 5s 81us/step - loss: 0.0525 - acc: 0.9835 - val_loss: 0.0330 - val_acc: 0.9908\n",
            "\n",
            "Epoch 00003: val_acc improved from 0.98610 to 0.99080, saving model to /content/gdrive/My Drive/EVA/S4/FOURTH/epochs:003-val_acc:0.9908.hdf5\n",
            "Epoch 4/40\n",
            "\n",
            "Epoch 00004: LearningRateScheduler setting learning rate to 0.009999999776482582.\n",
            "60000/60000 [==============================] - 5s 83us/step - loss: 0.0484 - acc: 0.9850 - val_loss: 0.0275 - val_acc: 0.9919\n",
            "\n",
            "Epoch 00004: val_acc improved from 0.99080 to 0.99190, saving model to /content/gdrive/My Drive/EVA/S4/FOURTH/epochs:004-val_acc:0.9919.hdf5\n",
            "Epoch 5/40\n",
            "\n",
            "Epoch 00005: LearningRateScheduler setting learning rate to 0.009999999776482582.\n",
            "60000/60000 [==============================] - 5s 85us/step - loss: 0.0427 - acc: 0.9867 - val_loss: 0.0358 - val_acc: 0.9896\n",
            "\n",
            "Epoch 00005: val_acc did not improve from 0.99190\n",
            "Epoch 6/40\n",
            "\n",
            "Epoch 00006: LearningRateScheduler setting learning rate to 0.009999999776482582.\n",
            "60000/60000 [==============================] - 5s 83us/step - loss: 0.0430 - acc: 0.9871 - val_loss: 0.0436 - val_acc: 0.9861\n",
            "\n",
            "Epoch 00006: val_acc did not improve from 0.99190\n",
            "Epoch 7/40\n",
            "\n",
            "Epoch 00007: LearningRateScheduler setting learning rate to 0.009999999776482582.\n",
            "60000/60000 [==============================] - 5s 81us/step - loss: 0.0421 - acc: 0.9864 - val_loss: 0.0273 - val_acc: 0.9911\n",
            "\n",
            "Epoch 00007: val_acc did not improve from 0.99190\n",
            "Epoch 8/40\n",
            "\n",
            "Epoch 00008: LearningRateScheduler setting learning rate to 0.009999999776482582.\n",
            "60000/60000 [==============================] - 5s 82us/step - loss: 0.0377 - acc: 0.9884 - val_loss: 0.0365 - val_acc: 0.9875\n",
            "\n",
            "Epoch 00008: val_acc did not improve from 0.99190\n",
            "Epoch 9/40\n",
            "\n",
            "Epoch 00009: LearningRateScheduler setting learning rate to 0.009999999776482582.\n",
            "60000/60000 [==============================] - 5s 81us/step - loss: 0.0362 - acc: 0.9887 - val_loss: 0.0331 - val_acc: 0.9899\n",
            "\n",
            "Epoch 00009: val_acc did not improve from 0.99190\n",
            "Epoch 10/40\n",
            "\n",
            "Epoch 00010: LearningRateScheduler setting learning rate to 0.009999999776482582.\n",
            "60000/60000 [==============================] - 5s 81us/step - loss: 0.0352 - acc: 0.9892 - val_loss: 0.0297 - val_acc: 0.9909\n",
            "\n",
            "Epoch 00010: val_acc did not improve from 0.99190\n",
            "Epoch 11/40\n",
            "\n",
            "Epoch 00011: LearningRateScheduler setting learning rate to 0.004999999888241291.\n",
            "60000/60000 [==============================] - 5s 80us/step - loss: 0.0272 - acc: 0.9915 - val_loss: 0.0209 - val_acc: 0.9937\n",
            "\n",
            "Epoch 00011: val_acc improved from 0.99190 to 0.99370, saving model to /content/gdrive/My Drive/EVA/S4/FOURTH/epochs:011-val_acc:0.9937.hdf5\n",
            "Epoch 12/40\n",
            "\n",
            "Epoch 00012: LearningRateScheduler setting learning rate to 0.004999999888241291.\n",
            "60000/60000 [==============================] - 5s 85us/step - loss: 0.0240 - acc: 0.9925 - val_loss: 0.0209 - val_acc: 0.9935\n",
            "\n",
            "Epoch 00012: val_acc did not improve from 0.99370\n",
            "Epoch 13/40\n",
            "\n",
            "Epoch 00013: LearningRateScheduler setting learning rate to 0.004999999888241291.\n",
            "60000/60000 [==============================] - 5s 87us/step - loss: 0.0253 - acc: 0.9919 - val_loss: 0.0249 - val_acc: 0.9931\n",
            "\n",
            "Epoch 00013: val_acc did not improve from 0.99370\n",
            "Epoch 14/40\n",
            "\n",
            "Epoch 00014: LearningRateScheduler setting learning rate to 0.004999999888241291.\n",
            "60000/60000 [==============================] - 5s 82us/step - loss: 0.0238 - acc: 0.9922 - val_loss: 0.0253 - val_acc: 0.9923\n",
            "\n",
            "Epoch 00014: val_acc did not improve from 0.99370\n",
            "Epoch 15/40\n",
            "\n",
            "Epoch 00015: LearningRateScheduler setting learning rate to 0.004999999888241291.\n",
            "60000/60000 [==============================] - 5s 81us/step - loss: 0.0238 - acc: 0.9923 - val_loss: 0.0180 - val_acc: 0.9947\n",
            "\n",
            "Epoch 00015: val_acc improved from 0.99370 to 0.99470, saving model to /content/gdrive/My Drive/EVA/S4/FOURTH/epochs:015-val_acc:0.9947.hdf5\n",
            "Epoch 16/40\n",
            "\n",
            "Epoch 00016: LearningRateScheduler setting learning rate to 0.004999999888241291.\n",
            "60000/60000 [==============================] - 5s 80us/step - loss: 0.0253 - acc: 0.9921 - val_loss: 0.0210 - val_acc: 0.9932\n",
            "\n",
            "Epoch 00016: val_acc did not improve from 0.99470\n",
            "Epoch 17/40\n",
            "\n",
            "Epoch 00017: LearningRateScheduler setting learning rate to 0.004999999888241291.\n",
            "60000/60000 [==============================] - 5s 81us/step - loss: 0.0247 - acc: 0.9921 - val_loss: 0.0255 - val_acc: 0.9923\n",
            "\n",
            "Epoch 00017: val_acc did not improve from 0.99470\n",
            "Epoch 18/40\n",
            "\n",
            "Epoch 00018: LearningRateScheduler setting learning rate to 0.004999999888241291.\n",
            "60000/60000 [==============================] - 5s 81us/step - loss: 0.0244 - acc: 0.9922 - val_loss: 0.0214 - val_acc: 0.9933\n",
            "\n",
            "Epoch 00018: val_acc did not improve from 0.99470\n",
            "Epoch 19/40\n",
            "\n",
            "Epoch 00019: LearningRateScheduler setting learning rate to 0.004999999888241291.\n",
            "60000/60000 [==============================] - 5s 81us/step - loss: 0.0235 - acc: 0.9924 - val_loss: 0.0214 - val_acc: 0.9939\n",
            "\n",
            "Epoch 00019: val_acc did not improve from 0.99470\n",
            "Epoch 20/40\n",
            "\n",
            "Epoch 00020: LearningRateScheduler setting learning rate to 0.004999999888241291.\n",
            "60000/60000 [==============================] - 5s 81us/step - loss: 0.0243 - acc: 0.9922 - val_loss: 0.0218 - val_acc: 0.9937\n",
            "\n",
            "Epoch 00020: val_acc did not improve from 0.99470\n",
            "Epoch 21/40\n",
            "\n",
            "Epoch 00021: LearningRateScheduler setting learning rate to 0.0024999999441206455.\n",
            "60000/60000 [==============================] - 5s 85us/step - loss: 0.0194 - acc: 0.9938 - val_loss: 0.0206 - val_acc: 0.9941\n",
            "\n",
            "Epoch 00021: val_acc did not improve from 0.99470\n",
            "Epoch 22/40\n",
            "\n",
            "Epoch 00022: LearningRateScheduler setting learning rate to 0.0024999999441206455.\n",
            "60000/60000 [==============================] - 5s 84us/step - loss: 0.0189 - acc: 0.9936 - val_loss: 0.0178 - val_acc: 0.9943\n",
            "\n",
            "Epoch 00022: val_acc did not improve from 0.99470\n",
            "Epoch 23/40\n",
            "\n",
            "Epoch 00023: LearningRateScheduler setting learning rate to 0.0024999999441206455.\n",
            "60000/60000 [==============================] - 5s 81us/step - loss: 0.0172 - acc: 0.9943 - val_loss: 0.0217 - val_acc: 0.9942\n",
            "\n",
            "Epoch 00023: val_acc did not improve from 0.99470\n",
            "Epoch 24/40\n",
            "\n",
            "Epoch 00024: LearningRateScheduler setting learning rate to 0.0024999999441206455.\n",
            "60000/60000 [==============================] - 5s 81us/step - loss: 0.0170 - acc: 0.9944 - val_loss: 0.0219 - val_acc: 0.9940\n",
            "\n",
            "Epoch 00024: val_acc did not improve from 0.99470\n",
            "Epoch 25/40\n",
            "\n",
            "Epoch 00025: LearningRateScheduler setting learning rate to 0.0024999999441206455.\n",
            "60000/60000 [==============================] - 5s 82us/step - loss: 0.0169 - acc: 0.9945 - val_loss: 0.0228 - val_acc: 0.9936\n",
            "\n",
            "Epoch 00025: val_acc did not improve from 0.99470\n",
            "Epoch 26/40\n",
            "\n",
            "Epoch 00026: LearningRateScheduler setting learning rate to 0.0024999999441206455.\n",
            "60000/60000 [==============================] - 5s 81us/step - loss: 0.0163 - acc: 0.9948 - val_loss: 0.0208 - val_acc: 0.9942\n",
            "\n",
            "Epoch 00026: val_acc did not improve from 0.99470\n",
            "Epoch 27/40\n",
            "\n",
            "Epoch 00027: LearningRateScheduler setting learning rate to 0.0024999999441206455.\n",
            "60000/60000 [==============================] - 5s 81us/step - loss: 0.0171 - acc: 0.9944 - val_loss: 0.0191 - val_acc: 0.9946\n",
            "\n",
            "Epoch 00027: val_acc did not improve from 0.99470\n",
            "Epoch 28/40\n",
            "\n",
            "Epoch 00028: LearningRateScheduler setting learning rate to 0.0024999999441206455.\n",
            "60000/60000 [==============================] - 5s 83us/step - loss: 0.0168 - acc: 0.9947 - val_loss: 0.0211 - val_acc: 0.9940\n",
            "\n",
            "Epoch 00028: val_acc did not improve from 0.99470\n",
            "Epoch 29/40\n",
            "\n",
            "Epoch 00029: LearningRateScheduler setting learning rate to 0.0024999999441206455.\n",
            "60000/60000 [==============================] - 5s 83us/step - loss: 0.0170 - acc: 0.9943 - val_loss: 0.0210 - val_acc: 0.9941\n",
            "\n",
            "Epoch 00029: val_acc did not improve from 0.99470\n",
            "Epoch 30/40\n",
            "\n",
            "Epoch 00030: LearningRateScheduler setting learning rate to 0.0024999999441206455.\n",
            "60000/60000 [==============================] - 5s 84us/step - loss: 0.0171 - acc: 0.9947 - val_loss: 0.0182 - val_acc: 0.9943\n",
            "\n",
            "Epoch 00030: val_acc did not improve from 0.99470\n",
            "Epoch 31/40\n",
            "\n",
            "Epoch 00031: LearningRateScheduler setting learning rate to 0.0012499999720603228.\n",
            "60000/60000 [==============================] - 5s 86us/step - loss: 0.0146 - acc: 0.9953 - val_loss: 0.0176 - val_acc: 0.9946\n",
            "\n",
            "Epoch 00031: val_acc did not improve from 0.99470\n",
            "Epoch 32/40\n",
            "\n",
            "Epoch 00032: LearningRateScheduler setting learning rate to 0.0012499999720603228.\n",
            "60000/60000 [==============================] - 5s 84us/step - loss: 0.0140 - acc: 0.9955 - val_loss: 0.0209 - val_acc: 0.9939\n",
            "\n",
            "Epoch 00032: val_acc did not improve from 0.99470\n",
            "Epoch 33/40\n",
            "\n",
            "Epoch 00033: LearningRateScheduler setting learning rate to 0.0012499999720603228.\n",
            "60000/60000 [==============================] - 5s 83us/step - loss: 0.0139 - acc: 0.9957 - val_loss: 0.0195 - val_acc: 0.9944\n",
            "\n",
            "Epoch 00033: val_acc did not improve from 0.99470\n",
            "Epoch 34/40\n",
            "\n",
            "Epoch 00034: LearningRateScheduler setting learning rate to 0.0012499999720603228.\n",
            "60000/60000 [==============================] - 5s 83us/step - loss: 0.0135 - acc: 0.9954 - val_loss: 0.0201 - val_acc: 0.9947\n",
            "\n",
            "Epoch 00034: val_acc did not improve from 0.99470\n",
            "Epoch 35/40\n",
            "\n",
            "Epoch 00035: LearningRateScheduler setting learning rate to 0.0012499999720603228.\n",
            "60000/60000 [==============================] - 5s 82us/step - loss: 0.0129 - acc: 0.9959 - val_loss: 0.0186 - val_acc: 0.9952\n",
            "\n",
            "Epoch 00035: val_acc improved from 0.99470 to 0.99520, saving model to /content/gdrive/My Drive/EVA/S4/FOURTH/epochs:035-val_acc:0.9952.hdf5\n",
            "Epoch 36/40\n",
            "\n",
            "Epoch 00036: LearningRateScheduler setting learning rate to 0.0012499999720603228.\n",
            "60000/60000 [==============================] - 5s 82us/step - loss: 0.0125 - acc: 0.9957 - val_loss: 0.0196 - val_acc: 0.9945\n",
            "\n",
            "Epoch 00036: val_acc did not improve from 0.99520\n",
            "Epoch 37/40\n",
            "\n",
            "Epoch 00037: LearningRateScheduler setting learning rate to 0.0012499999720603228.\n",
            "60000/60000 [==============================] - 5s 83us/step - loss: 0.0134 - acc: 0.9957 - val_loss: 0.0200 - val_acc: 0.9951\n",
            "\n",
            "Epoch 00037: val_acc did not improve from 0.99520\n",
            "Epoch 38/40\n",
            "\n",
            "Epoch 00038: LearningRateScheduler setting learning rate to 0.0012499999720603228.\n",
            "60000/60000 [==============================] - 5s 83us/step - loss: 0.0127 - acc: 0.9957 - val_loss: 0.0189 - val_acc: 0.9951\n",
            "\n",
            "Epoch 00038: val_acc did not improve from 0.99520\n",
            "Epoch 39/40\n",
            "\n",
            "Epoch 00039: LearningRateScheduler setting learning rate to 0.0012499999720603228.\n",
            "60000/60000 [==============================] - 5s 86us/step - loss: 0.0133 - acc: 0.9956 - val_loss: 0.0221 - val_acc: 0.9945\n",
            "\n",
            "Epoch 00039: val_acc did not improve from 0.99520\n",
            "Epoch 40/40\n",
            "\n",
            "Epoch 00040: LearningRateScheduler setting learning rate to 0.0012499999720603228.\n",
            "60000/60000 [==============================] - 5s 81us/step - loss: 0.0128 - acc: 0.9959 - val_loss: 0.0226 - val_acc: 0.9936\n",
            "\n",
            "Epoch 00040: val_acc did not improve from 0.99520\n"
          ],
          "name": "stdout"
        },
        {
          "output_type": "execute_result",
          "data": {
            "text/plain": [
              "<keras.callbacks.History at 0x7f02ed6aaa90>"
            ]
          },
          "metadata": {
            "tags": []
          },
          "execution_count": 38
        }
      ]
    },
    {
      "cell_type": "markdown",
      "metadata": {
        "id": "KYRREmNZBit1",
        "colab_type": "text"
      },
      "source": [
        "### Load the best model and evaluate on test data"
      ]
    },
    {
      "cell_type": "code",
      "metadata": {
        "id": "W2F73tm1BnVu",
        "colab_type": "code",
        "colab": {}
      },
      "source": [
        "from keras.models import load_model\n",
        "# Take the best saved model as printed in the above code block\n",
        "modelPath = r'/content/gdrive/My Drive/EVA/S4/FOURTH/epochs:035-val_acc:0.9952.hdf5'\n",
        "model = load_model(modelPath)"
      ],
      "execution_count": 0,
      "outputs": []
    },
    {
      "cell_type": "code",
      "metadata": {
        "id": "AtsH-lLk-eLb",
        "colab_type": "code",
        "colab": {}
      },
      "source": [
        "score = model.evaluate(X_test, Y_test, verbose=0)"
      ],
      "execution_count": 0,
      "outputs": []
    },
    {
      "cell_type": "code",
      "metadata": {
        "id": "mkX8JMv79q9r",
        "colab_type": "code",
        "outputId": "b7e113f8-2a5f-467f-ea6f-9d9a4369b4d0",
        "colab": {
          "base_uri": "https://localhost:8080/",
          "height": 34
        }
      },
      "source": [
        "print(score)"
      ],
      "execution_count": 41,
      "outputs": [
        {
          "output_type": "stream",
          "text": [
            "[0.018647597733735893, 0.9952]\n"
          ],
          "name": "stdout"
        }
      ]
    },
    {
      "cell_type": "code",
      "metadata": {
        "id": "OCWoJkwE9suh",
        "colab_type": "code",
        "colab": {}
      },
      "source": [
        "y_pred = model.predict(X_test)"
      ],
      "execution_count": 0,
      "outputs": []
    },
    {
      "cell_type": "code",
      "metadata": {
        "id": "Ym7iCFBm9uBs",
        "colab_type": "code",
        "outputId": "c6ca3d6e-aa8a-4426-bc98-a19425af5d92",
        "colab": {
          "base_uri": "https://localhost:8080/",
          "height": 340
        }
      },
      "source": [
        "print(y_pred[:9])\n",
        "print(y_test[:9])"
      ],
      "execution_count": 43,
      "outputs": [
        {
          "output_type": "stream",
          "text": [
            "[[4.4306551e-11 6.8768614e-08 5.4918274e-08 8.8720334e-08 2.9327941e-07\n",
            "  6.0152296e-09 2.0409859e-12 9.9999905e-01 3.8985412e-11 3.9241792e-07]\n",
            " [1.7105074e-09 7.8554834e-09 1.0000000e+00 7.0637509e-09 3.6092840e-09\n",
            "  4.8470478e-10 1.0563855e-08 5.2888957e-11 1.2818546e-08 6.8689190e-13]\n",
            " [6.6938384e-07 9.9998403e-01 1.0492111e-06 1.2461882e-07 2.3584948e-06\n",
            "  1.4536392e-06 2.5528980e-06 7.0647002e-06 2.8098501e-07 3.6913903e-07]\n",
            " [9.9999392e-01 5.9122720e-12 1.8269232e-09 5.2766897e-08 3.4746347e-10\n",
            "  1.1287215e-08 3.5795138e-06 3.3969574e-09 1.3574399e-06 1.1449207e-06]\n",
            " [4.1339879e-11 6.6340528e-10 3.8491189e-12 4.1561107e-10 9.9999762e-01\n",
            "  4.5417373e-10 3.9595784e-09 8.3689002e-08 2.9509841e-09 2.3164830e-06]\n",
            " [3.6314529e-07 9.9997878e-01 1.0643812e-06 1.8878524e-07 2.0831349e-06\n",
            "  6.1746653e-07 1.3326621e-06 1.5043537e-05 1.6421244e-07 3.2757575e-07]\n",
            " [6.8435735e-10 3.5220995e-07 9.2405816e-10 2.6386200e-09 9.9982077e-01\n",
            "  2.7488932e-07 8.6821800e-10 6.2100080e-06 3.2413584e-05 1.4010728e-04]\n",
            " [1.2176049e-11 5.7876814e-10 1.6788326e-07 7.4186035e-09 2.7617189e-04\n",
            "  6.6978560e-09 3.3874636e-14 2.8437331e-08 5.5865632e-07 9.9972302e-01]\n",
            " [3.9820285e-09 1.2767688e-09 5.2065570e-09 9.4908972e-07 2.9376988e-09\n",
            "  9.9805462e-01 1.8953631e-03 9.6417130e-10 4.5891571e-05 3.2402440e-06]]\n",
            "[7 2 1 0 4 1 4 9 5]\n"
          ],
          "name": "stdout"
        }
      ]
    },
    {
      "cell_type": "code",
      "metadata": {
        "id": "CT--y98_dr2T",
        "colab_type": "code",
        "colab": {}
      },
      "source": [
        "layer_dict = dict([(layer.name, layer) for layer in model.layers])"
      ],
      "execution_count": 0,
      "outputs": []
    },
    {
      "cell_type": "code",
      "metadata": {
        "id": "2GY4Upv4dsUR",
        "colab_type": "code",
        "outputId": "0fd6a4ed-7df8-4fc3-a38b-944f1bc972d1",
        "colab": {
          "base_uri": "https://localhost:8080/",
          "height": 316
        }
      },
      "source": [
        "import numpy as np\n",
        "from matplotlib import pyplot as plt\n",
        "from keras import backend as K\n",
        "%matplotlib inline\n",
        "# util function to convert a tensor into a valid image\n",
        "def deprocess_image(x):\n",
        "    # normalize tensor: center on 0., ensure std is 0.1\n",
        "    x -= x.mean()\n",
        "    x /= (x.std() + 1e-5)\n",
        "    x *= 0.1\n",
        "\n",
        "    # clip to [0, 1]\n",
        "    x += 0.5\n",
        "    x = np.clip(x, 0, 1)\n",
        "\n",
        "    # convert to RGB array\n",
        "    x *= 255\n",
        "    #x = x.transpose((1, 2, 0))\n",
        "    x = np.clip(x, 0, 255).astype('uint8')\n",
        "    return x\n",
        "\n",
        "def vis_img_in_filter(img = np.array(X_train[2]).reshape((1, 28, 28, 1)).astype(np.float64), \n",
        "                      layer_name = 'conv2d_2'):\n",
        "    layer_output = layer_dict[layer_name].output\n",
        "    img_ascs = list()\n",
        "    for filter_index in range(layer_output.shape[3]):\n",
        "        # build a loss function that maximizes the activation\n",
        "        # of the nth filter of the layer considered\n",
        "        loss = K.mean(layer_output[:, :, :, filter_index])\n",
        "\n",
        "        # compute the gradient of the input picture wrt this loss\n",
        "        grads = K.gradients(loss, model.input)[0]\n",
        "\n",
        "        # normalization trick: we normalize the gradient\n",
        "        grads /= (K.sqrt(K.mean(K.square(grads))) + 1e-5)\n",
        "\n",
        "        # this function returns the loss and grads given the input picture\n",
        "        iterate = K.function([model.input], [loss, grads])\n",
        "\n",
        "        # step size for gradient ascent\n",
        "        step = 5.\n",
        "\n",
        "        img_asc = np.array(img)\n",
        "        # run gradient ascent for 20 steps\n",
        "        for i in range(20):\n",
        "            loss_value, grads_value = iterate([img_asc])\n",
        "            img_asc += grads_value * step\n",
        "\n",
        "        img_asc = img_asc[0]\n",
        "        img_ascs.append(deprocess_image(img_asc).reshape((28, 28)))\n",
        "        \n",
        "    if layer_output.shape[3] >= 35:\n",
        "        plot_x, plot_y = 6, 6\n",
        "    elif layer_output.shape[3] >= 23:\n",
        "        plot_x, plot_y = 4, 6\n",
        "    elif layer_output.shape[3] >= 11:\n",
        "        plot_x, plot_y = 2, 6\n",
        "    else:\n",
        "        plot_x, plot_y = 1, 2\n",
        "    fig, ax = plt.subplots(plot_x, plot_y, figsize = (12, 12))\n",
        "    ax[0, 0].imshow(img.reshape((28, 28)), cmap = 'gray')\n",
        "    ax[0, 0].set_title('Input image')\n",
        "    fig.suptitle('Input image and %s filters' % (layer_name,))\n",
        "    fig.tight_layout(pad = 0.3, rect = [0, 0, 0.9, 0.9])\n",
        "    for (x, y) in [(i, j) for i in range(plot_x) for j in range(plot_y)]:\n",
        "        if x == 0 and y == 0:\n",
        "            continue\n",
        "        ax[x, y].imshow(img_ascs[x * plot_y + y - 1], cmap = 'gray')\n",
        "        ax[x, y].set_title('filter %d' % (x * plot_y + y - 1))\n",
        "\n",
        "vis_img_in_filter()"
      ],
      "execution_count": 47,
      "outputs": [
        {
          "output_type": "error",
          "ename": "KeyError",
          "evalue": "ignored",
          "traceback": [
            "\u001b[0;31m---------------------------------------------------------------------------\u001b[0m",
            "\u001b[0;31mKeyError\u001b[0m                                  Traceback (most recent call last)",
            "\u001b[0;32m<ipython-input-47-0473255e7406>\u001b[0m in \u001b[0;36m<module>\u001b[0;34m()\u001b[0m\n\u001b[1;32m     69\u001b[0m         \u001b[0max\u001b[0m\u001b[0;34m[\u001b[0m\u001b[0mx\u001b[0m\u001b[0;34m,\u001b[0m \u001b[0my\u001b[0m\u001b[0;34m]\u001b[0m\u001b[0;34m.\u001b[0m\u001b[0mset_title\u001b[0m\u001b[0;34m(\u001b[0m\u001b[0;34m'filter %d'\u001b[0m \u001b[0;34m%\u001b[0m \u001b[0;34m(\u001b[0m\u001b[0mx\u001b[0m \u001b[0;34m*\u001b[0m \u001b[0mplot_y\u001b[0m \u001b[0;34m+\u001b[0m \u001b[0my\u001b[0m \u001b[0;34m-\u001b[0m \u001b[0;36m1\u001b[0m\u001b[0;34m)\u001b[0m\u001b[0;34m)\u001b[0m\u001b[0;34m\u001b[0m\u001b[0;34m\u001b[0m\u001b[0m\n\u001b[1;32m     70\u001b[0m \u001b[0;34m\u001b[0m\u001b[0m\n\u001b[0;32m---> 71\u001b[0;31m \u001b[0mvis_img_in_filter\u001b[0m\u001b[0;34m(\u001b[0m\u001b[0;34m)\u001b[0m\u001b[0;34m\u001b[0m\u001b[0;34m\u001b[0m\u001b[0m\n\u001b[0m",
            "\u001b[0;32m<ipython-input-47-0473255e7406>\u001b[0m in \u001b[0;36mvis_img_in_filter\u001b[0;34m(img, layer_name)\u001b[0m\n\u001b[1;32m     22\u001b[0m def vis_img_in_filter(img = np.array(X_train[2]).reshape((1, 28, 28, 1)).astype(np.float64), \n\u001b[1;32m     23\u001b[0m                       layer_name = 'conv2d_2'):\n\u001b[0;32m---> 24\u001b[0;31m     \u001b[0mlayer_output\u001b[0m \u001b[0;34m=\u001b[0m \u001b[0mlayer_dict\u001b[0m\u001b[0;34m[\u001b[0m\u001b[0mlayer_name\u001b[0m\u001b[0;34m]\u001b[0m\u001b[0;34m.\u001b[0m\u001b[0moutput\u001b[0m\u001b[0;34m\u001b[0m\u001b[0;34m\u001b[0m\u001b[0m\n\u001b[0m\u001b[1;32m     25\u001b[0m     \u001b[0mimg_ascs\u001b[0m \u001b[0;34m=\u001b[0m \u001b[0mlist\u001b[0m\u001b[0;34m(\u001b[0m\u001b[0;34m)\u001b[0m\u001b[0;34m\u001b[0m\u001b[0;34m\u001b[0m\u001b[0m\n\u001b[1;32m     26\u001b[0m     \u001b[0;32mfor\u001b[0m \u001b[0mfilter_index\u001b[0m \u001b[0;32min\u001b[0m \u001b[0mrange\u001b[0m\u001b[0;34m(\u001b[0m\u001b[0mlayer_output\u001b[0m\u001b[0;34m.\u001b[0m\u001b[0mshape\u001b[0m\u001b[0;34m[\u001b[0m\u001b[0;36m3\u001b[0m\u001b[0;34m]\u001b[0m\u001b[0;34m)\u001b[0m\u001b[0;34m:\u001b[0m\u001b[0;34m\u001b[0m\u001b[0;34m\u001b[0m\u001b[0m\n",
            "\u001b[0;31mKeyError\u001b[0m: 'conv2d_2'"
          ]
        }
      ]
    },
    {
      "cell_type": "code",
      "metadata": {
        "id": "9tvptcn8dxvp",
        "colab_type": "code",
        "colab": {}
      },
      "source": [
        ""
      ],
      "execution_count": 0,
      "outputs": []
    }
  ]
}