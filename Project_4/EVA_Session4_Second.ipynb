{
  "nbformat": 4,
  "nbformat_minor": 0,
  "metadata": {
    "colab": {
      "name": "Bhagabat Behera_Session4_Second.ipynb",
      "version": "0.3.2",
      "provenance": [],
      "collapsed_sections": []
    },
    "kernelspec": {
      "name": "python3",
      "display_name": "Python 3"
    },
    "accelerator": "GPU"
  },
  "cells": [
    {
      "cell_type": "markdown",
      "metadata": {
        "id": "HFfur4vXbPj4",
        "colab_type": "text"
      },
      "source": [
        "### Header with description"
      ]
    },
    {
      "cell_type": "markdown",
      "metadata": {
        "id": "058n_onPbT7K",
        "colab_type": "text"
      },
      "source": [
        "**Improvements on First model:**\n",
        "* Increased batch size from 32 to 128 that in turn increased the probability of inclusion of samples of all the classes\n",
        "* Added batch normalization except after the last convolution layer\n",
        "* Altered the optimizor with a fixed learning rate\n",
        "\n",
        "\n",
        "**What could have gone wrong for what I got:**\n",
        "* The model is overfitting, hence there is a need of image augmentation or dropout\n",
        "* Increase in batch size did not help much, however we can keep it for further testing as it better represents sampling from all the classes\n",
        "* A fixed learning rate did not help much. May be ReduceLROnPlatau or LRScheduler will help\n",
        "* Most importantly I think the network itself is not powerful enough and I can try making it deeper with more layers"
      ]
    },
    {
      "cell_type": "markdown",
      "metadata": {
        "id": "aNyZv-Ec52ot",
        "colab_type": "text"
      },
      "source": [
        "### Import Libraries and modules"
      ]
    },
    {
      "cell_type": "code",
      "metadata": {
        "id": "3m3w1Cw49Zkt",
        "colab_type": "code",
        "colab": {}
      },
      "source": [
        "# https://keras.io/\n",
        "!pip install -q keras\n",
        "import keras"
      ],
      "execution_count": 0,
      "outputs": []
    },
    {
      "cell_type": "code",
      "metadata": {
        "id": "Eso6UHE080D4",
        "colab_type": "code",
        "colab": {}
      },
      "source": [
        "import numpy as np\n",
        "\n",
        "from keras.models import Sequential\n",
        "from keras.layers import Dense, Dropout, Activation, Flatten, Add\n",
        "from keras.layers import Convolution2D, MaxPooling2D\n",
        "from keras.utils import np_utils\n",
        "\n",
        "from keras.datasets import mnist"
      ],
      "execution_count": 0,
      "outputs": []
    },
    {
      "cell_type": "markdown",
      "metadata": {
        "id": "zByEi95J86RD",
        "colab_type": "text"
      },
      "source": [
        "### Load pre-shuffled MNIST data into train and test sets"
      ]
    },
    {
      "cell_type": "code",
      "metadata": {
        "id": "7eRM0QWN83PV",
        "colab_type": "code",
        "colab": {}
      },
      "source": [
        "(X_train, y_train), (X_test, y_test) = mnist.load_data()"
      ],
      "execution_count": 0,
      "outputs": []
    },
    {
      "cell_type": "code",
      "metadata": {
        "id": "4a4Be72j8-ZC",
        "colab_type": "code",
        "outputId": "9a80cc8c-c2cf-4562-f666-cfbccf6270ae",
        "colab": {
          "base_uri": "https://localhost:8080/",
          "height": 303
        }
      },
      "source": [
        "print (X_train.shape)\n",
        "from matplotlib import pyplot as plt\n",
        "%matplotlib inline\n",
        "plt.imshow(X_train[0])"
      ],
      "execution_count": 14,
      "outputs": [
        {
          "output_type": "stream",
          "text": [
            "(60000, 28, 28)\n"
          ],
          "name": "stdout"
        },
        {
          "output_type": "execute_result",
          "data": {
            "text/plain": [
              "<matplotlib.image.AxesImage at 0x7f54329efe80>"
            ]
          },
          "metadata": {
            "tags": []
          },
          "execution_count": 14
        },
        {
          "output_type": "display_data",
          "data": {
            "image/png": "[encoded data removed]",
            "text/plain": [
              "<Figure size 432x288 with 1 Axes>"
            ]
          },
          "metadata": {
            "tags": []
          }
        }
      ]
    },
    {
      "cell_type": "code",
      "metadata": {
        "id": "dkmprriw9AnZ",
        "colab_type": "code",
        "colab": {}
      },
      "source": [
        "X_train = X_train.reshape(X_train.shape[0], 28, 28,1)\n",
        "X_test = X_test.reshape(X_test.shape[0], 28, 28,1)"
      ],
      "execution_count": 0,
      "outputs": []
    },
    {
      "cell_type": "code",
      "metadata": {
        "id": "X2m4YS4E9CRh",
        "colab_type": "code",
        "colab": {}
      },
      "source": [
        "X_train = X_train.astype('float32')\n",
        "X_test = X_test.astype('float32')\n",
        "X_train /= 255\n",
        "X_test /= 255"
      ],
      "execution_count": 0,
      "outputs": []
    },
    {
      "cell_type": "code",
      "metadata": {
        "id": "0Mn0vAYD9DvB",
        "colab_type": "code",
        "outputId": "7fa6a95a-fda0-4b5a-eba5-27042570b4fd",
        "colab": {
          "base_uri": "https://localhost:8080/",
          "height": 34
        }
      },
      "source": [
        "y_train[:10]"
      ],
      "execution_count": 17,
      "outputs": [
        {
          "output_type": "execute_result",
          "data": {
            "text/plain": [
              "array([5, 0, 4, 1, 9, 2, 1, 3, 1, 4], dtype=uint8)"
            ]
          },
          "metadata": {
            "tags": []
          },
          "execution_count": 17
        }
      ]
    },
    {
      "cell_type": "code",
      "metadata": {
        "id": "ZG8JiXR39FHC",
        "colab_type": "code",
        "colab": {}
      },
      "source": [
        "# Convert 1-dimensional class arrays to 10-dimensional class matrices\n",
        "Y_train = np_utils.to_categorical(y_train, 10)\n",
        "Y_test = np_utils.to_categorical(y_test, 10)"
      ],
      "execution_count": 0,
      "outputs": []
    },
    {
      "cell_type": "code",
      "metadata": {
        "id": "fYlFRvKS9HMB",
        "colab_type": "code",
        "outputId": "d9287952-0114-4df4-ab1d-dd6859e85d5a",
        "colab": {
          "base_uri": "https://localhost:8080/",
          "height": 187
        }
      },
      "source": [
        "Y_train[:10]\n"
      ],
      "execution_count": 19,
      "outputs": [
        {
          "output_type": "execute_result",
          "data": {
            "text/plain": [
              "array([[0., 0., 0., 0., 0., 1., 0., 0., 0., 0.],\n",
              "       [1., 0., 0., 0., 0., 0., 0., 0., 0., 0.],\n",
              "       [0., 0., 0., 0., 1., 0., 0., 0., 0., 0.],\n",
              "       [0., 1., 0., 0., 0., 0., 0., 0., 0., 0.],\n",
              "       [0., 0., 0., 0., 0., 0., 0., 0., 0., 1.],\n",
              "       [0., 0., 1., 0., 0., 0., 0., 0., 0., 0.],\n",
              "       [0., 1., 0., 0., 0., 0., 0., 0., 0., 0.],\n",
              "       [0., 0., 0., 1., 0., 0., 0., 0., 0., 0.],\n",
              "       [0., 1., 0., 0., 0., 0., 0., 0., 0., 0.],\n",
              "       [0., 0., 0., 0., 1., 0., 0., 0., 0., 0.]], dtype=float32)"
            ]
          },
          "metadata": {
            "tags": []
          },
          "execution_count": 19
        }
      ]
    },
    {
      "cell_type": "markdown",
      "metadata": {
        "id": "OUtHMXoE4a47",
        "colab_type": "text"
      },
      "source": [
        "### Build model"
      ]
    },
    {
      "cell_type": "code",
      "metadata": {
        "id": "sBa3Tugaj3KN",
        "colab_type": "code",
        "outputId": "93820008-123a-467c-ac2f-c63da64e33c7",
        "colab": {
          "base_uri": "https://localhost:8080/",
          "height": 139
        }
      },
      "source": [
        "from keras.layers import Activation\n",
        "from keras.layers.normalization import BatchNormalization\n",
        "\n",
        "model = Sequential()\n",
        "\n",
        "model.add(Convolution2D(20, 3, 3, activation='relu', input_shape=(28,28,1), use_bias=False)) #OutputChannelSize=26, RF=3x3\n",
        "model.add(BatchNormalization())\n",
        "model.add(Convolution2D(40, 3, 3, activation='relu', use_bias=False))  #OutputChannelSize=24, RF=5x5\n",
        "model.add(BatchNormalization())\n",
        "model.add(Convolution2D(10, 1, activation='relu')) #OutputChannelSize=24, RF=5x5\n",
        "model.add(BatchNormalization())\n",
        "model.add(MaxPooling2D(pool_size=(2, 2)))  #OutputChannelSize=12, RF=10x10\n",
        "\n",
        "model.add(Convolution2D(20, 3, 3, activation='relu', use_bias=False))  #OutputChannelSize=10, RF=12x12\n",
        "model.add(BatchNormalization())\n",
        "model.add(Convolution2D(10, 1, activation='relu', use_bias=False))  #OutputChannelSize=10, RF=12x12\n",
        "model.add(BatchNormalization())\n",
        "model.add(MaxPooling2D(pool_size=(2, 2)))  #OutputChannelSize=5, RF=24x24\n",
        "\n",
        "model.add(Convolution2D(10, 5, use_bias=False))\n",
        "\n",
        "model.add(Flatten())\n",
        "model.add(Activation('softmax'))"
      ],
      "execution_count": 31,
      "outputs": [
        {
          "output_type": "stream",
          "text": [
            "/usr/local/lib/python3.6/dist-packages/ipykernel_launcher.py:6: UserWarning: Update your `Conv2D` call to the Keras 2 API: `Conv2D(20, (3, 3), activation=\"relu\", input_shape=(28, 28, 1..., use_bias=False)`\n",
            "  \n",
            "/usr/local/lib/python3.6/dist-packages/ipykernel_launcher.py:8: UserWarning: Update your `Conv2D` call to the Keras 2 API: `Conv2D(40, (3, 3), activation=\"relu\", use_bias=False)`\n",
            "  \n",
            "/usr/local/lib/python3.6/dist-packages/ipykernel_launcher.py:14: UserWarning: Update your `Conv2D` call to the Keras 2 API: `Conv2D(20, (3, 3), activation=\"relu\", use_bias=False)`\n",
            "  \n"
          ],
          "name": "stderr"
        }
      ]
    },
    {
      "cell_type": "code",
      "metadata": {
        "id": "TzdAYg1k9K7Z",
        "colab_type": "code",
        "outputId": "31ea997f-96ca-4931-ae00-099b5c383a72",
        "colab": {
          "base_uri": "https://localhost:8080/",
          "height": 646
        }
      },
      "source": [
        "model.summary()"
      ],
      "execution_count": 21,
      "outputs": [
        {
          "output_type": "stream",
          "text": [
            "_________________________________________________________________\n",
            "Layer (type)                 Output Shape              Param #   \n",
            "=================================================================\n",
            "conv2d_1 (Conv2D)            (None, 26, 26, 20)        180       \n",
            "_________________________________________________________________\n",
            "batch_normalization_1 (Batch (None, 26, 26, 20)        80        \n",
            "_________________________________________________________________\n",
            "conv2d_2 (Conv2D)            (None, 24, 24, 40)        7200      \n",
            "_________________________________________________________________\n",
            "batch_normalization_2 (Batch (None, 24, 24, 40)        160       \n",
            "_________________________________________________________________\n",
            "conv2d_3 (Conv2D)            (None, 24, 24, 10)        410       \n",
            "_________________________________________________________________\n",
            "batch_normalization_3 (Batch (None, 24, 24, 10)        40        \n",
            "_________________________________________________________________\n",
            "max_pooling2d_1 (MaxPooling2 (None, 12, 12, 10)        0         \n",
            "_________________________________________________________________\n",
            "conv2d_4 (Conv2D)            (None, 10, 10, 20)        1800      \n",
            "_________________________________________________________________\n",
            "batch_normalization_4 (Batch (None, 10, 10, 20)        80        \n",
            "_________________________________________________________________\n",
            "conv2d_5 (Conv2D)            (None, 10, 10, 10)        200       \n",
            "_________________________________________________________________\n",
            "batch_normalization_5 (Batch (None, 10, 10, 10)        40        \n",
            "_________________________________________________________________\n",
            "max_pooling2d_2 (MaxPooling2 (None, 5, 5, 10)          0         \n",
            "_________________________________________________________________\n",
            "conv2d_6 (Conv2D)            (None, 1, 1, 10)          2500      \n",
            "_________________________________________________________________\n",
            "flatten_1 (Flatten)          (None, 10)                0         \n",
            "_________________________________________________________________\n",
            "activation_1 (Activation)    (None, 10)                0         \n",
            "=================================================================\n",
            "Total params: 12,690\n",
            "Trainable params: 12,490\n",
            "Non-trainable params: 200\n",
            "_________________________________________________________________\n"
          ],
          "name": "stdout"
        }
      ]
    },
    {
      "cell_type": "markdown",
      "metadata": {
        "id": "F-cSvfeUtM4o",
        "colab_type": "text"
      },
      "source": [
        "### Checkpoint Configuration"
      ]
    },
    {
      "cell_type": "code",
      "metadata": {
        "id": "B5ix8TFFtQdg",
        "colab_type": "code",
        "colab": {
          "base_uri": "https://localhost:8080/",
          "height": 34
        },
        "outputId": "34fe6d58-b5a4-487b-eeae-4fb2a8b807b6"
      },
      "source": [
        "from google.colab import drive\n",
        "drive.mount('/content/gdrive')"
      ],
      "execution_count": 24,
      "outputs": [
        {
          "output_type": "stream",
          "text": [
            "Drive already mounted at /content/gdrive; to attempt to forcibly remount, call drive.mount(\"/content/gdrive\", force_remount=True).\n"
          ],
          "name": "stdout"
        }
      ]
    },
    {
      "cell_type": "code",
      "metadata": {
        "id": "tVhdbs83tSCm",
        "colab_type": "code",
        "colab": {}
      },
      "source": [
        "!pip install -q h5py pyyaml\n",
        "from keras.models import model_from_json"
      ],
      "execution_count": 0,
      "outputs": []
    },
    {
      "cell_type": "code",
      "metadata": {
        "id": "UZs8isNjtVPl",
        "colab_type": "code",
        "colab": {
          "base_uri": "https://localhost:8080/",
          "height": 34
        },
        "outputId": "c88f8418-978a-4da1-e009-293c89071053"
      },
      "source": [
        "!ls \"/content/gdrive/My Drive/EVA\""
      ],
      "execution_count": 26,
      "outputs": [
        {
          "output_type": "stream",
          "text": [
            "S3V2  S4\n"
          ],
          "name": "stdout"
        }
      ]
    },
    {
      "cell_type": "code",
      "metadata": {
        "id": "LKHR_aIstY0x",
        "colab_type": "code",
        "colab": {}
      },
      "source": [
        "from keras.callbacks import *\n",
        "filepath=\"/content/gdrive/My Drive/EVA/S4/SECOND/epochs:{epoch:03d}-val_acc:{val_acc:.4f}.hdf5\"\n",
        "checkpoint = ModelCheckpoint(filepath, monitor='val_acc', verbose=1, save_best_only=True, save_weights_only=False, mode='auto')"
      ],
      "execution_count": 0,
      "outputs": []
    },
    {
      "cell_type": "code",
      "metadata": {
        "id": "Dp9kV8C8tdM1",
        "colab_type": "code",
        "colab": {}
      },
      "source": [
        "callbacks_list = [checkpoint]"
      ],
      "execution_count": 0,
      "outputs": []
    },
    {
      "cell_type": "markdown",
      "metadata": {
        "id": "4PIDLXzktoam",
        "colab_type": "text"
      },
      "source": [
        "### Compile and Train the model"
      ]
    },
    {
      "cell_type": "markdown",
      "metadata": {
        "id": "vPgL7J8_tAo_",
        "colab_type": "text"
      },
      "source": [
        "Fixing the learning rate with 0.003"
      ]
    },
    {
      "cell_type": "code",
      "metadata": {
        "id": "Zp6SuGrL9M3h",
        "colab_type": "code",
        "colab": {}
      },
      "source": [
        "from keras.optimizers import Adam\n",
        "model.compile(loss='categorical_crossentropy',\n",
        "             optimizer=Adam(lr=0.003),\n",
        "             metrics=['accuracy'])"
      ],
      "execution_count": 0,
      "outputs": []
    },
    {
      "cell_type": "code",
      "metadata": {
        "id": "4xWoKhPY9Of5",
        "colab_type": "code",
        "outputId": "22d76ed6-6d06-45e1-9edf-9b95521efa7f",
        "colab": {
          "base_uri": "https://localhost:8080/",
          "height": 2805
        }
      },
      "source": [
        "model.fit(X_train, Y_train, batch_size=128, validation_data=(X_test, Y_test), nb_epoch=40, callbacks=callbacks_list, verbose=1)"
      ],
      "execution_count": 33,
      "outputs": [
        {
          "output_type": "stream",
          "text": [
            "/usr/local/lib/python3.6/dist-packages/ipykernel_launcher.py:1: UserWarning: The `nb_epoch` argument in `fit` has been renamed `epochs`.\n",
            "  \"\"\"Entry point for launching an IPython kernel.\n"
          ],
          "name": "stderr"
        },
        {
          "output_type": "stream",
          "text": [
            "Train on 60000 samples, validate on 10000 samples\n",
            "Epoch 1/40\n",
            "60000/60000 [==============================] - 6s 98us/step - loss: 0.1589 - acc: 0.9520 - val_loss: 0.0530 - val_acc: 0.9825\n",
            "\n",
            "Epoch 00001: val_acc improved from -inf to 0.98250, saving model to /content/gdrive/My Drive/EVA/S4/SECOND/epochs:001-val_acc:0.9825.hdf5\n",
            "Epoch 2/40\n",
            "60000/60000 [==============================] - 5s 82us/step - loss: 0.0514 - acc: 0.9838 - val_loss: 0.0534 - val_acc: 0.9832\n",
            "\n",
            "Epoch 00002: val_acc improved from 0.98250 to 0.98320, saving model to /content/gdrive/My Drive/EVA/S4/SECOND/epochs:002-val_acc:0.9832.hdf5\n",
            "Epoch 3/40\n",
            "60000/60000 [==============================] - 5s 83us/step - loss: 0.0398 - acc: 0.9872 - val_loss: 0.0459 - val_acc: 0.9846\n",
            "\n",
            "Epoch 00003: val_acc improved from 0.98320 to 0.98460, saving model to /content/gdrive/My Drive/EVA/S4/SECOND/epochs:003-val_acc:0.9846.hdf5\n",
            "Epoch 4/40\n",
            "60000/60000 [==============================] - 5s 89us/step - loss: 0.0349 - acc: 0.9889 - val_loss: 0.0368 - val_acc: 0.9882\n",
            "\n",
            "Epoch 00004: val_acc improved from 0.98460 to 0.98820, saving model to /content/gdrive/My Drive/EVA/S4/SECOND/epochs:004-val_acc:0.9882.hdf5\n",
            "Epoch 5/40\n",
            "60000/60000 [==============================] - 5s 87us/step - loss: 0.0299 - acc: 0.9907 - val_loss: 0.0361 - val_acc: 0.9879\n",
            "\n",
            "Epoch 00005: val_acc did not improve from 0.98820\n",
            "Epoch 6/40\n",
            "60000/60000 [==============================] - 5s 82us/step - loss: 0.0266 - acc: 0.9917 - val_loss: 0.0370 - val_acc: 0.9884\n",
            "\n",
            "Epoch 00006: val_acc improved from 0.98820 to 0.98840, saving model to /content/gdrive/My Drive/EVA/S4/SECOND/epochs:006-val_acc:0.9884.hdf5\n",
            "Epoch 7/40\n",
            "60000/60000 [==============================] - 5s 82us/step - loss: 0.0241 - acc: 0.9921 - val_loss: 0.0315 - val_acc: 0.9903\n",
            "\n",
            "Epoch 00007: val_acc improved from 0.98840 to 0.99030, saving model to /content/gdrive/My Drive/EVA/S4/SECOND/epochs:007-val_acc:0.9903.hdf5\n",
            "Epoch 8/40\n",
            "60000/60000 [==============================] - 5s 88us/step - loss: 0.0218 - acc: 0.9932 - val_loss: 0.0381 - val_acc: 0.9875\n",
            "\n",
            "Epoch 00008: val_acc did not improve from 0.99030\n",
            "Epoch 9/40\n",
            "60000/60000 [==============================] - 5s 87us/step - loss: 0.0204 - acc: 0.9933 - val_loss: 0.0449 - val_acc: 0.9870\n",
            "\n",
            "Epoch 00009: val_acc did not improve from 0.99030\n",
            "Epoch 10/40\n",
            "60000/60000 [==============================] - 5s 82us/step - loss: 0.0187 - acc: 0.9937 - val_loss: 0.0618 - val_acc: 0.9821\n",
            "\n",
            "Epoch 00010: val_acc did not improve from 0.99030\n",
            "Epoch 11/40\n",
            "60000/60000 [==============================] - 5s 82us/step - loss: 0.0174 - acc: 0.9944 - val_loss: 0.0506 - val_acc: 0.9854\n",
            "\n",
            "Epoch 00011: val_acc did not improve from 0.99030\n",
            "Epoch 12/40\n",
            "60000/60000 [==============================] - 5s 81us/step - loss: 0.0157 - acc: 0.9948 - val_loss: 0.0347 - val_acc: 0.9906\n",
            "\n",
            "Epoch 00012: val_acc improved from 0.99030 to 0.99060, saving model to /content/gdrive/My Drive/EVA/S4/SECOND/epochs:012-val_acc:0.9906.hdf5\n",
            "Epoch 13/40\n",
            "60000/60000 [==============================] - 5s 81us/step - loss: 0.0161 - acc: 0.9947 - val_loss: 0.0336 - val_acc: 0.9899\n",
            "\n",
            "Epoch 00013: val_acc did not improve from 0.99060\n",
            "Epoch 14/40\n",
            "60000/60000 [==============================] - 5s 81us/step - loss: 0.0147 - acc: 0.9954 - val_loss: 0.0431 - val_acc: 0.9880\n",
            "\n",
            "Epoch 00014: val_acc did not improve from 0.99060\n",
            "Epoch 15/40\n",
            "60000/60000 [==============================] - 5s 81us/step - loss: 0.0138 - acc: 0.9951 - val_loss: 0.0359 - val_acc: 0.9902\n",
            "\n",
            "Epoch 00015: val_acc did not improve from 0.99060\n",
            "Epoch 16/40\n",
            "60000/60000 [==============================] - 5s 81us/step - loss: 0.0137 - acc: 0.9955 - val_loss: 0.0311 - val_acc: 0.9919\n",
            "\n",
            "Epoch 00016: val_acc improved from 0.99060 to 0.99190, saving model to /content/gdrive/My Drive/EVA/S4/SECOND/epochs:016-val_acc:0.9919.hdf5\n",
            "Epoch 17/40\n",
            "60000/60000 [==============================] - 5s 80us/step - loss: 0.0093 - acc: 0.9969 - val_loss: 0.0334 - val_acc: 0.9909\n",
            "\n",
            "Epoch 00017: val_acc did not improve from 0.99190\n",
            "Epoch 18/40\n",
            "60000/60000 [==============================] - 5s 80us/step - loss: 0.0106 - acc: 0.9964 - val_loss: 0.0372 - val_acc: 0.9895\n",
            "\n",
            "Epoch 00018: val_acc did not improve from 0.99190\n",
            "Epoch 19/40\n",
            "60000/60000 [==============================] - 5s 81us/step - loss: 0.0122 - acc: 0.9960 - val_loss: 0.0429 - val_acc: 0.9886\n",
            "\n",
            "Epoch 00019: val_acc did not improve from 0.99190\n",
            "Epoch 20/40\n",
            "60000/60000 [==============================] - 5s 81us/step - loss: 0.0113 - acc: 0.9959 - val_loss: 0.0347 - val_acc: 0.9903\n",
            "\n",
            "Epoch 00020: val_acc did not improve from 0.99190\n",
            "Epoch 21/40\n",
            "60000/60000 [==============================] - 5s 81us/step - loss: 0.0096 - acc: 0.9967 - val_loss: 0.0544 - val_acc: 0.9853\n",
            "\n",
            "Epoch 00021: val_acc did not improve from 0.99190\n",
            "Epoch 22/40\n",
            "60000/60000 [==============================] - 5s 81us/step - loss: 0.0074 - acc: 0.9975 - val_loss: 0.0388 - val_acc: 0.9904\n",
            "\n",
            "Epoch 00022: val_acc did not improve from 0.99190\n",
            "Epoch 23/40\n",
            "60000/60000 [==============================] - 5s 81us/step - loss: 0.0080 - acc: 0.9971 - val_loss: 0.0391 - val_acc: 0.9896\n",
            "\n",
            "Epoch 00023: val_acc did not improve from 0.99190\n",
            "Epoch 24/40\n",
            "60000/60000 [==============================] - 5s 84us/step - loss: 0.0079 - acc: 0.9973 - val_loss: 0.0618 - val_acc: 0.9858\n",
            "\n",
            "Epoch 00024: val_acc did not improve from 0.99190\n",
            "Epoch 25/40\n",
            "60000/60000 [==============================] - 5s 87us/step - loss: 0.0097 - acc: 0.9965 - val_loss: 0.0421 - val_acc: 0.9894\n",
            "\n",
            "Epoch 00025: val_acc did not improve from 0.99190\n",
            "Epoch 26/40\n",
            "60000/60000 [==============================] - 5s 83us/step - loss: 0.0082 - acc: 0.9972 - val_loss: 0.0552 - val_acc: 0.9876\n",
            "\n",
            "Epoch 00026: val_acc did not improve from 0.99190\n",
            "Epoch 27/40\n",
            "60000/60000 [==============================] - 5s 81us/step - loss: 0.0054 - acc: 0.9982 - val_loss: 0.0459 - val_acc: 0.9891\n",
            "\n",
            "Epoch 00027: val_acc did not improve from 0.99190\n",
            "Epoch 28/40\n",
            "60000/60000 [==============================] - 5s 81us/step - loss: 0.0050 - acc: 0.9983 - val_loss: 0.0488 - val_acc: 0.9897\n",
            "\n",
            "Epoch 00028: val_acc did not improve from 0.99190\n",
            "Epoch 29/40\n",
            "60000/60000 [==============================] - 5s 81us/step - loss: 0.0085 - acc: 0.9969 - val_loss: 0.0530 - val_acc: 0.9883\n",
            "\n",
            "Epoch 00029: val_acc did not improve from 0.99190\n",
            "Epoch 30/40\n",
            "60000/60000 [==============================] - 5s 80us/step - loss: 0.0065 - acc: 0.9978 - val_loss: 0.0502 - val_acc: 0.9883\n",
            "\n",
            "Epoch 00030: val_acc did not improve from 0.99190\n",
            "Epoch 31/40\n",
            "60000/60000 [==============================] - 5s 81us/step - loss: 0.0056 - acc: 0.9978 - val_loss: 0.0450 - val_acc: 0.9902\n",
            "\n",
            "Epoch 00031: val_acc did not improve from 0.99190\n",
            "Epoch 32/40\n",
            "60000/60000 [==============================] - 5s 81us/step - loss: 0.0054 - acc: 0.9981 - val_loss: 0.0440 - val_acc: 0.9896\n",
            "\n",
            "Epoch 00032: val_acc did not improve from 0.99190\n",
            "Epoch 33/40\n",
            "60000/60000 [==============================] - 5s 81us/step - loss: 0.0051 - acc: 0.9983 - val_loss: 0.0417 - val_acc: 0.9908\n",
            "\n",
            "Epoch 00033: val_acc did not improve from 0.99190\n",
            "Epoch 34/40\n",
            "60000/60000 [==============================] - 5s 81us/step - loss: 0.0076 - acc: 0.9973 - val_loss: 0.0516 - val_acc: 0.9883\n",
            "\n",
            "Epoch 00034: val_acc did not improve from 0.99190\n",
            "Epoch 35/40\n",
            "60000/60000 [==============================] - 5s 80us/step - loss: 0.0062 - acc: 0.9977 - val_loss: 0.0412 - val_acc: 0.9913\n",
            "\n",
            "Epoch 00035: val_acc did not improve from 0.99190\n",
            "Epoch 36/40\n",
            "60000/60000 [==============================] - 5s 80us/step - loss: 0.0050 - acc: 0.9983 - val_loss: 0.0382 - val_acc: 0.9904\n",
            "\n",
            "Epoch 00036: val_acc did not improve from 0.99190\n",
            "Epoch 37/40\n",
            "60000/60000 [==============================] - 5s 80us/step - loss: 0.0041 - acc: 0.9985 - val_loss: 0.0381 - val_acc: 0.9914\n",
            "\n",
            "Epoch 00037: val_acc did not improve from 0.99190\n",
            "Epoch 38/40\n",
            "60000/60000 [==============================] - 5s 81us/step - loss: 0.0047 - acc: 0.9983 - val_loss: 0.0498 - val_acc: 0.9900\n",
            "\n",
            "Epoch 00038: val_acc did not improve from 0.99190\n",
            "Epoch 39/40\n",
            "60000/60000 [==============================] - 5s 87us/step - loss: 0.0065 - acc: 0.9978 - val_loss: 0.0517 - val_acc: 0.9895\n",
            "\n",
            "Epoch 00039: val_acc did not improve from 0.99190\n",
            "Epoch 40/40\n",
            "60000/60000 [==============================] - 5s 82us/step - loss: 0.0057 - acc: 0.9981 - val_loss: 0.0399 - val_acc: 0.9905\n",
            "\n",
            "Epoch 00040: val_acc did not improve from 0.99190\n"
          ],
          "name": "stdout"
        },
        {
          "output_type": "execute_result",
          "data": {
            "text/plain": [
              "<keras.callbacks.History at 0x7f54043cc550>"
            ]
          },
          "metadata": {
            "tags": []
          },
          "execution_count": 33
        }
      ]
    },
    {
      "cell_type": "markdown",
      "metadata": {
        "id": "u9VlNizKutL0",
        "colab_type": "text"
      },
      "source": [
        "### Load the best model and evaluate on test data"
      ]
    },
    {
      "cell_type": "code",
      "metadata": {
        "id": "IkHZ9Runuwrw",
        "colab_type": "code",
        "colab": {}
      },
      "source": [
        "from keras.models import load_model\n",
        "# Take the best saved model as printed in the above code block\n",
        "modelPath = r'/content/gdrive/My Drive/EVA/S4/SECOND/epochs:016-val_acc:0.9919.hdf5'\n",
        "model = load_model(modelPath)"
      ],
      "execution_count": 0,
      "outputs": []
    },
    {
      "cell_type": "code",
      "metadata": {
        "id": "AtsH-lLk-eLb",
        "colab_type": "code",
        "colab": {}
      },
      "source": [
        "score = model.evaluate(X_test, Y_test, verbose=0)"
      ],
      "execution_count": 0,
      "outputs": []
    },
    {
      "cell_type": "code",
      "metadata": {
        "id": "mkX8JMv79q9r",
        "colab_type": "code",
        "outputId": "00791542-73cb-4f1b-e5ca-d87d57335017",
        "colab": {
          "base_uri": "https://localhost:8080/",
          "height": 34
        }
      },
      "source": [
        "print(score)"
      ],
      "execution_count": 36,
      "outputs": [
        {
          "output_type": "stream",
          "text": [
            "[0.031064972091876916, 0.9919]\n"
          ],
          "name": "stdout"
        }
      ]
    },
    {
      "cell_type": "code",
      "metadata": {
        "id": "OCWoJkwE9suh",
        "colab_type": "code",
        "colab": {}
      },
      "source": [
        "y_pred = model.predict(X_test)"
      ],
      "execution_count": 0,
      "outputs": []
    },
    {
      "cell_type": "code",
      "metadata": {
        "id": "Ym7iCFBm9uBs",
        "colab_type": "code",
        "outputId": "3368766d-c247-4477-8293-f2a505c67270",
        "colab": {
          "base_uri": "https://localhost:8080/",
          "height": 493
        }
      },
      "source": [
        "print(y_pred[:9])\n",
        "print(y_test[:9])"
      ],
      "execution_count": 38,
      "outputs": [
        {
          "output_type": "stream",
          "text": [
            "[[3.90132994e-13 2.02039533e-14 1.03564286e-08 5.98143046e-08\n",
            "  3.52768336e-18 4.91404131e-14 1.85337700e-20 9.99999881e-01\n",
            "  9.07648387e-14 8.18718870e-09]\n",
            " [1.21506172e-09 1.38677347e-09 1.00000000e+00 1.26125568e-10\n",
            "  3.94372179e-09 7.29227340e-17 1.00175228e-08 4.30803448e-11\n",
            "  3.01291436e-10 3.12946960e-11]\n",
            " [7.16214414e-12 9.99994993e-01 2.93606334e-10 8.77617586e-13\n",
            "  4.87540501e-06 1.45035234e-10 2.56500571e-10 8.59485283e-08\n",
            "  1.09620952e-08 3.91694677e-09]\n",
            " [9.99996901e-01 1.69842255e-19 6.19988002e-12 1.51780132e-13\n",
            "  2.00039052e-12 1.49919410e-10 3.08150834e-06 1.24496862e-13\n",
            "  2.86810167e-08 5.76577586e-09]\n",
            " [1.83872602e-16 1.04368565e-12 5.14153531e-15 9.69555162e-15\n",
            "  9.99999762e-01 1.20137963e-13 1.11753525e-15 2.04309833e-12\n",
            "  3.39894866e-12 2.52418602e-07]\n",
            " [6.20098504e-12 9.99992013e-01 3.33134631e-11 2.46425127e-14\n",
            "  7.88349280e-06 1.62846394e-13 6.26975347e-11 1.34669051e-07\n",
            "  2.89488988e-09 2.57260713e-10]\n",
            " [1.03210530e-18 5.33262844e-12 3.17263195e-11 2.74469661e-17\n",
            "  9.99978423e-01 1.56263058e-11 4.27404725e-16 3.80678267e-10\n",
            "  5.28436033e-07 2.10221424e-05]\n",
            " [1.11371730e-16 2.19727157e-14 4.14300538e-10 2.49454485e-11\n",
            "  1.74492428e-07 1.31897118e-10 1.83887908e-17 4.54813528e-14\n",
            "  9.29622175e-08 9.99999762e-01]\n",
            " [7.61146590e-10 9.15210762e-17 1.17029297e-09 1.06520778e-10\n",
            "  9.95169294e-11 9.99938726e-01 5.05776661e-05 3.21159700e-12\n",
            "  1.06696725e-05 3.01499767e-08]]\n",
            "[7 2 1 0 4 1 4 9 5]\n"
          ],
          "name": "stdout"
        }
      ]
    },
    {
      "cell_type": "code",
      "metadata": {
        "id": "CT--y98_dr2T",
        "colab_type": "code",
        "colab": {}
      },
      "source": [
        "layer_dict = dict([(layer.name, layer) for layer in model.layers])"
      ],
      "execution_count": 0,
      "outputs": []
    },
    {
      "cell_type": "code",
      "metadata": {
        "id": "2GY4Upv4dsUR",
        "colab_type": "code",
        "outputId": "ed166ff7-242e-4983-98e2-8096bf159fb2",
        "colab": {
          "base_uri": "https://localhost:8080/",
          "height": 839
        }
      },
      "source": [
        "import numpy as np\n",
        "from matplotlib import pyplot as plt\n",
        "from keras import backend as K\n",
        "%matplotlib inline\n",
        "# util function to convert a tensor into a valid image\n",
        "def deprocess_image(x):\n",
        "    # normalize tensor: center on 0., ensure std is 0.1\n",
        "    x -= x.mean()\n",
        "    x /= (x.std() + 1e-5)\n",
        "    x *= 0.1\n",
        "\n",
        "    # clip to [0, 1]\n",
        "    x += 0.5\n",
        "    x = np.clip(x, 0, 1)\n",
        "\n",
        "    # convert to RGB array\n",
        "    x *= 255\n",
        "    #x = x.transpose((1, 2, 0))\n",
        "    x = np.clip(x, 0, 255).astype('uint8')\n",
        "    return x\n",
        "\n",
        "def vis_img_in_filter(img = np.array(X_train[2]).reshape((1, 28, 28, 1)).astype(np.float64), \n",
        "                      layer_name = 'conv2d_72'):\n",
        "    layer_output = layer_dict[layer_name].output\n",
        "    img_ascs = list()\n",
        "    for filter_index in range(layer_output.shape[3]):\n",
        "        # build a loss function that maximizes the activation\n",
        "        # of the nth filter of the layer considered\n",
        "        loss = K.mean(layer_output[:, :, :, filter_index])\n",
        "\n",
        "        # compute the gradient of the input picture wrt this loss\n",
        "        grads = K.gradients(loss, model.input)[0]\n",
        "\n",
        "        # normalization trick: we normalize the gradient\n",
        "        grads /= (K.sqrt(K.mean(K.square(grads))) + 1e-5)\n",
        "\n",
        "        # this function returns the loss and grads given the input picture\n",
        "        iterate = K.function([model.input], [loss, grads])\n",
        "\n",
        "        # step size for gradient ascent\n",
        "        step = 5.\n",
        "\n",
        "        img_asc = np.array(img)\n",
        "        # run gradient ascent for 20 steps\n",
        "        for i in range(20):\n",
        "            loss_value, grads_value = iterate([img_asc])\n",
        "            img_asc += grads_value * step\n",
        "\n",
        "        img_asc = img_asc[0]\n",
        "        img_ascs.append(deprocess_image(img_asc).reshape((28, 28)))\n",
        "        \n",
        "    if layer_output.shape[3] >= 35:\n",
        "        plot_x, plot_y = 6, 6\n",
        "    elif layer_output.shape[3] >= 23:\n",
        "        plot_x, plot_y = 4, 6\n",
        "    elif layer_output.shape[3] >= 11:\n",
        "        plot_x, plot_y = 2, 6\n",
        "    else:\n",
        "        plot_x, plot_y = 1, 2\n",
        "    fig, ax = plt.subplots(plot_x, plot_y, figsize = (12, 12))\n",
        "    ax[0, 0].imshow(img.reshape((28, 28)), cmap = 'gray')\n",
        "    ax[0, 0].set_title('Input image')\n",
        "    fig.suptitle('Input image and %s filters' % (layer_name,))\n",
        "    fig.tight_layout(pad = 0.3, rect = [0, 0, 0.9, 0.9])\n",
        "    for (x, y) in [(i, j) for i in range(plot_x) for j in range(plot_y)]:\n",
        "        if x == 0 and y == 0:\n",
        "            continue\n",
        "        ax[x, y].imshow(img_ascs[x * plot_y + y - 1], cmap = 'gray')\n",
        "        ax[x, y].set_title('filter %d' % (x * plot_y + y - 1))\n",
        "\n",
        "vis_img_in_filter()"
      ],
      "execution_count": 0,
      "outputs": [
        {
          "output_type": "display_data",
          "data": {
            "image/png": "[encoded data removed]",
            "text/plain": [
              "<Figure size 864x864 with 24 Axes>"
            ]
          },
          "metadata": {
            "tags": []
          }
        }
      ]
    },
    {
      "cell_type": "code",
      "metadata": {
        "id": "9tvptcn8dxvp",
        "colab_type": "code",
        "colab": {}
      },
      "source": [
        ""
      ],
      "execution_count": 0,
      "outputs": []
    }
  ]
}