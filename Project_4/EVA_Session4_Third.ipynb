{
  "nbformat": 4,
  "nbformat_minor": 0,
  "metadata": {
    "colab": {
      "name": "Bhagabat Behera_Session4_Third.ipynb",
      "version": "0.3.2",
      "provenance": [],
      "collapsed_sections": []
    },
    "kernelspec": {
      "name": "python3",
      "display_name": "Python 3"
    },
    "accelerator": "GPU"
  },
  "cells": [
    {
      "cell_type": "markdown",
      "metadata": {
        "id": "zUpmf4BauFBX",
        "colab_type": "text"
      },
      "source": [
        "### Header with description"
      ]
    },
    {
      "cell_type": "markdown",
      "metadata": {
        "id": "P9xoGBQ7uH0V",
        "colab_type": "text"
      },
      "source": [
        "**Improvement from second model:**\n",
        "* Made the network deeper by adding more layers in place of second max pooling\n",
        "* Further increased the batch size from 128 to 256\n",
        "* Added LRScheduler to decrease Learning Rate by 1/10 after every 5 epochs\n",
        "\n",
        "**What went wrong:**\n",
        "* Although test accuracy improved, but it is not enough for the goal of this assignment. The model is still overfitting and now I am planning to add dropout\n",
        "* The test accuracy got stuck at around 99.29-99.30 for few last epochs. The model needs to be more powerful, hence planning to add more layers taking receptive field into consideration\n",
        "* Addition of LR Scheduler did not help much so is the case with increase in batch size"
      ]
    },
    {
      "cell_type": "markdown",
      "metadata": {
        "id": "aNyZv-Ec52ot",
        "colab_type": "text"
      },
      "source": [
        "### Import Libraries and modules"
      ]
    },
    {
      "cell_type": "code",
      "metadata": {
        "id": "3m3w1Cw49Zkt",
        "colab_type": "code",
        "colab": {}
      },
      "source": [
        "# https://keras.io/\n",
        "!pip install -q keras\n",
        "import keras"
      ],
      "execution_count": 0,
      "outputs": []
    },
    {
      "cell_type": "code",
      "metadata": {
        "id": "Eso6UHE080D4",
        "colab_type": "code",
        "colab": {}
      },
      "source": [
        "import numpy as np\n",
        "\n",
        "from keras.models import Sequential\n",
        "from keras.layers import Dense, Dropout, Activation, Flatten, Add\n",
        "from keras.layers import Convolution2D, MaxPooling2D\n",
        "from keras.utils import np_utils\n",
        "\n",
        "from keras.datasets import mnist"
      ],
      "execution_count": 0,
      "outputs": []
    },
    {
      "cell_type": "markdown",
      "metadata": {
        "id": "zByEi95J86RD",
        "colab_type": "text"
      },
      "source": [
        "### Load pre-shuffled MNIST data into train and test sets"
      ]
    },
    {
      "cell_type": "code",
      "metadata": {
        "id": "7eRM0QWN83PV",
        "colab_type": "code",
        "colab": {}
      },
      "source": [
        "(X_train, y_train), (X_test, y_test) = mnist.load_data()"
      ],
      "execution_count": 0,
      "outputs": []
    },
    {
      "cell_type": "code",
      "metadata": {
        "id": "4a4Be72j8-ZC",
        "colab_type": "code",
        "outputId": "83bbf620-7baf-42af-af51-3c3cc9165317",
        "colab": {
          "base_uri": "https://localhost:8080/",
          "height": 303
        }
      },
      "source": [
        "print (X_train.shape)\n",
        "from matplotlib import pyplot as plt\n",
        "%matplotlib inline\n",
        "plt.imshow(X_train[0])"
      ],
      "execution_count": 18,
      "outputs": [
        {
          "output_type": "stream",
          "text": [
            "(60000, 28, 28)\n"
          ],
          "name": "stdout"
        },
        {
          "output_type": "execute_result",
          "data": {
            "text/plain": [
              "<matplotlib.image.AxesImage at 0x7faea38d9198>"
            ]
          },
          "metadata": {
            "tags": []
          },
          "execution_count": 18
        },
        {
          "output_type": "display_data",
          "data": {
            "image/png": "[encoded data removed]",
            "text/plain": [
              "<Figure size 432x288 with 1 Axes>"
            ]
          },
          "metadata": {
            "tags": []
          }
        }
      ]
    },
    {
      "cell_type": "code",
      "metadata": {
        "id": "dkmprriw9AnZ",
        "colab_type": "code",
        "colab": {}
      },
      "source": [
        "X_train = X_train.reshape(X_train.shape[0], 28, 28,1)\n",
        "X_test = X_test.reshape(X_test.shape[0], 28, 28,1)"
      ],
      "execution_count": 0,
      "outputs": []
    },
    {
      "cell_type": "code",
      "metadata": {
        "id": "X2m4YS4E9CRh",
        "colab_type": "code",
        "colab": {}
      },
      "source": [
        "X_train = X_train.astype('float32')\n",
        "X_test = X_test.astype('float32')\n",
        "X_train /= 255\n",
        "X_test /= 255"
      ],
      "execution_count": 0,
      "outputs": []
    },
    {
      "cell_type": "code",
      "metadata": {
        "id": "0Mn0vAYD9DvB",
        "colab_type": "code",
        "outputId": "9c44b91d-63a2-47c5-c3e4-cd519c3b6a10",
        "colab": {
          "base_uri": "https://localhost:8080/",
          "height": 34
        }
      },
      "source": [
        "y_train[:10]"
      ],
      "execution_count": 21,
      "outputs": [
        {
          "output_type": "execute_result",
          "data": {
            "text/plain": [
              "array([5, 0, 4, 1, 9, 2, 1, 3, 1, 4], dtype=uint8)"
            ]
          },
          "metadata": {
            "tags": []
          },
          "execution_count": 21
        }
      ]
    },
    {
      "cell_type": "code",
      "metadata": {
        "id": "ZG8JiXR39FHC",
        "colab_type": "code",
        "colab": {}
      },
      "source": [
        "# Convert 1-dimensional class arrays to 10-dimensional class matrices\n",
        "Y_train = np_utils.to_categorical(y_train, 10)\n",
        "Y_test = np_utils.to_categorical(y_test, 10)"
      ],
      "execution_count": 0,
      "outputs": []
    },
    {
      "cell_type": "code",
      "metadata": {
        "id": "fYlFRvKS9HMB",
        "colab_type": "code",
        "outputId": "a5b66b1a-426f-4dba-f919-42065e3d1229",
        "colab": {
          "base_uri": "https://localhost:8080/",
          "height": 187
        }
      },
      "source": [
        "Y_train[:10]\n"
      ],
      "execution_count": 23,
      "outputs": [
        {
          "output_type": "execute_result",
          "data": {
            "text/plain": [
              "array([[0., 0., 0., 0., 0., 1., 0., 0., 0., 0.],\n",
              "       [1., 0., 0., 0., 0., 0., 0., 0., 0., 0.],\n",
              "       [0., 0., 0., 0., 1., 0., 0., 0., 0., 0.],\n",
              "       [0., 1., 0., 0., 0., 0., 0., 0., 0., 0.],\n",
              "       [0., 0., 0., 0., 0., 0., 0., 0., 0., 1.],\n",
              "       [0., 0., 1., 0., 0., 0., 0., 0., 0., 0.],\n",
              "       [0., 1., 0., 0., 0., 0., 0., 0., 0., 0.],\n",
              "       [0., 0., 0., 1., 0., 0., 0., 0., 0., 0.],\n",
              "       [0., 1., 0., 0., 0., 0., 0., 0., 0., 0.],\n",
              "       [0., 0., 0., 0., 1., 0., 0., 0., 0., 0.]], dtype=float32)"
            ]
          },
          "metadata": {
            "tags": []
          },
          "execution_count": 23
        }
      ]
    },
    {
      "cell_type": "markdown",
      "metadata": {
        "id": "THz-VrrBz03o",
        "colab_type": "text"
      },
      "source": [
        "### Checkpoint Configuration to save the best model"
      ]
    },
    {
      "cell_type": "code",
      "metadata": {
        "id": "FJ952Nnmz5rl",
        "colab_type": "code",
        "colab": {
          "base_uri": "https://localhost:8080/",
          "height": 34
        },
        "outputId": "dcb68945-c822-4456-81c1-3bebb32f9be9"
      },
      "source": [
        "from google.colab import drive\n",
        "drive.mount('/content/gdrive')"
      ],
      "execution_count": 24,
      "outputs": [
        {
          "output_type": "stream",
          "text": [
            "Drive already mounted at /content/gdrive; to attempt to forcibly remount, call drive.mount(\"/content/gdrive\", force_remount=True).\n"
          ],
          "name": "stdout"
        }
      ]
    },
    {
      "cell_type": "code",
      "metadata": {
        "id": "f0S48TkGz_Nq",
        "colab_type": "code",
        "colab": {
          "base_uri": "https://localhost:8080/",
          "height": 34
        },
        "outputId": "b5522366-71a8-4560-d0d0-e141bb4ec67a"
      },
      "source": [
        "!pip install -q h5py pyyaml\n",
        "from keras.models import model_from_json"
      ],
      "execution_count": 10,
      "outputs": [
        {
          "output_type": "stream",
          "text": [
            "Using TensorFlow backend.\n"
          ],
          "name": "stderr"
        }
      ]
    },
    {
      "cell_type": "code",
      "metadata": {
        "id": "du5gTlS_0B3O",
        "colab_type": "code",
        "colab": {
          "base_uri": "https://localhost:8080/",
          "height": 34
        },
        "outputId": "ab368ce5-85fb-46f7-f93e-03c485ea8875"
      },
      "source": [
        "!ls \"/content/gdrive/My Drive/EVA\""
      ],
      "execution_count": 11,
      "outputs": [
        {
          "output_type": "stream",
          "text": [
            "S3V2  S4\n"
          ],
          "name": "stdout"
        }
      ]
    },
    {
      "cell_type": "code",
      "metadata": {
        "id": "itO-pDa00E9V",
        "colab_type": "code",
        "colab": {}
      },
      "source": [
        "from keras.callbacks import *\n",
        "filepath=\"/content/gdrive/My Drive/EVA/S4/THIRD/epochs:{epoch:03d}-val_acc:{val_acc:.4f}.hdf5\"\n",
        "checkpoint = ModelCheckpoint(filepath, monitor='val_acc', verbose=1, save_best_only=True, save_weights_only=False, mode='auto')"
      ],
      "execution_count": 0,
      "outputs": []
    },
    {
      "cell_type": "code",
      "metadata": {
        "id": "fpY4E0Ui0Ker",
        "colab_type": "code",
        "colab": {}
      },
      "source": [
        "callbacks_list = [checkpoint]"
      ],
      "execution_count": 0,
      "outputs": []
    },
    {
      "cell_type": "markdown",
      "metadata": {
        "id": "OUtHMXoE4a47",
        "colab_type": "text"
      },
      "source": [
        "### Build Model"
      ]
    },
    {
      "cell_type": "code",
      "metadata": {
        "id": "sBa3Tugaj3KN",
        "colab_type": "code",
        "outputId": "a0b47f5f-5724-4a27-bf32-082c513ac345",
        "colab": {
          "base_uri": "https://localhost:8080/",
          "height": 207
        }
      },
      "source": [
        "from keras.layers import Activation\n",
        "from keras.layers.normalization import BatchNormalization\n",
        "\n",
        "model = Sequential()\n",
        "\n",
        "model.add(Convolution2D(10, 3, 3, activation='relu', input_shape=(28,28,1), use_bias=False)) #OutputChannelSize= 26, RF=3x3\n",
        "model.add(BatchNormalization())\n",
        "model.add(Convolution2D(20, 3, 3, activation='relu', use_bias=False)) #OutputChannelSize=24, RF=5x5\n",
        "model.add(BatchNormalization())\n",
        "model.add(Convolution2D(25, 3, 3, activation='relu', use_bias=False)) #OutputChannelSize=22, RF=7x7\n",
        "model.add(BatchNormalization())\n",
        "model.add(Convolution2D(10, 1, activation='relu', use_bias=False)) #OutputChannelSize=22, RF=7x7\n",
        "model.add(BatchNormalization())\n",
        "model.add(MaxPooling2D(pool_size=(2, 2))) #OutputChannelSize=11, RF=14x14\n",
        "\n",
        "model.add(Convolution2D(10, 3, 3, activation='relu', use_bias=False)) #OutputChannelSize=9, RF=16x16\n",
        "model.add(BatchNormalization())\n",
        "model.add(Convolution2D(15, 3, 3, activation='relu', use_bias=False)) #OutputChannelSize=7, RF=18x18\n",
        "model.add(BatchNormalization())\n",
        "model.add(Convolution2D(20, 3, 3, activation='relu', use_bias=False)) #OutputChannelSize=5, RF=20x20\n",
        "model.add(BatchNormalization())\n",
        "model.add(Convolution2D(10, 1, activation='relu', use_bias=False)) #OutputChannelSize=5, RF=20x20\n",
        "model.add(BatchNormalization())\n",
        "\n",
        "model.add(Convolution2D(10, 5, use_bias=False))\n",
        "\n",
        "model.add(Flatten())\n",
        "model.add(Activation('softmax'))"
      ],
      "execution_count": 37,
      "outputs": [
        {
          "output_type": "stream",
          "text": [
            "/usr/local/lib/python3.6/dist-packages/ipykernel_launcher.py:6: UserWarning: Update your `Conv2D` call to the Keras 2 API: `Conv2D(10, (3, 3), activation=\"relu\", input_shape=(28, 28, 1..., use_bias=False)`\n",
            "  \n",
            "/usr/local/lib/python3.6/dist-packages/ipykernel_launcher.py:8: UserWarning: Update your `Conv2D` call to the Keras 2 API: `Conv2D(20, (3, 3), activation=\"relu\", use_bias=False)`\n",
            "  \n",
            "/usr/local/lib/python3.6/dist-packages/ipykernel_launcher.py:10: UserWarning: Update your `Conv2D` call to the Keras 2 API: `Conv2D(25, (3, 3), activation=\"relu\", use_bias=False)`\n",
            "  # Remove the CWD from sys.path while we load stuff.\n",
            "/usr/local/lib/python3.6/dist-packages/ipykernel_launcher.py:16: UserWarning: Update your `Conv2D` call to the Keras 2 API: `Conv2D(10, (3, 3), activation=\"relu\", use_bias=False)`\n",
            "  app.launch_new_instance()\n",
            "/usr/local/lib/python3.6/dist-packages/ipykernel_launcher.py:18: UserWarning: Update your `Conv2D` call to the Keras 2 API: `Conv2D(15, (3, 3), activation=\"relu\", use_bias=False)`\n",
            "/usr/local/lib/python3.6/dist-packages/ipykernel_launcher.py:20: UserWarning: Update your `Conv2D` call to the Keras 2 API: `Conv2D(20, (3, 3), activation=\"relu\", use_bias=False)`\n"
          ],
          "name": "stderr"
        }
      ]
    },
    {
      "cell_type": "code",
      "metadata": {
        "id": "TzdAYg1k9K7Z",
        "colab_type": "code",
        "outputId": "606c1da2-1dac-467a-801c-850413b2e10c",
        "colab": {
          "base_uri": "https://localhost:8080/",
          "height": 816
        }
      },
      "source": [
        "model.summary()"
      ],
      "execution_count": 38,
      "outputs": [
        {
          "output_type": "stream",
          "text": [
            "_________________________________________________________________\n",
            "Layer (type)                 Output Shape              Param #   \n",
            "=================================================================\n",
            "conv2d_10 (Conv2D)           (None, 26, 26, 10)        90        \n",
            "_________________________________________________________________\n",
            "batch_normalization_9 (Batch (None, 26, 26, 10)        40        \n",
            "_________________________________________________________________\n",
            "conv2d_11 (Conv2D)           (None, 24, 24, 20)        1800      \n",
            "_________________________________________________________________\n",
            "batch_normalization_10 (Batc (None, 24, 24, 20)        80        \n",
            "_________________________________________________________________\n",
            "conv2d_12 (Conv2D)           (None, 22, 22, 25)        4500      \n",
            "_________________________________________________________________\n",
            "batch_normalization_11 (Batc (None, 22, 22, 25)        100       \n",
            "_________________________________________________________________\n",
            "conv2d_13 (Conv2D)           (None, 22, 22, 10)        250       \n",
            "_________________________________________________________________\n",
            "batch_normalization_12 (Batc (None, 22, 22, 10)        40        \n",
            "_________________________________________________________________\n",
            "max_pooling2d_2 (MaxPooling2 (None, 11, 11, 10)        0         \n",
            "_________________________________________________________________\n",
            "conv2d_14 (Conv2D)           (None, 9, 9, 10)          900       \n",
            "_________________________________________________________________\n",
            "batch_normalization_13 (Batc (None, 9, 9, 10)          40        \n",
            "_________________________________________________________________\n",
            "conv2d_15 (Conv2D)           (None, 7, 7, 15)          1350      \n",
            "_________________________________________________________________\n",
            "batch_normalization_14 (Batc (None, 7, 7, 15)          60        \n",
            "_________________________________________________________________\n",
            "conv2d_16 (Conv2D)           (None, 5, 5, 20)          2700      \n",
            "_________________________________________________________________\n",
            "batch_normalization_15 (Batc (None, 5, 5, 20)          80        \n",
            "_________________________________________________________________\n",
            "conv2d_17 (Conv2D)           (None, 5, 5, 10)          200       \n",
            "_________________________________________________________________\n",
            "batch_normalization_16 (Batc (None, 5, 5, 10)          40        \n",
            "_________________________________________________________________\n",
            "conv2d_18 (Conv2D)           (None, 1, 1, 10)          2500      \n",
            "_________________________________________________________________\n",
            "flatten_2 (Flatten)          (None, 10)                0         \n",
            "_________________________________________________________________\n",
            "activation_2 (Activation)    (None, 10)                0         \n",
            "=================================================================\n",
            "Total params: 14,770\n",
            "Trainable params: 14,530\n",
            "Non-trainable params: 240\n",
            "_________________________________________________________________\n"
          ],
          "name": "stdout"
        }
      ]
    },
    {
      "cell_type": "markdown",
      "metadata": {
        "id": "_q_9yvNB1MCm",
        "colab_type": "text"
      },
      "source": [
        "### Compile and Train the model"
      ]
    },
    {
      "cell_type": "code",
      "metadata": {
        "id": "auUV_7WRyjY-",
        "colab_type": "code",
        "colab": {}
      },
      "source": [
        "def scheduler(epoch, lr):\n",
        "  if epoch % 5 == 0:\n",
        "    lr = lr * 0.1\n",
        "  return lr"
      ],
      "execution_count": 0,
      "outputs": []
    },
    {
      "cell_type": "code",
      "metadata": {
        "id": "Zp6SuGrL9M3h",
        "colab_type": "code",
        "colab": {}
      },
      "source": [
        "from keras.optimizers import Adam\n",
        "from keras.callbacks import LearningRateScheduler\n",
        "\n",
        "model.compile(loss='categorical_crossentropy',\n",
        "             optimizer=Adam(lr=0.05),\n",
        "             metrics=['accuracy'])\n",
        "\n",
        "callbacks_list = [LearningRateScheduler(scheduler, verbose=1), checkpoint]"
      ],
      "execution_count": 0,
      "outputs": []
    },
    {
      "cell_type": "code",
      "metadata": {
        "id": "4xWoKhPY9Of5",
        "colab_type": "code",
        "outputId": "9d68c8c2-d0ae-49ec-f0c3-bd9599762f19",
        "colab": {
          "base_uri": "https://localhost:8080/",
          "height": 4165
        }
      },
      "source": [
        "model.fit(X_train, Y_train, batch_size=256, validation_data=(X_test, Y_test), nb_epoch=40, callbacks=callbacks_list, verbose=1)"
      ],
      "execution_count": 41,
      "outputs": [
        {
          "output_type": "stream",
          "text": [
            "/usr/local/lib/python3.6/dist-packages/ipykernel_launcher.py:1: UserWarning: The `nb_epoch` argument in `fit` has been renamed `epochs`.\n",
            "  \"\"\"Entry point for launching an IPython kernel.\n"
          ],
          "name": "stderr"
        },
        {
          "output_type": "stream",
          "text": [
            "Train on 60000 samples, validate on 10000 samples\n",
            "Epoch 1/40\n",
            "\n",
            "Epoch 00001: LearningRateScheduler setting learning rate to 0.005000000074505806.\n",
            "60000/60000 [==============================] - 5s 92us/step - loss: 0.1698 - acc: 0.9464 - val_loss: 0.1350 - val_acc: 0.9626\n",
            "\n",
            "Epoch 00001: val_acc did not improve from 0.98170\n",
            "Epoch 2/40\n",
            "\n",
            "Epoch 00002: LearningRateScheduler setting learning rate to 0.004999999888241291.\n",
            "60000/60000 [==============================] - 4s 60us/step - loss: 0.0521 - acc: 0.9839 - val_loss: 0.0590 - val_acc: 0.9797\n",
            "\n",
            "Epoch 00002: val_acc did not improve from 0.98170\n",
            "Epoch 3/40\n",
            "\n",
            "Epoch 00003: LearningRateScheduler setting learning rate to 0.004999999888241291.\n",
            "60000/60000 [==============================] - 4s 60us/step - loss: 0.0409 - acc: 0.9869 - val_loss: 0.0667 - val_acc: 0.9776\n",
            "\n",
            "Epoch 00003: val_acc did not improve from 0.98170\n",
            "Epoch 4/40\n",
            "\n",
            "Epoch 00004: LearningRateScheduler setting learning rate to 0.004999999888241291.\n",
            "60000/60000 [==============================] - 4s 61us/step - loss: 0.0326 - acc: 0.9899 - val_loss: 0.0484 - val_acc: 0.9851\n",
            "\n",
            "Epoch 00004: val_acc improved from 0.98170 to 0.98510, saving model to /content/gdrive/My Drive/EVA/S4/THIRD/epochs:004-val_acc:0.9851.hdf5\n",
            "Epoch 5/40\n",
            "\n",
            "Epoch 00005: LearningRateScheduler setting learning rate to 0.004999999888241291.\n",
            "60000/60000 [==============================] - 4s 61us/step - loss: 0.0293 - acc: 0.9908 - val_loss: 0.0413 - val_acc: 0.9883\n",
            "\n",
            "Epoch 00005: val_acc improved from 0.98510 to 0.98830, saving model to /content/gdrive/My Drive/EVA/S4/THIRD/epochs:005-val_acc:0.9883.hdf5\n",
            "Epoch 6/40\n",
            "\n",
            "Epoch 00006: LearningRateScheduler setting learning rate to 0.0004999999888241291.\n",
            "60000/60000 [==============================] - 4s 60us/step - loss: 0.0155 - acc: 0.9950 - val_loss: 0.0240 - val_acc: 0.9929\n",
            "\n",
            "Epoch 00006: val_acc improved from 0.98830 to 0.99290, saving model to /content/gdrive/My Drive/EVA/S4/THIRD/epochs:006-val_acc:0.9929.hdf5\n",
            "Epoch 7/40\n",
            "\n",
            "Epoch 00007: LearningRateScheduler setting learning rate to 0.0004999999655410647.\n",
            "60000/60000 [==============================] - 4s 62us/step - loss: 0.0112 - acc: 0.9969 - val_loss: 0.0232 - val_acc: 0.9928\n",
            "\n",
            "Epoch 00007: val_acc did not improve from 0.99290\n",
            "Epoch 8/40\n",
            "\n",
            "Epoch 00008: LearningRateScheduler setting learning rate to 0.0004999999655410647.\n",
            "60000/60000 [==============================] - 4s 61us/step - loss: 0.0099 - acc: 0.9973 - val_loss: 0.0243 - val_acc: 0.9924\n",
            "\n",
            "Epoch 00008: val_acc did not improve from 0.99290\n",
            "Epoch 9/40\n",
            "\n",
            "Epoch 00009: LearningRateScheduler setting learning rate to 0.0004999999655410647.\n",
            "60000/60000 [==============================] - 4s 61us/step - loss: 0.0087 - acc: 0.9978 - val_loss: 0.0233 - val_acc: 0.9925\n",
            "\n",
            "Epoch 00009: val_acc did not improve from 0.99290\n",
            "Epoch 10/40\n",
            "\n",
            "Epoch 00010: LearningRateScheduler setting learning rate to 0.0004999999655410647.\n",
            "60000/60000 [==============================] - 4s 61us/step - loss: 0.0079 - acc: 0.9981 - val_loss: 0.0235 - val_acc: 0.9926\n",
            "\n",
            "Epoch 00010: val_acc did not improve from 0.99290\n",
            "Epoch 11/40\n",
            "\n",
            "Epoch 00011: LearningRateScheduler setting learning rate to 4.9999996554106475e-05.\n",
            "60000/60000 [==============================] - 4s 60us/step - loss: 0.0066 - acc: 0.9987 - val_loss: 0.0233 - val_acc: 0.9931\n",
            "\n",
            "Epoch 00011: val_acc improved from 0.99290 to 0.99310, saving model to /content/gdrive/My Drive/EVA/S4/THIRD/epochs:011-val_acc:0.9931.hdf5\n",
            "Epoch 12/40\n",
            "\n",
            "Epoch 00012: LearningRateScheduler setting learning rate to 4.999999509891495e-05.\n",
            "60000/60000 [==============================] - 4s 60us/step - loss: 0.0065 - acc: 0.9986 - val_loss: 0.0234 - val_acc: 0.9927\n",
            "\n",
            "Epoch 00012: val_acc did not improve from 0.99310\n",
            "Epoch 13/40\n",
            "\n",
            "Epoch 00013: LearningRateScheduler setting learning rate to 4.999999509891495e-05.\n",
            "60000/60000 [==============================] - 4s 61us/step - loss: 0.0061 - acc: 0.9989 - val_loss: 0.0233 - val_acc: 0.9928\n",
            "\n",
            "Epoch 00013: val_acc did not improve from 0.99310\n",
            "Epoch 14/40\n",
            "\n",
            "Epoch 00014: LearningRateScheduler setting learning rate to 4.999999509891495e-05.\n",
            "60000/60000 [==============================] - 4s 61us/step - loss: 0.0061 - acc: 0.9988 - val_loss: 0.0232 - val_acc: 0.9927\n",
            "\n",
            "Epoch 00014: val_acc did not improve from 0.99310\n",
            "Epoch 15/40\n",
            "\n",
            "Epoch 00015: LearningRateScheduler setting learning rate to 4.999999509891495e-05.\n",
            "60000/60000 [==============================] - 4s 60us/step - loss: 0.0059 - acc: 0.9990 - val_loss: 0.0230 - val_acc: 0.9929\n",
            "\n",
            "Epoch 00015: val_acc did not improve from 0.99310\n",
            "Epoch 16/40\n",
            "\n",
            "Epoch 00016: LearningRateScheduler setting learning rate to 4.999999509891496e-06.\n",
            "60000/60000 [==============================] - 4s 61us/step - loss: 0.0058 - acc: 0.9990 - val_loss: 0.0230 - val_acc: 0.9929\n",
            "\n",
            "Epoch 00016: val_acc did not improve from 0.99310\n",
            "Epoch 17/40\n",
            "\n",
            "Epoch 00017: LearningRateScheduler setting learning rate to 4.999999418942025e-06.\n",
            "60000/60000 [==============================] - 4s 62us/step - loss: 0.0057 - acc: 0.9990 - val_loss: 0.0231 - val_acc: 0.9929\n",
            "\n",
            "Epoch 00017: val_acc did not improve from 0.99310\n",
            "Epoch 18/40\n",
            "\n",
            "Epoch 00018: LearningRateScheduler setting learning rate to 4.999999418942025e-06.\n",
            "60000/60000 [==============================] - 4s 65us/step - loss: 0.0057 - acc: 0.9991 - val_loss: 0.0230 - val_acc: 0.9928\n",
            "\n",
            "Epoch 00018: val_acc did not improve from 0.99310\n",
            "Epoch 19/40\n",
            "\n",
            "Epoch 00019: LearningRateScheduler setting learning rate to 4.999999418942025e-06.\n",
            "60000/60000 [==============================] - 4s 65us/step - loss: 0.0057 - acc: 0.9989 - val_loss: 0.0231 - val_acc: 0.9929\n",
            "\n",
            "Epoch 00019: val_acc did not improve from 0.99310\n",
            "Epoch 20/40\n",
            "\n",
            "Epoch 00020: LearningRateScheduler setting learning rate to 4.999999418942025e-06.\n",
            "60000/60000 [==============================] - 4s 62us/step - loss: 0.0057 - acc: 0.9990 - val_loss: 0.0231 - val_acc: 0.9929\n",
            "\n",
            "Epoch 00020: val_acc did not improve from 0.99310\n",
            "Epoch 21/40\n",
            "\n",
            "Epoch 00021: LearningRateScheduler setting learning rate to 4.999999418942025e-07.\n",
            "60000/60000 [==============================] - 4s 61us/step - loss: 0.0057 - acc: 0.9991 - val_loss: 0.0230 - val_acc: 0.9929\n",
            "\n",
            "Epoch 00021: val_acc did not improve from 0.99310\n",
            "Epoch 22/40\n",
            "\n",
            "Epoch 00022: LearningRateScheduler setting learning rate to 4.999999418942025e-07.\n",
            "60000/60000 [==============================] - 4s 62us/step - loss: 0.0058 - acc: 0.9990 - val_loss: 0.0231 - val_acc: 0.9928\n",
            "\n",
            "Epoch 00022: val_acc did not improve from 0.99310\n",
            "Epoch 23/40\n",
            "\n",
            "Epoch 00023: LearningRateScheduler setting learning rate to 4.999999418942025e-07.\n",
            "60000/60000 [==============================] - 4s 65us/step - loss: 0.0056 - acc: 0.9990 - val_loss: 0.0231 - val_acc: 0.9929\n",
            "\n",
            "Epoch 00023: val_acc did not improve from 0.99310\n",
            "Epoch 24/40\n",
            "\n",
            "Epoch 00024: LearningRateScheduler setting learning rate to 4.999999418942025e-07.\n",
            "60000/60000 [==============================] - 4s 62us/step - loss: 0.0057 - acc: 0.9992 - val_loss: 0.0231 - val_acc: 0.9929\n",
            "\n",
            "Epoch 00024: val_acc did not improve from 0.99310\n",
            "Epoch 25/40\n",
            "\n",
            "Epoch 00025: LearningRateScheduler setting learning rate to 4.999999418942025e-07.\n",
            "60000/60000 [==============================] - 4s 60us/step - loss: 0.0057 - acc: 0.9991 - val_loss: 0.0231 - val_acc: 0.9927\n",
            "\n",
            "Epoch 00025: val_acc did not improve from 0.99310\n",
            "Epoch 26/40\n",
            "\n",
            "Epoch 00026: LearningRateScheduler setting learning rate to 4.999999418942025e-08.\n",
            "60000/60000 [==============================] - 4s 61us/step - loss: 0.0057 - acc: 0.9990 - val_loss: 0.0231 - val_acc: 0.9929\n",
            "\n",
            "Epoch 00026: val_acc did not improve from 0.99310\n",
            "Epoch 27/40\n",
            "\n",
            "Epoch 00027: LearningRateScheduler setting learning rate to 4.9999993478877514e-08.\n",
            "60000/60000 [==============================] - 4s 60us/step - loss: 0.0057 - acc: 0.9990 - val_loss: 0.0231 - val_acc: 0.9930\n",
            "\n",
            "Epoch 00027: val_acc did not improve from 0.99310\n",
            "Epoch 28/40\n",
            "\n",
            "Epoch 00028: LearningRateScheduler setting learning rate to 4.9999993478877514e-08.\n",
            "60000/60000 [==============================] - 4s 60us/step - loss: 0.0056 - acc: 0.9991 - val_loss: 0.0231 - val_acc: 0.9929\n",
            "\n",
            "Epoch 00028: val_acc did not improve from 0.99310\n",
            "Epoch 29/40\n",
            "\n",
            "Epoch 00029: LearningRateScheduler setting learning rate to 4.9999993478877514e-08.\n",
            "60000/60000 [==============================] - 4s 60us/step - loss: 0.0056 - acc: 0.9992 - val_loss: 0.0231 - val_acc: 0.9928\n",
            "\n",
            "Epoch 00029: val_acc did not improve from 0.99310\n",
            "Epoch 30/40\n",
            "\n",
            "Epoch 00030: LearningRateScheduler setting learning rate to 4.9999993478877514e-08.\n",
            "60000/60000 [==============================] - 4s 61us/step - loss: 0.0056 - acc: 0.9990 - val_loss: 0.0231 - val_acc: 0.9930\n",
            "\n",
            "Epoch 00030: val_acc did not improve from 0.99310\n",
            "Epoch 31/40\n",
            "\n",
            "Epoch 00031: LearningRateScheduler setting learning rate to 4.999999347887752e-09.\n",
            "60000/60000 [==============================] - 4s 60us/step - loss: 0.0056 - acc: 0.9990 - val_loss: 0.0231 - val_acc: 0.9926\n",
            "\n",
            "Epoch 00031: val_acc did not improve from 0.99310\n",
            "Epoch 32/40\n",
            "\n",
            "Epoch 00032: LearningRateScheduler setting learning rate to 4.999999525523435e-09.\n",
            "60000/60000 [==============================] - 4s 60us/step - loss: 0.0056 - acc: 0.9990 - val_loss: 0.0230 - val_acc: 0.9928\n",
            "\n",
            "Epoch 00032: val_acc did not improve from 0.99310\n",
            "Epoch 33/40\n",
            "\n",
            "Epoch 00033: LearningRateScheduler setting learning rate to 4.999999525523435e-09.\n",
            "60000/60000 [==============================] - 4s 61us/step - loss: 0.0056 - acc: 0.9991 - val_loss: 0.0231 - val_acc: 0.9929\n",
            "\n",
            "Epoch 00033: val_acc did not improve from 0.99310\n",
            "Epoch 34/40\n",
            "\n",
            "Epoch 00034: LearningRateScheduler setting learning rate to 4.999999525523435e-09.\n",
            "60000/60000 [==============================] - 4s 61us/step - loss: 0.0056 - acc: 0.9990 - val_loss: 0.0230 - val_acc: 0.9928\n",
            "\n",
            "Epoch 00034: val_acc did not improve from 0.99310\n",
            "Epoch 35/40\n",
            "\n",
            "Epoch 00035: LearningRateScheduler setting learning rate to 4.999999525523435e-09.\n",
            "60000/60000 [==============================] - 4s 60us/step - loss: 0.0058 - acc: 0.9989 - val_loss: 0.0231 - val_acc: 0.9929\n",
            "\n",
            "Epoch 00035: val_acc did not improve from 0.99310\n",
            "Epoch 36/40\n",
            "\n",
            "Epoch 00036: LearningRateScheduler setting learning rate to 4.999999525523436e-10.\n",
            "60000/60000 [==============================] - 4s 61us/step - loss: 0.0056 - acc: 0.9991 - val_loss: 0.0230 - val_acc: 0.9928\n",
            "\n",
            "Epoch 00036: val_acc did not improve from 0.99310\n",
            "Epoch 37/40\n",
            "\n",
            "Epoch 00037: LearningRateScheduler setting learning rate to 4.99999930347883e-10.\n",
            "60000/60000 [==============================] - 4s 60us/step - loss: 0.0057 - acc: 0.9990 - val_loss: 0.0231 - val_acc: 0.9929\n",
            "\n",
            "Epoch 00037: val_acc did not improve from 0.99310\n",
            "Epoch 38/40\n",
            "\n",
            "Epoch 00038: LearningRateScheduler setting learning rate to 4.99999930347883e-10.\n",
            "60000/60000 [==============================] - 4s 60us/step - loss: 0.0056 - acc: 0.9990 - val_loss: 0.0230 - val_acc: 0.9929\n",
            "\n",
            "Epoch 00038: val_acc did not improve from 0.99310\n",
            "Epoch 39/40\n",
            "\n",
            "Epoch 00039: LearningRateScheduler setting learning rate to 4.99999930347883e-10.\n",
            "60000/60000 [==============================] - 4s 62us/step - loss: 0.0055 - acc: 0.9992 - val_loss: 0.0231 - val_acc: 0.9928\n",
            "\n",
            "Epoch 00039: val_acc did not improve from 0.99310\n",
            "Epoch 40/40\n",
            "\n",
            "Epoch 00040: LearningRateScheduler setting learning rate to 4.99999930347883e-10.\n",
            "60000/60000 [==============================] - 4s 65us/step - loss: 0.0057 - acc: 0.9989 - val_loss: 0.0231 - val_acc: 0.9929\n",
            "\n",
            "Epoch 00040: val_acc did not improve from 0.99310\n"
          ],
          "name": "stdout"
        },
        {
          "output_type": "execute_result",
          "data": {
            "text/plain": [
              "<keras.callbacks.History at 0x7fae51bfc9e8>"
            ]
          },
          "metadata": {
            "tags": []
          },
          "execution_count": 41
        }
      ]
    },
    {
      "cell_type": "markdown",
      "metadata": {
        "id": "KHlpVCYk2P8m",
        "colab_type": "text"
      },
      "source": [
        "### Load the best model and evaluate on test data"
      ]
    },
    {
      "cell_type": "code",
      "metadata": {
        "id": "yJmNDKfB2THi",
        "colab_type": "code",
        "colab": {}
      },
      "source": [
        "from keras.models import load_model\n",
        "# Take the best saved model as printed in the above code block\n",
        "modelPath = r'/content/gdrive/My Drive/EVA/S4/THIRD/epochs:010-val_acc:0.9817.hdf5'\n",
        "model = load_model(modelPath)"
      ],
      "execution_count": 0,
      "outputs": []
    },
    {
      "cell_type": "code",
      "metadata": {
        "id": "AtsH-lLk-eLb",
        "colab_type": "code",
        "colab": {}
      },
      "source": [
        "score = model.evaluate(X_test, Y_test, verbose=0)"
      ],
      "execution_count": 0,
      "outputs": []
    },
    {
      "cell_type": "code",
      "metadata": {
        "id": "mkX8JMv79q9r",
        "colab_type": "code",
        "outputId": "af8372b1-c731-4484-d43e-3c5f765b7a76",
        "colab": {
          "base_uri": "https://localhost:8080/",
          "height": 34
        }
      },
      "source": [
        "print(score)"
      ],
      "execution_count": 32,
      "outputs": [
        {
          "output_type": "stream",
          "text": [
            "[0.05898839666433632, 0.9817]\n"
          ],
          "name": "stdout"
        }
      ]
    },
    {
      "cell_type": "code",
      "metadata": {
        "id": "OCWoJkwE9suh",
        "colab_type": "code",
        "colab": {}
      },
      "source": [
        "y_pred = model.predict(X_test)"
      ],
      "execution_count": 0,
      "outputs": []
    },
    {
      "cell_type": "code",
      "metadata": {
        "id": "Ym7iCFBm9uBs",
        "colab_type": "code",
        "outputId": "0552523f-99cd-4da2-89b1-167d27cbb64d",
        "colab": {
          "base_uri": "https://localhost:8080/",
          "height": 493
        }
      },
      "source": [
        "print(y_pred[:9])\n",
        "print(y_test[:9])"
      ],
      "execution_count": 34,
      "outputs": [
        {
          "output_type": "stream",
          "text": [
            "[[1.73498836e-06 2.73256846e-05 2.34624827e-06 4.14359456e-05\n",
            "  2.02063831e-07 4.41792918e-06 1.77292350e-08 9.99840021e-01\n",
            "  1.05142835e-05 7.19964737e-05]\n",
            " [2.92756017e-02 6.55315490e-03 9.60803688e-01 2.35364586e-03\n",
            "  4.57804505e-04 1.30090148e-05 4.38830990e-04 7.47693548e-06\n",
            "  9.55431751e-05 1.26325119e-06]\n",
            " [2.82557608e-06 9.99392629e-01 2.24346013e-06 2.31034596e-06\n",
            "  8.85787667e-05 8.00386351e-06 1.61484248e-04 1.75715279e-04\n",
            "  1.10532717e-04 5.56377818e-05]\n",
            " [9.97984409e-01 5.64923357e-06 3.75284173e-04 2.46178170e-05\n",
            "  2.19915310e-05 1.92352003e-04 1.11188204e-03 1.33609701e-05\n",
            "  1.87992682e-05 2.51785124e-04]\n",
            " [4.31602348e-05 1.15625437e-04 2.63749593e-04 7.84216809e-06\n",
            "  9.99323606e-01 1.34887887e-06 3.27632551e-05 2.79325633e-07\n",
            "  5.86476574e-07 2.11083796e-04]\n",
            " [7.59257136e-06 9.98361409e-01 6.76818217e-06 6.73504201e-06\n",
            "  2.38480628e-04 1.15484863e-05 6.36280529e-05 9.19234590e-04\n",
            "  2.02033742e-04 1.82571690e-04]\n",
            " [1.83211716e-06 6.45340595e-04 8.80565949e-06 9.10355902e-06\n",
            "  9.88895416e-01 4.34519097e-05 6.44746324e-05 6.77350981e-05\n",
            "  7.36590661e-03 2.89777457e-03]\n",
            " [7.50509731e-04 9.56464210e-05 4.45884623e-04 9.48639179e-04\n",
            "  2.94087026e-02 1.49675552e-03 2.40342299e-04 1.36413961e-03\n",
            "  1.95787521e-03 9.63291466e-01]\n",
            " [1.32040368e-05 6.09081462e-06 4.45711921e-04 2.83965937e-06\n",
            "  2.41661142e-03 8.81498694e-01 1.06669590e-01 1.81405551e-06\n",
            "  4.08215867e-03 4.86331386e-03]]\n",
            "[7 2 1 0 4 1 4 9 5]\n"
          ],
          "name": "stdout"
        }
      ]
    },
    {
      "cell_type": "code",
      "metadata": {
        "id": "CT--y98_dr2T",
        "colab_type": "code",
        "colab": {}
      },
      "source": [
        "layer_dict = dict([(layer.name, layer) for layer in model.layers])"
      ],
      "execution_count": 0,
      "outputs": []
    },
    {
      "cell_type": "code",
      "metadata": {
        "id": "2GY4Upv4dsUR",
        "colab_type": "code",
        "outputId": "0ddd04e4-e3db-4c8f-8868-4117ac83ef58",
        "colab": {
          "base_uri": "https://localhost:8080/",
          "height": 316
        }
      },
      "source": [
        "import numpy as np\n",
        "from matplotlib import pyplot as plt\n",
        "from keras import backend as K\n",
        "%matplotlib inline\n",
        "# util function to convert a tensor into a valid image\n",
        "def deprocess_image(x):\n",
        "    # normalize tensor: center on 0., ensure std is 0.1\n",
        "    x -= x.mean()\n",
        "    x /= (x.std() + 1e-5)\n",
        "    x *= 0.1\n",
        "\n",
        "    # clip to [0, 1]\n",
        "    x += 0.5\n",
        "    x = np.clip(x, 0, 1)\n",
        "\n",
        "    # convert to RGB array\n",
        "    x *= 255\n",
        "    #x = x.transpose((1, 2, 0))\n",
        "    x = np.clip(x, 0, 255).astype('uint8')\n",
        "    return x\n",
        "\n",
        "def vis_img_in_filter(img = np.array(X_train[2]).reshape((1, 28, 28, 1)).astype(np.float64), \n",
        "                      layer_name = 'conv2d_72'):\n",
        "    layer_output = layer_dict[layer_name].output\n",
        "    img_ascs = list()\n",
        "    for filter_index in range(layer_output.shape[3]):\n",
        "        # build a loss function that maximizes the activation\n",
        "        # of the nth filter of the layer considered\n",
        "        loss = K.mean(layer_output[:, :, :, filter_index])\n",
        "\n",
        "        # compute the gradient of the input picture wrt this loss\n",
        "        grads = K.gradients(loss, model.input)[0]\n",
        "\n",
        "        # normalization trick: we normalize the gradient\n",
        "        grads /= (K.sqrt(K.mean(K.square(grads))) + 1e-5)\n",
        "\n",
        "        # this function returns the loss and grads given the input picture\n",
        "        iterate = K.function([model.input], [loss, grads])\n",
        "\n",
        "        # step size for gradient ascent\n",
        "        step = 5.\n",
        "\n",
        "        img_asc = np.array(img)\n",
        "        # run gradient ascent for 20 steps\n",
        "        for i in range(20):\n",
        "            loss_value, grads_value = iterate([img_asc])\n",
        "            img_asc += grads_value * step\n",
        "\n",
        "        img_asc = img_asc[0]\n",
        "        img_ascs.append(deprocess_image(img_asc).reshape((28, 28)))\n",
        "        \n",
        "    if layer_output.shape[3] >= 35:\n",
        "        plot_x, plot_y = 6, 6\n",
        "    elif layer_output.shape[3] >= 23:\n",
        "        plot_x, plot_y = 4, 6\n",
        "    elif layer_output.shape[3] >= 11:\n",
        "        plot_x, plot_y = 2, 6\n",
        "    else:\n",
        "        plot_x, plot_y = 1, 2\n",
        "    fig, ax = plt.subplots(plot_x, plot_y, figsize = (12, 12))\n",
        "    ax[0, 0].imshow(img.reshape((28, 28)), cmap = 'gray')\n",
        "    ax[0, 0].set_title('Input image')\n",
        "    fig.suptitle('Input image and %s filters' % (layer_name,))\n",
        "    fig.tight_layout(pad = 0.3, rect = [0, 0, 0.9, 0.9])\n",
        "    for (x, y) in [(i, j) for i in range(plot_x) for j in range(plot_y)]:\n",
        "        if x == 0 and y == 0:\n",
        "            continue\n",
        "        ax[x, y].imshow(img_ascs[x * plot_y + y - 1], cmap = 'gray')\n",
        "        ax[x, y].set_title('filter %d' % (x * plot_y + y - 1))\n",
        "\n",
        "vis_img_in_filter()"
      ],
      "execution_count": 36,
      "outputs": [
        {
          "output_type": "error",
          "ename": "KeyError",
          "evalue": "ignored",
          "traceback": [
            "\u001b[0;31m---------------------------------------------------------------------------\u001b[0m",
            "\u001b[0;31mKeyError\u001b[0m                                  Traceback (most recent call last)",
            "\u001b[0;32m<ipython-input-36-224e4a8bb8f7>\u001b[0m in \u001b[0;36m<module>\u001b[0;34m()\u001b[0m\n\u001b[1;32m     69\u001b[0m         \u001b[0max\u001b[0m\u001b[0;34m[\u001b[0m\u001b[0mx\u001b[0m\u001b[0;34m,\u001b[0m \u001b[0my\u001b[0m\u001b[0;34m]\u001b[0m\u001b[0;34m.\u001b[0m\u001b[0mset_title\u001b[0m\u001b[0;34m(\u001b[0m\u001b[0;34m'filter %d'\u001b[0m \u001b[0;34m%\u001b[0m \u001b[0;34m(\u001b[0m\u001b[0mx\u001b[0m \u001b[0;34m*\u001b[0m \u001b[0mplot_y\u001b[0m \u001b[0;34m+\u001b[0m \u001b[0my\u001b[0m \u001b[0;34m-\u001b[0m \u001b[0;36m1\u001b[0m\u001b[0;34m)\u001b[0m\u001b[0;34m)\u001b[0m\u001b[0;34m\u001b[0m\u001b[0;34m\u001b[0m\u001b[0m\n\u001b[1;32m     70\u001b[0m \u001b[0;34m\u001b[0m\u001b[0m\n\u001b[0;32m---> 71\u001b[0;31m \u001b[0mvis_img_in_filter\u001b[0m\u001b[0;34m(\u001b[0m\u001b[0;34m)\u001b[0m\u001b[0;34m\u001b[0m\u001b[0;34m\u001b[0m\u001b[0m\n\u001b[0m",
            "\u001b[0;32m<ipython-input-36-224e4a8bb8f7>\u001b[0m in \u001b[0;36mvis_img_in_filter\u001b[0;34m(img, layer_name)\u001b[0m\n\u001b[1;32m     22\u001b[0m def vis_img_in_filter(img = np.array(X_train[2]).reshape((1, 28, 28, 1)).astype(np.float64), \n\u001b[1;32m     23\u001b[0m                       layer_name = 'conv2d_72'):\n\u001b[0;32m---> 24\u001b[0;31m     \u001b[0mlayer_output\u001b[0m \u001b[0;34m=\u001b[0m \u001b[0mlayer_dict\u001b[0m\u001b[0;34m[\u001b[0m\u001b[0mlayer_name\u001b[0m\u001b[0;34m]\u001b[0m\u001b[0;34m.\u001b[0m\u001b[0moutput\u001b[0m\u001b[0;34m\u001b[0m\u001b[0;34m\u001b[0m\u001b[0m\n\u001b[0m\u001b[1;32m     25\u001b[0m     \u001b[0mimg_ascs\u001b[0m \u001b[0;34m=\u001b[0m \u001b[0mlist\u001b[0m\u001b[0;34m(\u001b[0m\u001b[0;34m)\u001b[0m\u001b[0;34m\u001b[0m\u001b[0;34m\u001b[0m\u001b[0m\n\u001b[1;32m     26\u001b[0m     \u001b[0;32mfor\u001b[0m \u001b[0mfilter_index\u001b[0m \u001b[0;32min\u001b[0m \u001b[0mrange\u001b[0m\u001b[0;34m(\u001b[0m\u001b[0mlayer_output\u001b[0m\u001b[0;34m.\u001b[0m\u001b[0mshape\u001b[0m\u001b[0;34m[\u001b[0m\u001b[0;36m3\u001b[0m\u001b[0;34m]\u001b[0m\u001b[0;34m)\u001b[0m\u001b[0;34m:\u001b[0m\u001b[0;34m\u001b[0m\u001b[0;34m\u001b[0m\u001b[0m\n",
            "\u001b[0;31mKeyError\u001b[0m: 'conv2d_72'"
          ]
        }
      ]
    },
    {
      "cell_type": "code",
      "metadata": {
        "id": "9tvptcn8dxvp",
        "colab_type": "code",
        "colab": {}
      },
      "source": [
        ""
      ],
      "execution_count": 0,
      "outputs": []
    }
  ]
}