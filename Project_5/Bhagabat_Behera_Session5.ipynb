{
  "nbformat": 4,
  "nbformat_minor": 0,
  "metadata": {
    "colab": {
      "name": "Bhagabat Behera_Session5.ipynb",
      "version": "0.3.2",
      "provenance": [],
      "collapsed_sections": [
        "aNyZv-Ec52ot",
        "zByEi95J86RD",
        "6xD3_oza-sTp",
        "OUtHMXoE4a47",
        "sJQjCKtybFnN",
        "aq37_Kn-66k5",
        "5vt3rPdt7SqA",
        "KYRREmNZBit1",
        "M9sv0aAzZ2wT"
      ]
    },
    "kernelspec": {
      "name": "python3",
      "display_name": "Python 3"
    },
    "accelerator": "GPU"
  },
  "cells": [
    {
      "cell_type": "markdown",
      "metadata": {
        "id": "wB-V_jVK5CYK",
        "colab_type": "text"
      },
      "source": [
        "### Header with description"
      ]
    },
    {
      "cell_type": "markdown",
      "metadata": {
        "id": "f51o0FPK5JV_",
        "colab_type": "text"
      },
      "source": [
        "**Changes from the fourth submission in the last assignment**\n",
        "\n",
        "* Added a function to do image normalization\n",
        "* Created custom loss function to add l2 regularization to the categorical cross entropy function\n",
        "* Moved activation layer to next to the batch normalization layer\n",
        "* Added code to display and download 26 misclassified images"
      ]
    },
    {
      "cell_type": "markdown",
      "metadata": {
        "id": "aNyZv-Ec52ot",
        "colab_type": "text"
      },
      "source": [
        "### Import Libraries and modules"
      ]
    },
    {
      "cell_type": "code",
      "metadata": {
        "id": "3m3w1Cw49Zkt",
        "colab_type": "code",
        "outputId": "d332b081-1480-4cc6-ed8e-f2b39f98e10b",
        "colab": {
          "base_uri": "https://localhost:8080/",
          "height": 34
        }
      },
      "source": [
        "# https://keras.io/\n",
        "!pip install -q keras\n",
        "import keras"
      ],
      "execution_count": 1,
      "outputs": [
        {
          "output_type": "stream",
          "text": [
            "Using TensorFlow backend.\n"
          ],
          "name": "stderr"
        }
      ]
    },
    {
      "cell_type": "code",
      "metadata": {
        "id": "Eso6UHE080D4",
        "colab_type": "code",
        "colab": {}
      },
      "source": [
        "import numpy as np\n",
        "\n",
        "from keras.models import Sequential\n",
        "from keras.layers import Dense, Dropout, Activation, Flatten, Add\n",
        "from keras.layers import Convolution2D, MaxPooling2D\n",
        "from keras.utils import np_utils\n",
        "\n",
        "from keras.datasets import mnist"
      ],
      "execution_count": 0,
      "outputs": []
    },
    {
      "cell_type": "markdown",
      "metadata": {
        "id": "zByEi95J86RD",
        "colab_type": "text"
      },
      "source": [
        "### Load pre-shuffled MNIST data into train and test sets"
      ]
    },
    {
      "cell_type": "code",
      "metadata": {
        "id": "7eRM0QWN83PV",
        "colab_type": "code",
        "colab": {}
      },
      "source": [
        "(X_train, y_train), (X_test, y_test) = mnist.load_data()"
      ],
      "execution_count": 0,
      "outputs": []
    },
    {
      "cell_type": "code",
      "metadata": {
        "id": "zD__Te3NbrfN",
        "colab_type": "code",
        "colab": {}
      },
      "source": [
        "X_test_bkp = X_test.copy()"
      ],
      "execution_count": 0,
      "outputs": []
    },
    {
      "cell_type": "code",
      "metadata": {
        "id": "4a4Be72j8-ZC",
        "colab_type": "code",
        "outputId": "0bf40753-b094-486f-d632-bc07d2576a0e",
        "colab": {
          "base_uri": "https://localhost:8080/",
          "height": 291
        }
      },
      "source": [
        "print (X_train.shape)\n",
        "from matplotlib import pyplot as plt\n",
        "%matplotlib inline\n",
        "plt.imshow(X_train[0])"
      ],
      "execution_count": 127,
      "outputs": [
        {
          "output_type": "stream",
          "text": [
            "(60000, 28, 28)\n"
          ],
          "name": "stdout"
        },
        {
          "output_type": "display_data",
          "data": {
            "image/png": "[encoded data removed]",
            "text/plain": [
              "<Figure size 432x288 with 1 Axes>"
            ]
          },
          "metadata": {
            "tags": []
          }
        }
      ]
    },
    {
      "cell_type": "code",
      "metadata": {
        "id": "dkmprriw9AnZ",
        "colab_type": "code",
        "colab": {}
      },
      "source": [
        "X_train = X_train.reshape(X_train.shape[0], 28, 28,1)\n",
        "X_test = X_test.reshape(X_test.shape[0], 28, 28,1)"
      ],
      "execution_count": 0,
      "outputs": []
    },
    {
      "cell_type": "markdown",
      "metadata": {
        "id": "6xD3_oza-sTp",
        "colab_type": "text"
      },
      "source": [
        "### Image Normalization"
      ]
    },
    {
      "cell_type": "code",
      "metadata": {
        "id": "X2m4YS4E9CRh",
        "colab_type": "code",
        "colab": {}
      },
      "source": [
        "X_train = X_train.astype('float32')\n",
        "X_test = X_test.astype('float32')\n",
        "\n",
        "\n",
        "def image_normalize(X):                   #Created a function to normalize the image by stretching the pixel values between 0 and 255\n",
        "  for i in range(X.shape[0]):\n",
        "    T = X[i]\n",
        "    T = ((T - T.min())/(T.max() - T.min())) * 255\n",
        "    X[i] = T\n",
        "  return X\n",
        "    \n",
        "X_train = image_normalize(X_train)\n",
        "X_test = image_normalize(X_test) \n"
      ],
      "execution_count": 0,
      "outputs": []
    },
    {
      "cell_type": "code",
      "metadata": {
        "id": "0Mn0vAYD9DvB",
        "colab_type": "code",
        "outputId": "067e843b-0307-40f9-bb72-d5e9cf66ea4c",
        "colab": {
          "base_uri": "https://localhost:8080/",
          "height": 34
        }
      },
      "source": [
        "y_train[:10]"
      ],
      "execution_count": 67,
      "outputs": [
        {
          "output_type": "execute_result",
          "data": {
            "text/plain": [
              "array([5, 0, 4, 1, 9, 2, 1, 3, 1, 4], dtype=uint8)"
            ]
          },
          "metadata": {
            "tags": []
          },
          "execution_count": 67
        }
      ]
    },
    {
      "cell_type": "code",
      "metadata": {
        "id": "ZG8JiXR39FHC",
        "colab_type": "code",
        "colab": {}
      },
      "source": [
        "# Convert 1-dimensional class arrays to 10-dimensional class matrices\n",
        "Y_train = np_utils.to_categorical(y_train, 10)\n",
        "Y_test = np_utils.to_categorical(y_test, 10)"
      ],
      "execution_count": 0,
      "outputs": []
    },
    {
      "cell_type": "code",
      "metadata": {
        "id": "fYlFRvKS9HMB",
        "colab_type": "code",
        "outputId": "06ff2549-a2e3-4e91-91e2-a0a52c862468",
        "colab": {
          "base_uri": "https://localhost:8080/",
          "height": 187
        }
      },
      "source": [
        "Y_train[:10]\n"
      ],
      "execution_count": 69,
      "outputs": [
        {
          "output_type": "execute_result",
          "data": {
            "text/plain": [
              "array([[0., 0., 0., 0., 0., 1., 0., 0., 0., 0.],\n",
              "       [1., 0., 0., 0., 0., 0., 0., 0., 0., 0.],\n",
              "       [0., 0., 0., 0., 1., 0., 0., 0., 0., 0.],\n",
              "       [0., 1., 0., 0., 0., 0., 0., 0., 0., 0.],\n",
              "       [0., 0., 0., 0., 0., 0., 0., 0., 0., 1.],\n",
              "       [0., 0., 1., 0., 0., 0., 0., 0., 0., 0.],\n",
              "       [0., 1., 0., 0., 0., 0., 0., 0., 0., 0.],\n",
              "       [0., 0., 0., 1., 0., 0., 0., 0., 0., 0.],\n",
              "       [0., 1., 0., 0., 0., 0., 0., 0., 0., 0.],\n",
              "       [0., 0., 0., 0., 1., 0., 0., 0., 0., 0.]], dtype=float32)"
            ]
          },
          "metadata": {
            "tags": []
          },
          "execution_count": 69
        }
      ]
    },
    {
      "cell_type": "markdown",
      "metadata": {
        "id": "OUtHMXoE4a47",
        "colab_type": "text"
      },
      "source": [
        "### Build Model"
      ]
    },
    {
      "cell_type": "code",
      "metadata": {
        "id": "sBa3Tugaj3KN",
        "colab_type": "code",
        "outputId": "46e0abd3-9e12-48dc-c87c-37ee7fbcbdd3",
        "colab": {
          "base_uri": "https://localhost:8080/",
          "height": 309
        }
      },
      "source": [
        "from keras.layers import Activation\n",
        "from keras.layers.normalization import BatchNormalization\n",
        "\n",
        "model = Sequential()\n",
        "\n",
        "model.add(Convolution2D(8, 3, 3, input_shape=(28,28,1), use_bias=False)) # 26, RF=3x3\n",
        "model.add(BatchNormalization())\n",
        "model.add(Activation('relu'))\n",
        "model.add(Dropout(0.1))\n",
        "\n",
        "model.add(Convolution2D(16, 3, 3, use_bias=False)) #24, RF=5x5\n",
        "model.add(BatchNormalization())\n",
        "model.add(Activation('relu'))\n",
        "model.add(Dropout(0.1))\n",
        "\n",
        "model.add(Convolution2D(32, 3, 3, use_bias=False)) #22, RF=7x7\n",
        "model.add(BatchNormalization())\n",
        "model.add(Activation('relu'))\n",
        "model.add(Dropout(0.1))\n",
        "\n",
        "\n",
        "model.add(Convolution2D(8, 1, use_bias=False)) #22, RF=7x7\n",
        "model.add(BatchNormalization())\n",
        "model.add(Activation('relu'))\n",
        "model.add(MaxPooling2D(pool_size=(2, 2))) #11, RF=14x14\n",
        "\n",
        "model.add(Convolution2D(8, 3, 3, use_bias=False)) #9, RF=16x16\n",
        "model.add(BatchNormalization())\n",
        "model.add(Activation('relu'))\n",
        "model.add(Dropout(0.1))\n",
        "\n",
        "model.add(Convolution2D(16, 3, 3, use_bias=False)) #7, RF=18x18\n",
        "model.add(BatchNormalization())\n",
        "model.add(Activation('relu'))\n",
        "model.add(Dropout(0.1))\n",
        "\n",
        "model.add(Convolution2D(16, 3, 3, use_bias=False)) #5, RF=20x20\n",
        "model.add(BatchNormalization())\n",
        "model.add(Activation('relu'))\n",
        "model.add(Dropout(0.1))\n",
        "\n",
        "model.add(Convolution2D(16, 3, 3, use_bias=False)) #3, RF=22x22\n",
        "model.add(BatchNormalization())\n",
        "model.add(Activation('relu'))\n",
        "model.add(Dropout(0.1))\n",
        "\n",
        "model.add(Convolution2D(10, 1, use_bias=False)) #3, RF=22x22\n",
        "model.add(BatchNormalization())\n",
        "model.add(Activation('relu'))\n",
        "\n",
        "model.add(Convolution2D(10, 3, use_bias=False))\n",
        "\n",
        "model.add(Flatten())\n",
        "model.add(Activation('softmax'))"
      ],
      "execution_count": 70,
      "outputs": [
        {
          "output_type": "stream",
          "text": [
            "WARNING:tensorflow:From /usr/local/lib/python3.6/dist-packages/tensorflow/python/framework/op_def_library.py:263: colocate_with (from tensorflow.python.framework.ops) is deprecated and will be removed in a future version.\n",
            "Instructions for updating:\n",
            "Colocations handled automatically by placer.\n"
          ],
          "name": "stdout"
        },
        {
          "output_type": "stream",
          "text": [
            "/usr/local/lib/python3.6/dist-packages/ipykernel_launcher.py:6: UserWarning: Update your `Conv2D` call to the Keras 2 API: `Conv2D(8, (3, 3), input_shape=(28, 28, 1..., use_bias=False)`\n",
            "  \n"
          ],
          "name": "stderr"
        },
        {
          "output_type": "stream",
          "text": [
            "WARNING:tensorflow:From /usr/local/lib/python3.6/dist-packages/keras/backend/tensorflow_backend.py:3445: calling dropout (from tensorflow.python.ops.nn_ops) with keep_prob is deprecated and will be removed in a future version.\n",
            "Instructions for updating:\n",
            "Please use `rate` instead of `keep_prob`. Rate should be set to `rate = 1 - keep_prob`.\n"
          ],
          "name": "stdout"
        },
        {
          "output_type": "stream",
          "text": [
            "/usr/local/lib/python3.6/dist-packages/ipykernel_launcher.py:11: UserWarning: Update your `Conv2D` call to the Keras 2 API: `Conv2D(16, (3, 3), use_bias=False)`\n",
            "  # This is added back by InteractiveShellApp.init_path()\n",
            "/usr/local/lib/python3.6/dist-packages/ipykernel_launcher.py:16: UserWarning: Update your `Conv2D` call to the Keras 2 API: `Conv2D(32, (3, 3), use_bias=False)`\n",
            "  app.launch_new_instance()\n",
            "/usr/local/lib/python3.6/dist-packages/ipykernel_launcher.py:27: UserWarning: Update your `Conv2D` call to the Keras 2 API: `Conv2D(8, (3, 3), use_bias=False)`\n",
            "/usr/local/lib/python3.6/dist-packages/ipykernel_launcher.py:32: UserWarning: Update your `Conv2D` call to the Keras 2 API: `Conv2D(16, (3, 3), use_bias=False)`\n",
            "/usr/local/lib/python3.6/dist-packages/ipykernel_launcher.py:37: UserWarning: Update your `Conv2D` call to the Keras 2 API: `Conv2D(16, (3, 3), use_bias=False)`\n",
            "/usr/local/lib/python3.6/dist-packages/ipykernel_launcher.py:42: UserWarning: Update your `Conv2D` call to the Keras 2 API: `Conv2D(16, (3, 3), use_bias=False)`\n"
          ],
          "name": "stderr"
        }
      ]
    },
    {
      "cell_type": "code",
      "metadata": {
        "id": "TzdAYg1k9K7Z",
        "colab_type": "code",
        "outputId": "12342340-bc0e-42ab-ff7f-c8a474b047c8",
        "colab": {
          "base_uri": "https://localhost:8080/",
          "height": 1428
        }
      },
      "source": [
        "model.summary()"
      ],
      "execution_count": 71,
      "outputs": [
        {
          "output_type": "stream",
          "text": [
            "_________________________________________________________________\n",
            "Layer (type)                 Output Shape              Param #   \n",
            "=================================================================\n",
            "conv2d_1 (Conv2D)            (None, 26, 26, 8)         72        \n",
            "_________________________________________________________________\n",
            "batch_normalization_1 (Batch (None, 26, 26, 8)         32        \n",
            "_________________________________________________________________\n",
            "activation_1 (Activation)    (None, 26, 26, 8)         0         \n",
            "_________________________________________________________________\n",
            "dropout_1 (Dropout)          (None, 26, 26, 8)         0         \n",
            "_________________________________________________________________\n",
            "conv2d_2 (Conv2D)            (None, 24, 24, 16)        1152      \n",
            "_________________________________________________________________\n",
            "batch_normalization_2 (Batch (None, 24, 24, 16)        64        \n",
            "_________________________________________________________________\n",
            "activation_2 (Activation)    (None, 24, 24, 16)        0         \n",
            "_________________________________________________________________\n",
            "dropout_2 (Dropout)          (None, 24, 24, 16)        0         \n",
            "_________________________________________________________________\n",
            "conv2d_3 (Conv2D)            (None, 22, 22, 32)        4608      \n",
            "_________________________________________________________________\n",
            "batch_normalization_3 (Batch (None, 22, 22, 32)        128       \n",
            "_________________________________________________________________\n",
            "activation_3 (Activation)    (None, 22, 22, 32)        0         \n",
            "_________________________________________________________________\n",
            "dropout_3 (Dropout)          (None, 22, 22, 32)        0         \n",
            "_________________________________________________________________\n",
            "conv2d_4 (Conv2D)            (None, 22, 22, 8)         256       \n",
            "_________________________________________________________________\n",
            "batch_normalization_4 (Batch (None, 22, 22, 8)         32        \n",
            "_________________________________________________________________\n",
            "activation_4 (Activation)    (None, 22, 22, 8)         0         \n",
            "_________________________________________________________________\n",
            "max_pooling2d_1 (MaxPooling2 (None, 11, 11, 8)         0         \n",
            "_________________________________________________________________\n",
            "conv2d_5 (Conv2D)            (None, 9, 9, 8)           576       \n",
            "_________________________________________________________________\n",
            "batch_normalization_5 (Batch (None, 9, 9, 8)           32        \n",
            "_________________________________________________________________\n",
            "activation_5 (Activation)    (None, 9, 9, 8)           0         \n",
            "_________________________________________________________________\n",
            "dropout_4 (Dropout)          (None, 9, 9, 8)           0         \n",
            "_________________________________________________________________\n",
            "conv2d_6 (Conv2D)            (None, 7, 7, 16)          1152      \n",
            "_________________________________________________________________\n",
            "batch_normalization_6 (Batch (None, 7, 7, 16)          64        \n",
            "_________________________________________________________________\n",
            "activation_6 (Activation)    (None, 7, 7, 16)          0         \n",
            "_________________________________________________________________\n",
            "dropout_5 (Dropout)          (None, 7, 7, 16)          0         \n",
            "_________________________________________________________________\n",
            "conv2d_7 (Conv2D)            (None, 5, 5, 16)          2304      \n",
            "_________________________________________________________________\n",
            "batch_normalization_7 (Batch (None, 5, 5, 16)          64        \n",
            "_________________________________________________________________\n",
            "activation_7 (Activation)    (None, 5, 5, 16)          0         \n",
            "_________________________________________________________________\n",
            "dropout_6 (Dropout)          (None, 5, 5, 16)          0         \n",
            "_________________________________________________________________\n",
            "conv2d_8 (Conv2D)            (None, 3, 3, 16)          2304      \n",
            "_________________________________________________________________\n",
            "batch_normalization_8 (Batch (None, 3, 3, 16)          64        \n",
            "_________________________________________________________________\n",
            "activation_8 (Activation)    (None, 3, 3, 16)          0         \n",
            "_________________________________________________________________\n",
            "dropout_7 (Dropout)          (None, 3, 3, 16)          0         \n",
            "_________________________________________________________________\n",
            "conv2d_9 (Conv2D)            (None, 3, 3, 10)          160       \n",
            "_________________________________________________________________\n",
            "batch_normalization_9 (Batch (None, 3, 3, 10)          40        \n",
            "_________________________________________________________________\n",
            "activation_9 (Activation)    (None, 3, 3, 10)          0         \n",
            "_________________________________________________________________\n",
            "conv2d_10 (Conv2D)           (None, 1, 1, 10)          900       \n",
            "_________________________________________________________________\n",
            "flatten_1 (Flatten)          (None, 10)                0         \n",
            "_________________________________________________________________\n",
            "activation_10 (Activation)   (None, 10)                0         \n",
            "=================================================================\n",
            "Total params: 14,004\n",
            "Trainable params: 13,744\n",
            "Non-trainable params: 260\n",
            "_________________________________________________________________\n"
          ],
          "name": "stdout"
        }
      ]
    },
    {
      "cell_type": "markdown",
      "metadata": {
        "id": "sJQjCKtybFnN",
        "colab_type": "text"
      },
      "source": [
        "### Custom loss function to add l2 regularization in the cross entropy loss"
      ]
    },
    {
      "cell_type": "code",
      "metadata": {
        "id": "-hw4QaAYsTfN",
        "colab_type": "code",
        "colab": {}
      },
      "source": [
        "def cross_entropy_regularized(y_true, y_pred):\n",
        "    \n",
        "    l2_regularization = K.mean(K.square(y_pred - y_true), axis=-1) + K.epsilon()   # Added epsilon just to avoid differenciation issue if the MSE is zero at all\n",
        "    loss = K.categorical_crossentropy(y_true, y_pred) + l2_regularization\n",
        "    \n",
        "    return loss\n"
      ],
      "execution_count": 0,
      "outputs": []
    },
    {
      "cell_type": "markdown",
      "metadata": {
        "id": "aq37_Kn-66k5",
        "colab_type": "text"
      },
      "source": [
        "### Checkpoint Configuration to save the best model"
      ]
    },
    {
      "cell_type": "code",
      "metadata": {
        "id": "lrV5Phnp6_XC",
        "colab_type": "code",
        "outputId": "1bb9ed0e-8d4b-4f06-ed7b-26eb77223b1b",
        "colab": {
          "base_uri": "https://localhost:8080/",
          "height": 122
        }
      },
      "source": [
        "from google.colab import drive\n",
        "drive.mount('/content/gdrive')"
      ],
      "execution_count": 73,
      "outputs": [
        {
          "output_type": "stream",
          "text": [
            "Go to this URL in a browser: https://accounts.google.com/o/oauth2/auth?client_id=947318989803-6bn6qk8qdgf4n4g3pfee6491hc0brc4i.apps.googleusercontent.com&redirect_uri=urn%3Aietf%3Awg%3Aoauth%3A2.0%3Aoob&scope=email%20https%3A%2F%2Fwww.googleapis.com%2Fauth%2Fdocs.test%20https%3A%2F%2Fwww.googleapis.com%2Fauth%2Fdrive%20https%3A%2F%2Fwww.googleapis.com%2Fauth%2Fdrive.photos.readonly%20https%3A%2F%2Fwww.googleapis.com%2Fauth%2Fpeopleapi.readonly&response_type=code\n",
            "\n",
            "Enter your authorization code:\n",
            "··········\n",
            "Mounted at /content/gdrive\n"
          ],
          "name": "stdout"
        }
      ]
    },
    {
      "cell_type": "code",
      "metadata": {
        "id": "fsAjINQW7I-d",
        "colab_type": "code",
        "outputId": "590f1c60-6f72-469a-b4f7-61a3566b7621",
        "colab": {
          "base_uri": "https://localhost:8080/",
          "height": 34
        }
      },
      "source": [
        "!ls \"/content/gdrive/My Drive/EVA\""
      ],
      "execution_count": 78,
      "outputs": [
        {
          "output_type": "stream",
          "text": [
            "S3V2  S4  S5\n"
          ],
          "name": "stdout"
        }
      ]
    },
    {
      "cell_type": "code",
      "metadata": {
        "id": "zWvwFEna7GOA",
        "colab_type": "code",
        "colab": {}
      },
      "source": [
        "!pip install -q h5py pyyaml\n",
        "from keras.models import model_from_json"
      ],
      "execution_count": 0,
      "outputs": []
    },
    {
      "cell_type": "code",
      "metadata": {
        "id": "iWUo2XUv7Lrd",
        "colab_type": "code",
        "colab": {}
      },
      "source": [
        "from keras.callbacks import *\n",
        "filepath=\"/content/gdrive/My Drive/EVA/S5/epochs:{epoch:03d}-val_acc:{val_acc:.4f}.hdf5\"\n",
        "checkpoint = ModelCheckpoint(filepath, monitor='val_acc', verbose=1, save_best_only=True, save_weights_only=False, mode='auto')"
      ],
      "execution_count": 0,
      "outputs": []
    },
    {
      "cell_type": "code",
      "metadata": {
        "id": "B3WjCrm87Pt7",
        "colab_type": "code",
        "colab": {}
      },
      "source": [
        "callbacks_list = [checkpoint]"
      ],
      "execution_count": 0,
      "outputs": []
    },
    {
      "cell_type": "markdown",
      "metadata": {
        "id": "5vt3rPdt7SqA",
        "colab_type": "text"
      },
      "source": [
        "### Compile the model with custom loss function and train for 40 Epochs"
      ]
    },
    {
      "cell_type": "code",
      "metadata": {
        "id": "f_4_6OPA7iu8",
        "colab_type": "code",
        "colab": {}
      },
      "source": [
        "from keras.optimizers import Adam\n",
        "from keras.callbacks import LearningRateScheduler\n",
        "\n",
        "def scheduler(epoch, lr):\n",
        "  if epoch % 10 == 0:\n",
        "    lr = lr * 0.5\n",
        "  return lr\n",
        "\n",
        "model.compile(loss=cross_entropy_regularized,                          # Custom loss function: Categorical cross entropy with l2 regularization\n",
        "             optimizer=Adam(lr=0.02),\n",
        "             metrics=['accuracy'])\n",
        "\n",
        "callbacks_list = [LearningRateScheduler(scheduler, verbose=1), checkpoint]"
      ],
      "execution_count": 0,
      "outputs": []
    },
    {
      "cell_type": "code",
      "metadata": {
        "id": "NngEv2HfAYIL",
        "colab_type": "code",
        "outputId": "8a0365c3-b8de-48a4-ddc3-2b65f5f340ea",
        "colab": {
          "base_uri": "https://localhost:8080/",
          "height": 4236
        }
      },
      "source": [
        "model.fit(X_train, Y_train, batch_size=256, validation_data=(X_test, Y_test), nb_epoch=40, callbacks=callbacks_list, verbose=1)"
      ],
      "execution_count": 82,
      "outputs": [
        {
          "output_type": "stream",
          "text": [
            "WARNING:tensorflow:From /usr/local/lib/python3.6/dist-packages/tensorflow/python/ops/math_ops.py:3066: to_int32 (from tensorflow.python.ops.math_ops) is deprecated and will be removed in a future version.\n",
            "Instructions for updating:\n",
            "Use tf.cast instead.\n"
          ],
          "name": "stdout"
        },
        {
          "output_type": "stream",
          "text": [
            "/usr/local/lib/python3.6/dist-packages/ipykernel_launcher.py:1: UserWarning: The `nb_epoch` argument in `fit` has been renamed `epochs`.\n",
            "  \"\"\"Entry point for launching an IPython kernel.\n"
          ],
          "name": "stderr"
        },
        {
          "output_type": "stream",
          "text": [
            "Train on 60000 samples, validate on 10000 samples\n",
            "Epoch 1/40\n",
            "\n",
            "Epoch 00001: LearningRateScheduler setting learning rate to 0.009999999776482582.\n",
            "60000/60000 [==============================] - 13s 222us/step - loss: 0.3264 - acc: 0.9006 - val_loss: 0.0800 - val_acc: 0.9765\n",
            "\n",
            "Epoch 00001: val_acc improved from -inf to 0.97650, saving model to /content/gdrive/My Drive/EVA/S5/epochs:001-val_acc:0.9765.hdf5\n",
            "Epoch 2/40\n",
            "\n",
            "Epoch 00002: LearningRateScheduler setting learning rate to 0.009999999776482582.\n",
            "60000/60000 [==============================] - 9s 149us/step - loss: 0.0964 - acc: 0.9720 - val_loss: 0.0927 - val_acc: 0.9728\n",
            "\n",
            "Epoch 00002: val_acc did not improve from 0.97650\n",
            "Epoch 3/40\n",
            "\n",
            "Epoch 00003: LearningRateScheduler setting learning rate to 0.009999999776482582.\n",
            "60000/60000 [==============================] - 9s 151us/step - loss: 0.0802 - acc: 0.9769 - val_loss: 0.0564 - val_acc: 0.9850\n",
            "\n",
            "Epoch 00003: val_acc improved from 0.97650 to 0.98500, saving model to /content/gdrive/My Drive/EVA/S5/epochs:003-val_acc:0.9850.hdf5\n",
            "Epoch 4/40\n",
            "\n",
            "Epoch 00004: LearningRateScheduler setting learning rate to 0.009999999776482582.\n",
            "60000/60000 [==============================] - 9s 153us/step - loss: 0.0670 - acc: 0.9805 - val_loss: 0.0451 - val_acc: 0.9851\n",
            "\n",
            "Epoch 00004: val_acc improved from 0.98500 to 0.98510, saving model to /content/gdrive/My Drive/EVA/S5/epochs:004-val_acc:0.9851.hdf5\n",
            "Epoch 5/40\n",
            "\n",
            "Epoch 00005: LearningRateScheduler setting learning rate to 0.009999999776482582.\n",
            "60000/60000 [==============================] - 9s 152us/step - loss: 0.0611 - acc: 0.9822 - val_loss: 0.0440 - val_acc: 0.9876\n",
            "\n",
            "Epoch 00005: val_acc improved from 0.98510 to 0.98760, saving model to /content/gdrive/My Drive/EVA/S5/epochs:005-val_acc:0.9876.hdf5\n",
            "Epoch 6/40\n",
            "\n",
            "Epoch 00006: LearningRateScheduler setting learning rate to 0.009999999776482582.\n",
            "60000/60000 [==============================] - 9s 150us/step - loss: 0.0583 - acc: 0.9829 - val_loss: 0.0398 - val_acc: 0.9885\n",
            "\n",
            "Epoch 00006: val_acc improved from 0.98760 to 0.98850, saving model to /content/gdrive/My Drive/EVA/S5/epochs:006-val_acc:0.9885.hdf5\n",
            "Epoch 7/40\n",
            "\n",
            "Epoch 00007: LearningRateScheduler setting learning rate to 0.009999999776482582.\n",
            "60000/60000 [==============================] - 9s 149us/step - loss: 0.0545 - acc: 0.9845 - val_loss: 0.0454 - val_acc: 0.9875\n",
            "\n",
            "Epoch 00007: val_acc did not improve from 0.98850\n",
            "Epoch 8/40\n",
            "\n",
            "Epoch 00008: LearningRateScheduler setting learning rate to 0.009999999776482582.\n",
            "60000/60000 [==============================] - 9s 150us/step - loss: 0.0519 - acc: 0.9848 - val_loss: 0.0320 - val_acc: 0.9903\n",
            "\n",
            "Epoch 00008: val_acc improved from 0.98850 to 0.99030, saving model to /content/gdrive/My Drive/EVA/S5/epochs:008-val_acc:0.9903.hdf5\n",
            "Epoch 9/40\n",
            "\n",
            "Epoch 00009: LearningRateScheduler setting learning rate to 0.009999999776482582.\n",
            "60000/60000 [==============================] - 9s 150us/step - loss: 0.0516 - acc: 0.9846 - val_loss: 0.0475 - val_acc: 0.9870\n",
            "\n",
            "Epoch 00009: val_acc did not improve from 0.99030\n",
            "Epoch 10/40\n",
            "\n",
            "Epoch 00010: LearningRateScheduler setting learning rate to 0.009999999776482582.\n",
            "60000/60000 [==============================] - 9s 151us/step - loss: 0.0495 - acc: 0.9852 - val_loss: 0.0409 - val_acc: 0.9880\n",
            "\n",
            "Epoch 00010: val_acc did not improve from 0.99030\n",
            "Epoch 11/40\n",
            "\n",
            "Epoch 00011: LearningRateScheduler setting learning rate to 0.004999999888241291.\n",
            "60000/60000 [==============================] - 9s 152us/step - loss: 0.0372 - acc: 0.9889 - val_loss: 0.0291 - val_acc: 0.9920\n",
            "\n",
            "Epoch 00011: val_acc improved from 0.99030 to 0.99200, saving model to /content/gdrive/My Drive/EVA/S5/epochs:011-val_acc:0.9920.hdf5\n",
            "Epoch 12/40\n",
            "\n",
            "Epoch 00012: LearningRateScheduler setting learning rate to 0.004999999888241291.\n",
            "60000/60000 [==============================] - 9s 151us/step - loss: 0.0350 - acc: 0.9896 - val_loss: 0.0291 - val_acc: 0.9916\n",
            "\n",
            "Epoch 00012: val_acc did not improve from 0.99200\n",
            "Epoch 13/40\n",
            "\n",
            "Epoch 00013: LearningRateScheduler setting learning rate to 0.004999999888241291.\n",
            "60000/60000 [==============================] - 9s 152us/step - loss: 0.0359 - acc: 0.9891 - val_loss: 0.0306 - val_acc: 0.9926\n",
            "\n",
            "Epoch 00013: val_acc improved from 0.99200 to 0.99260, saving model to /content/gdrive/My Drive/EVA/S5/epochs:013-val_acc:0.9926.hdf5\n",
            "Epoch 14/40\n",
            "\n",
            "Epoch 00014: LearningRateScheduler setting learning rate to 0.004999999888241291.\n",
            "60000/60000 [==============================] - 9s 151us/step - loss: 0.0353 - acc: 0.9895 - val_loss: 0.0241 - val_acc: 0.9931\n",
            "\n",
            "Epoch 00014: val_acc improved from 0.99260 to 0.99310, saving model to /content/gdrive/My Drive/EVA/S5/epochs:014-val_acc:0.9931.hdf5\n",
            "Epoch 15/40\n",
            "\n",
            "Epoch 00015: LearningRateScheduler setting learning rate to 0.004999999888241291.\n",
            "60000/60000 [==============================] - 9s 150us/step - loss: 0.0331 - acc: 0.9900 - val_loss: 0.0242 - val_acc: 0.9928\n",
            "\n",
            "Epoch 00015: val_acc did not improve from 0.99310\n",
            "Epoch 16/40\n",
            "\n",
            "Epoch 00016: LearningRateScheduler setting learning rate to 0.004999999888241291.\n",
            "60000/60000 [==============================] - 9s 153us/step - loss: 0.0332 - acc: 0.9901 - val_loss: 0.0323 - val_acc: 0.9910\n",
            "\n",
            "Epoch 00016: val_acc did not improve from 0.99310\n",
            "Epoch 17/40\n",
            "\n",
            "Epoch 00017: LearningRateScheduler setting learning rate to 0.004999999888241291.\n",
            "60000/60000 [==============================] - 9s 151us/step - loss: 0.0337 - acc: 0.9896 - val_loss: 0.0303 - val_acc: 0.9919\n",
            "\n",
            "Epoch 00017: val_acc did not improve from 0.99310\n",
            "Epoch 18/40\n",
            "\n",
            "Epoch 00018: LearningRateScheduler setting learning rate to 0.004999999888241291.\n",
            "60000/60000 [==============================] - 9s 150us/step - loss: 0.0333 - acc: 0.9898 - val_loss: 0.0279 - val_acc: 0.9918\n",
            "\n",
            "Epoch 00018: val_acc did not improve from 0.99310\n",
            "Epoch 19/40\n",
            "\n",
            "Epoch 00019: LearningRateScheduler setting learning rate to 0.004999999888241291.\n",
            "60000/60000 [==============================] - 9s 150us/step - loss: 0.0322 - acc: 0.9903 - val_loss: 0.0320 - val_acc: 0.9915\n",
            "\n",
            "Epoch 00019: val_acc did not improve from 0.99310\n",
            "Epoch 20/40\n",
            "\n",
            "Epoch 00020: LearningRateScheduler setting learning rate to 0.004999999888241291.\n",
            "60000/60000 [==============================] - 9s 150us/step - loss: 0.0312 - acc: 0.9905 - val_loss: 0.0258 - val_acc: 0.9927\n",
            "\n",
            "Epoch 00020: val_acc did not improve from 0.99310\n",
            "Epoch 21/40\n",
            "\n",
            "Epoch 00021: LearningRateScheduler setting learning rate to 0.0024999999441206455.\n",
            "60000/60000 [==============================] - 9s 149us/step - loss: 0.0271 - acc: 0.9919 - val_loss: 0.0257 - val_acc: 0.9930\n",
            "\n",
            "Epoch 00021: val_acc did not improve from 0.99310\n",
            "Epoch 22/40\n",
            "\n",
            "Epoch 00022: LearningRateScheduler setting learning rate to 0.0024999999441206455.\n",
            "60000/60000 [==============================] - 9s 148us/step - loss: 0.0251 - acc: 0.9924 - val_loss: 0.0275 - val_acc: 0.9922\n",
            "\n",
            "Epoch 00022: val_acc did not improve from 0.99310\n",
            "Epoch 23/40\n",
            "\n",
            "Epoch 00023: LearningRateScheduler setting learning rate to 0.0024999999441206455.\n",
            "60000/60000 [==============================] - 9s 149us/step - loss: 0.0263 - acc: 0.9917 - val_loss: 0.0271 - val_acc: 0.9925\n",
            "\n",
            "Epoch 00023: val_acc did not improve from 0.99310\n",
            "Epoch 24/40\n",
            "\n",
            "Epoch 00024: LearningRateScheduler setting learning rate to 0.0024999999441206455.\n",
            "60000/60000 [==============================] - 9s 148us/step - loss: 0.0242 - acc: 0.9928 - val_loss: 0.0288 - val_acc: 0.9925\n",
            "\n",
            "Epoch 00024: val_acc did not improve from 0.99310\n",
            "Epoch 25/40\n",
            "\n",
            "Epoch 00025: LearningRateScheduler setting learning rate to 0.0024999999441206455.\n",
            "60000/60000 [==============================] - 9s 148us/step - loss: 0.0252 - acc: 0.9923 - val_loss: 0.0270 - val_acc: 0.9934\n",
            "\n",
            "Epoch 00025: val_acc improved from 0.99310 to 0.99340, saving model to /content/gdrive/My Drive/EVA/S5/epochs:025-val_acc:0.9934.hdf5\n",
            "Epoch 26/40\n",
            "\n",
            "Epoch 00026: LearningRateScheduler setting learning rate to 0.0024999999441206455.\n",
            "60000/60000 [==============================] - 9s 149us/step - loss: 0.0246 - acc: 0.9921 - val_loss: 0.0304 - val_acc: 0.9924\n",
            "\n",
            "Epoch 00026: val_acc did not improve from 0.99340\n",
            "Epoch 27/40\n",
            "\n",
            "Epoch 00027: LearningRateScheduler setting learning rate to 0.0024999999441206455.\n",
            "60000/60000 [==============================] - 9s 148us/step - loss: 0.0243 - acc: 0.9927 - val_loss: 0.0282 - val_acc: 0.9930\n",
            "\n",
            "Epoch 00027: val_acc did not improve from 0.99340\n",
            "Epoch 28/40\n",
            "\n",
            "Epoch 00028: LearningRateScheduler setting learning rate to 0.0024999999441206455.\n",
            "60000/60000 [==============================] - 9s 148us/step - loss: 0.0251 - acc: 0.9924 - val_loss: 0.0243 - val_acc: 0.9938\n",
            "\n",
            "Epoch 00028: val_acc improved from 0.99340 to 0.99380, saving model to /content/gdrive/My Drive/EVA/S5/epochs:028-val_acc:0.9938.hdf5\n",
            "Epoch 29/40\n",
            "\n",
            "Epoch 00029: LearningRateScheduler setting learning rate to 0.0024999999441206455.\n",
            "60000/60000 [==============================] - 9s 149us/step - loss: 0.0248 - acc: 0.9926 - val_loss: 0.0245 - val_acc: 0.9931\n",
            "\n",
            "Epoch 00029: val_acc did not improve from 0.99380\n",
            "Epoch 30/40\n",
            "\n",
            "Epoch 00030: LearningRateScheduler setting learning rate to 0.0024999999441206455.\n",
            "60000/60000 [==============================] - 9s 149us/step - loss: 0.0234 - acc: 0.9926 - val_loss: 0.0250 - val_acc: 0.9935\n",
            "\n",
            "Epoch 00030: val_acc did not improve from 0.99380\n",
            "Epoch 31/40\n",
            "\n",
            "Epoch 00031: LearningRateScheduler setting learning rate to 0.0012499999720603228.\n",
            "60000/60000 [==============================] - 9s 149us/step - loss: 0.0198 - acc: 0.9939 - val_loss: 0.0255 - val_acc: 0.9940\n",
            "\n",
            "Epoch 00031: val_acc improved from 0.99380 to 0.99400, saving model to /content/gdrive/My Drive/EVA/S5/epochs:031-val_acc:0.9940.hdf5\n",
            "Epoch 32/40\n",
            "\n",
            "Epoch 00032: LearningRateScheduler setting learning rate to 0.0012499999720603228.\n",
            "60000/60000 [==============================] - 9s 149us/step - loss: 0.0192 - acc: 0.9942 - val_loss: 0.0235 - val_acc: 0.9937\n",
            "\n",
            "Epoch 00032: val_acc did not improve from 0.99400\n",
            "Epoch 33/40\n",
            "\n",
            "Epoch 00033: LearningRateScheduler setting learning rate to 0.0012499999720603228.\n",
            "60000/60000 [==============================] - 9s 151us/step - loss: 0.0196 - acc: 0.9940 - val_loss: 0.0242 - val_acc: 0.9936\n",
            "\n",
            "Epoch 00033: val_acc did not improve from 0.99400\n",
            "Epoch 34/40\n",
            "\n",
            "Epoch 00034: LearningRateScheduler setting learning rate to 0.0012499999720603228.\n",
            "60000/60000 [==============================] - 9s 152us/step - loss: 0.0203 - acc: 0.9938 - val_loss: 0.0235 - val_acc: 0.9936\n",
            "\n",
            "Epoch 00034: val_acc did not improve from 0.99400\n",
            "Epoch 35/40\n",
            "\n",
            "Epoch 00035: LearningRateScheduler setting learning rate to 0.0012499999720603228.\n",
            "60000/60000 [==============================] - 9s 149us/step - loss: 0.0184 - acc: 0.9944 - val_loss: 0.0227 - val_acc: 0.9938\n",
            "\n",
            "Epoch 00035: val_acc did not improve from 0.99400\n",
            "Epoch 36/40\n",
            "\n",
            "Epoch 00036: LearningRateScheduler setting learning rate to 0.0012499999720603228.\n",
            "60000/60000 [==============================] - 9s 150us/step - loss: 0.0199 - acc: 0.9939 - val_loss: 0.0238 - val_acc: 0.9939\n",
            "\n",
            "Epoch 00036: val_acc did not improve from 0.99400\n",
            "Epoch 37/40\n",
            "\n",
            "Epoch 00037: LearningRateScheduler setting learning rate to 0.0012499999720603228.\n",
            "60000/60000 [==============================] - 9s 149us/step - loss: 0.0198 - acc: 0.9939 - val_loss: 0.0234 - val_acc: 0.9940\n",
            "\n",
            "Epoch 00037: val_acc did not improve from 0.99400\n",
            "Epoch 38/40\n",
            "\n",
            "Epoch 00038: LearningRateScheduler setting learning rate to 0.0012499999720603228.\n",
            "60000/60000 [==============================] - 9s 149us/step - loss: 0.0195 - acc: 0.9942 - val_loss: 0.0253 - val_acc: 0.9935\n",
            "\n",
            "Epoch 00038: val_acc did not improve from 0.99400\n",
            "Epoch 39/40\n",
            "\n",
            "Epoch 00039: LearningRateScheduler setting learning rate to 0.0012499999720603228.\n",
            "60000/60000 [==============================] - 9s 149us/step - loss: 0.0189 - acc: 0.9946 - val_loss: 0.0239 - val_acc: 0.9937\n",
            "\n",
            "Epoch 00039: val_acc did not improve from 0.99400\n",
            "Epoch 40/40\n",
            "\n",
            "Epoch 00040: LearningRateScheduler setting learning rate to 0.0012499999720603228.\n",
            "60000/60000 [==============================] - 9s 150us/step - loss: 0.0185 - acc: 0.9944 - val_loss: 0.0245 - val_acc: 0.9938\n",
            "\n",
            "Epoch 00040: val_acc did not improve from 0.99400\n"
          ],
          "name": "stdout"
        },
        {
          "output_type": "execute_result",
          "data": {
            "text/plain": [
              "<keras.callbacks.History at 0x7fb998930c50>"
            ]
          },
          "metadata": {
            "tags": []
          },
          "execution_count": 82
        }
      ]
    },
    {
      "cell_type": "markdown",
      "metadata": {
        "id": "KYRREmNZBit1",
        "colab_type": "text"
      },
      "source": [
        "### Load the best model and evaluate on test data"
      ]
    },
    {
      "cell_type": "code",
      "metadata": {
        "id": "W2F73tm1BnVu",
        "colab_type": "code",
        "colab": {}
      },
      "source": [
        "from keras.models import load_model\n",
        "# Take the best saved model as printed in the above code block\n",
        "modelPath = r'/content/gdrive/My Drive/EVA/S5/epochs:031-val_acc:0.9940.hdf5'\n",
        "model = load_model(modelPath, custom_objects={'cross_entropy_regularized': cross_entropy_regularized})"
      ],
      "execution_count": 0,
      "outputs": []
    },
    {
      "cell_type": "code",
      "metadata": {
        "id": "AtsH-lLk-eLb",
        "colab_type": "code",
        "colab": {}
      },
      "source": [
        "score = model.evaluate(X_test, Y_test, verbose=0)"
      ],
      "execution_count": 0,
      "outputs": []
    },
    {
      "cell_type": "code",
      "metadata": {
        "id": "mkX8JMv79q9r",
        "colab_type": "code",
        "outputId": "8ebe77f2-ae2b-46ef-d743-db1a1d148ba5",
        "colab": {
          "base_uri": "https://localhost:8080/",
          "height": 34
        }
      },
      "source": [
        "print(score)"
      ],
      "execution_count": 86,
      "outputs": [
        {
          "output_type": "stream",
          "text": [
            "[0.025523153445162462, 0.994]\n"
          ],
          "name": "stdout"
        }
      ]
    },
    {
      "cell_type": "code",
      "metadata": {
        "id": "OCWoJkwE9suh",
        "colab_type": "code",
        "colab": {}
      },
      "source": [
        "y_pred = model.predict(X_test)"
      ],
      "execution_count": 0,
      "outputs": []
    },
    {
      "cell_type": "code",
      "metadata": {
        "id": "Ym7iCFBm9uBs",
        "colab_type": "code",
        "outputId": "22c3e1f5-c119-4c91-a213-74b71629d2b6",
        "colab": {
          "base_uri": "https://localhost:8080/",
          "height": 493
        }
      },
      "source": [
        "print(y_pred[:9])\n",
        "print(y_test[:9])"
      ],
      "execution_count": 88,
      "outputs": [
        {
          "output_type": "stream",
          "text": [
            "[[4.65039564e-16 1.15517560e-08 5.45614540e-08 7.41692219e-09\n",
            "  5.10724709e-12 2.58275901e-11 3.19544441e-18 9.99999881e-01\n",
            "  2.11946068e-11 2.45163410e-08]\n",
            " [3.07802169e-04 9.65067829e-06 9.99544799e-01 1.40592675e-08\n",
            "  4.42000419e-06 7.53273923e-08 1.27561652e-04 1.40242939e-11\n",
            "  5.74091746e-06 4.82061474e-11]\n",
            " [4.98757091e-10 9.99991894e-01 1.19208989e-08 1.92113312e-08\n",
            "  2.22140488e-06 3.70851988e-10 5.84984550e-09 5.10580412e-06\n",
            "  1.07159508e-08 6.47697448e-07]\n",
            " [9.99950647e-01 3.82810006e-09 1.76136527e-05 1.57829191e-07\n",
            "  5.32357625e-09 2.57428542e-06 1.39674457e-05 1.04905693e-08\n",
            "  8.58732801e-06 6.46171839e-06]\n",
            " [7.68680120e-11 6.65476776e-08 1.72309509e-08 4.76098924e-14\n",
            "  9.99999642e-01 1.52892740e-10 5.81728665e-10 2.81433081e-08\n",
            "  1.79921023e-09 2.84056313e-07]\n",
            " [9.03235334e-11 9.99989986e-01 2.13155915e-09 6.58607080e-09\n",
            "  2.19323329e-06 1.08179431e-10 1.34861311e-09 7.13648797e-06\n",
            "  2.96251135e-09 6.73494924e-07]\n",
            " [4.50936895e-13 2.90265871e-06 2.50935406e-09 6.43170239e-12\n",
            "  9.99974489e-01 3.07768699e-09 4.15810355e-12 2.02448464e-05\n",
            "  2.17811946e-09 2.38037524e-06]\n",
            " [1.14045731e-10 2.45217464e-08 7.48810578e-08 2.24956391e-08\n",
            "  2.20042784e-02 1.69103327e-08 3.57085056e-10 3.16355836e-05\n",
            "  3.85297744e-06 9.77960050e-01]\n",
            " [9.78160841e-08 6.76182721e-11 1.44846455e-08 1.13371027e-06\n",
            "  2.64764548e-08 9.77959156e-01 2.19379421e-02 4.77725581e-10\n",
            "  9.97150491e-05 1.89703815e-06]]\n",
            "[7 2 1 0 4 1 4 9 5]\n"
          ],
          "name": "stdout"
        }
      ]
    },
    {
      "cell_type": "code",
      "metadata": {
        "id": "dfx3DufnHNFt",
        "colab_type": "code",
        "colab": {}
      },
      "source": [
        "y_pred_digits=np.argmax(y_pred,axis=1)"
      ],
      "execution_count": 0,
      "outputs": []
    },
    {
      "cell_type": "code",
      "metadata": {
        "id": "eUHkl4VrHfSr",
        "colab_type": "code",
        "colab": {
          "base_uri": "https://localhost:8080/",
          "height": 34
        },
        "outputId": "07b5b877-e706-4528-9e93-dfb2c2c0d4bc"
      },
      "source": [
        "y_pred_digits[:9]"
      ],
      "execution_count": 90,
      "outputs": [
        {
          "output_type": "execute_result",
          "data": {
            "text/plain": [
              "array([7, 2, 1, 0, 4, 1, 4, 9, 5])"
            ]
          },
          "metadata": {
            "tags": []
          },
          "execution_count": 90
        }
      ]
    },
    {
      "cell_type": "markdown",
      "metadata": {
        "id": "M9sv0aAzZ2wT",
        "colab_type": "text"
      },
      "source": [
        "### Display and Download 26 misclassified images"
      ]
    },
    {
      "cell_type": "code",
      "metadata": {
        "id": "HbNkMCklH_Xu",
        "colab_type": "code",
        "colab": {}
      },
      "source": [
        "mis_class=[]\n",
        "\n",
        "i=0\n",
        "for i in range(len(y_test)):\n",
        "    if(y_test[i]) != y_pred_digits[i]:\n",
        "        mis_class.append(i)\n",
        "    if(len(mis_class)==26):\n",
        "        break"
      ],
      "execution_count": 0,
      "outputs": []
    },
    {
      "cell_type": "code",
      "metadata": {
        "id": "KjzKFFLlIoN7",
        "colab_type": "code",
        "colab": {}
      },
      "source": [
        "import matplotlib.pyplot as plt\n",
        "from matplotlib import style\n",
        "import seaborn as sns\n",
        " \n",
        "%matplotlib inline  \n",
        "style.use('fivethirtyeight')\n",
        "sns.set(style='whitegrid',color_codes=True)"
      ],
      "execution_count": 0,
      "outputs": []
    },
    {
      "cell_type": "code",
      "metadata": {
        "id": "5UPEtT5zIdCY",
        "colab_type": "code",
        "colab": {
          "base_uri": "https://localhost:8080/",
          "height": 3605
        },
        "outputId": "4e81b523-9fe3-4312-a746-890061d490bf"
      },
      "source": [
        "count=0\n",
        "fig,ax=plt.subplots(13,2)\n",
        "fig.set_size_inches(50,50)\n",
        "for i in range (13):\n",
        "    for j in range (2):\n",
        "        ax[i,j].imshow(X_test_bkp[mis_class[count]])\n",
        "        ax[i,j].set_title(\"Predicted: \"+ str(y_pred_digits[mis_class[count]])+ \"\\n\" + \"Actual: \"+str(y_test[mis_class[count]]))\n",
        "        plt.tight_layout()\n",
        "        count+=1"
      ],
      "execution_count": 107,
      "outputs": [
        {
          "output_type": "display_data",
          "data": {
            "image/png": "[encoded data removed]",
            "text/plain": [
              "<Figure size 3600x3600 with 26 Axes>"
            ]
          },
          "metadata": {
            "tags": []
          }
        }
      ]
    },
    {
      "cell_type": "code",
      "metadata": {
        "id": "pfasWOP7QpAV",
        "colab_type": "code",
        "colab": {}
      },
      "source": [
        "from google.colab import files\n",
        "\n",
        "for i in range(26):\n",
        "  img_name = \"misclassified_image\" + str(mis_class[i]) + r'.png'\n",
        "  plt.imsave(img_name, X_test_bkp[mis_class[i]])\n",
        "  files.download(img_name)"
      ],
      "execution_count": 0,
      "outputs": []
    }
  ]
}